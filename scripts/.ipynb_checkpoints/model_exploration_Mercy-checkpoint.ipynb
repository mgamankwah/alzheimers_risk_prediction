{
 "cells": [
  {
   "cell_type": "code",
   "execution_count": 10,
   "metadata": {},
   "outputs": [],
   "source": [
    "import numpy as np\n",
    "import matplotlib.pyplot as plt\n",
    "import pandas as pd\n",
    "import seaborn as sns\n",
    "\n",
    "import xgboost as xgb\n",
    "from sklearn.model_selection import train_test_split\n",
    "from sklearn.metrics import root_mean_squared_error"
   ]
  },
  {
   "cell_type": "markdown",
   "metadata": {},
   "source": [
    "**Models to try**\n",
    "- Logistic regression\n",
    "- Random forest\n",
    "- xgboost\n",
    "- Adaptive Boost"
   ]
  },
  {
   "cell_type": "code",
   "execution_count": 11,
   "metadata": {},
   "outputs": [],
   "source": [
    "df_train = pd.read_csv(\"../data/kaggle_train.csv\") \n",
    "df_train_xgb = df_train.drop(columns=['DoctorInCharge'])\n",
    "y = df_train_xgb.Diagnosis\n",
    "X = df_train_xgb.drop(columns=['Diagnosis'])\n",
    "X_train, X_val, y_train, y_val = train_test_split(X, y, test_size=0.2, random_state=42)\n"
   ]
  },
  {
   "cell_type": "code",
   "execution_count": 49,
   "metadata": {},
   "outputs": [],
   "source": [
    "#models to explore\n",
    "from sklearn.linear_model import LogisticRegression\n",
    "from sklearn.ensemble import GradientBoostingClassifier\n",
    "from sklearn.ensemble import AdaBoostClassifier\n",
    "from sklearn.ensemble import RandomForestClassifier\n",
    "from xgboost import XGBClassifier\n",
    "from sklearn.metrics import mean_squared_error\n",
    "from sklearn.metrics import accuracy_score\n",
    "from sklearn.metrics import f1_score, classification_report\n",
    "\n",
    "\n",
    "mse = {}\n",
    "accuracy = {}\n",
    "f1 = {}\n",
    "models  = {\n",
    "   # 'lr' : LogisticRegression(max_iter = 200),\n",
    "    'gbc' : GradientBoostingClassifier(),\n",
    "    'xgbc' : XGBClassifier(),\n",
    "    'rfc'  :  RandomForestClassifier(random_state=42),\n",
    "    'adbc' : AdaBoostClassifier()\n",
    "}"
   ]
  },
  {
   "cell_type": "code",
   "execution_count": 53,
   "metadata": {},
   "outputs": [],
   "source": [
    "for name, model in models.items():\n",
    "    model.fit(X_train,y_train)\n",
    "    y_pred = model.predict(X_val)\n",
    "    mse[name] = mean_squared_error(y_val,y_pred)\n",
    "    accuracy[name] = accuracy_score(y_val, y_pred)\n",
    "    #f1[name] = f1_score(y_val, y_pred, average = 'weighted')\n",
    "\n"
   ]
  },
  {
   "cell_type": "code",
   "execution_count": 54,
   "metadata": {},
   "outputs": [
    {
     "name": "stdout",
     "output_type": "stream",
     "text": [
      "mean squared errors:\n",
      " {'gbc': 0.0377906976744186, 'xgbc': 0.0436046511627907, 'rfc': 0.055232558139534885, 'adbc': 0.07267441860465117} \n",
      "\n",
      " accuracies\n",
      ": {'gbc': 0.9622093023255814, 'xgbc': 0.9563953488372093, 'rfc': 0.9447674418604651, 'adbc': 0.9273255813953488}\n"
     ]
    }
   ],
   "source": [
    "print('mean squared errors:\\n',mse,'\\n\\n accuracies\\n:', accuracy)#, '\\n\\n F1 scores:\\n', f1)\n",
    "#print(f\"mean squared erros: {mse:.4f}\")"
   ]
  },
  {
   "cell_type": "code",
   "execution_count": 63,
   "metadata": {},
   "outputs": [],
   "source": [
    "from sklearn.preprocessing import StandardScaler\n",
    "\n",
    "# prepare standardize\n",
    "scaler = StandardScaler()\n",
    "scaler.fit(X)\n",
    "\n",
    "# standardize data\n",
    "X = scaler.transform(X)\n",
    "X_scale_tr, X_scale_val, y_scale_tr, y_scale_val = train_test_split(X, y, test_size=0.2, random_state=42)\n",
    "\n"
   ]
  },
  {
   "cell_type": "code",
   "execution_count": 64,
   "metadata": {},
   "outputs": [],
   "source": [
    "mse_sc = {}\n",
    "accuracy_sc = {}\n",
    "f1_sc = {}\n",
    "models  = {\n",
    "    #'lr' : LogisticRegression(max_iter = 200),\n",
    "    'gbc' : GradientBoostingClassifier(),\n",
    "    'xgbc' : XGBClassifier(),\n",
    "    'rfc'  :  RandomForestClassifier(random_state=42),\n",
    "    'adbc' : AdaBoostClassifier()\n",
    "}"
   ]
  },
  {
   "cell_type": "code",
   "execution_count": 65,
   "metadata": {},
   "outputs": [],
   "source": [
    "for name, model in models.items():\n",
    "    model.fit(X_scale_tr,y_scale_tr)\n",
    "    y_pred = model.predict(X_scale_val)\n",
    "    mse_sc[name] = mean_squared_error(y_scale_val,y_pred)\n",
    "    accuracy_sc[name] = accuracy_score(y_scale_val, y_pred)\n",
    "    #f1[name] = f1_score(y_val, y_pred, average = 'weighted')\n",
    "\n"
   ]
  },
  {
   "cell_type": "code",
   "execution_count": 66,
   "metadata": {},
   "outputs": [
    {
     "name": "stdout",
     "output_type": "stream",
     "text": [
      "mean squared errors:\n",
      " {'gbc': 0.0377906976744186, 'xgbc': 0.0436046511627907, 'rfc': 0.055232558139534885, 'adbc': 0.07267441860465117} \n",
      "\n",
      " accuracies\n",
      ": {'gbc': 0.9622093023255814, 'xgbc': 0.9563953488372093, 'rfc': 0.9447674418604651, 'adbc': 0.9273255813953488}\n"
     ]
    }
   ],
   "source": [
    "print('mean squared errors:\\n',mse_sc,'\\n\\n accuracies\\n:', accuracy_sc)#, '\\n\\n F1 scores:\\n', f1)\n",
    "    #f1[name] = f1_score(y_val, y_pred, average = 'weighted')\n"
   ]
  },
  {
   "cell_type": "markdown",
   "metadata": {},
   "source": [
    "**I seem to be having problems with the logistic regression model so I'll explore that below**"
   ]
  },
  {
   "cell_type": "code",
   "execution_count": 70,
   "metadata": {},
   "outputs": [
    {
     "name": "stdout",
     "output_type": "stream",
     "text": [
      "mse:  0.13953488372093023 accuracy:  0.8604651162790697\n"
     ]
    }
   ],
   "source": [
    "lr_model = LogisticRegression()\n",
    "lr_model.fit(X_scale_tr,y_scale_tr)\n",
    "lr_pred = lr_model.predict(X_scale_val)\n",
    "lr_mse_sc = mean_squared_error(y_scale_val, lr_pred)\n",
    "lr_acc_sc = accuracy_score(y_scale_val,lr_pred)\n",
    "print('mse: ', lr_mse_sc, 'accuracy: ', lr_acc_sc)"
   ]
  },
  {
   "cell_type": "markdown",
   "metadata": {},
   "source": [
    "**It seems the problem was the fact that I had not scaled the data earlier.  After scaling, the Logistic regression model works well but has a lower accuracy of 0.86 as a well as a relatively higher mean squared error.  We might end up using this as our baseline model.**"
   ]
  },
  {
   "cell_type": "code",
   "execution_count": null,
   "metadata": {},
   "outputs": [],
   "source": []
  }
 ],
 "metadata": {
  "kernelspec": {
   "display_name": "Python 3",
   "language": "python",
   "name": "python3"
  },
  "language_info": {
   "codemirror_mode": {
    "name": "ipython",
    "version": 3
   },
   "file_extension": ".py",
   "mimetype": "text/x-python",
   "name": "python",
   "nbconvert_exporter": "python",
   "pygments_lexer": "ipython3",
   "version": "3.12.9"
  }
 },
 "nbformat": 4,
 "nbformat_minor": 2
}
