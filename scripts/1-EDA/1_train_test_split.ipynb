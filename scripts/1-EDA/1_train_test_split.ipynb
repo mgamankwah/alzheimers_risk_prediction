{
 "cells": [
  {
   "cell_type": "code",
   "execution_count": 27,
   "id": "82ba4b6b-76a1-43be-97e4-97101a43b943",
   "metadata": {},
   "outputs": [],
   "source": [
    "import numpy as np\n",
    "import matplotlib.pyplot as plt\n",
    "import pandas as pd\n",
    "import seaborn as sns"
   ]
  },
  {
   "cell_type": "code",
   "execution_count": 29,
   "id": "b6b4035a-02b2-4bdd-b266-82d828a5ef02",
   "metadata": {},
   "outputs": [],
   "source": [
    "# Reading the traning and testing datasets\n",
    "kaggle_train = pd.read_csv(\"../../data/kaggle_train.csv\") \n",
    "kaggle_test = pd.read_csv(\"../../data/kaggle_test.csv\") "
   ]
  },
  {
   "cell_type": "code",
   "execution_count": 31,
   "id": "fe5eb9b1-da0c-4192-a24f-052716296a43",
   "metadata": {},
   "outputs": [],
   "source": [
    "## Spliting the training dataset\n",
    "from sklearn.model_selection import train_test_split\n",
    "\n",
    "## Making a stratified train test split\n",
    "df_train, df_test = train_test_split(kaggle_train, random_state= 123 , shuffle= True,\n",
    "                                     test_size=0.2, stratify=kaggle_train['Diagnosis'])"
   ]
  },
  {
   "cell_type": "code",
   "execution_count": 33,
   "id": "fda87874-2276-4a6c-9945-2c5747c6fb81",
   "metadata": {},
   "outputs": [
    {
     "data": {
      "image/png": "[encoded data removed]",
      "text/plain": [
       "<Figure size 640x480 with 1 Axes>"
      ]
     },
     "metadata": {},
     "output_type": "display_data"
    }
   ],
   "source": [
    "## Checking that target variable is well-distributed in both train and test sets\n",
    "\n",
    "plt.hist(df_train.Diagnosis)\n",
    "plt.hist(df_test.Diagnosis)\n",
    "\n",
    "plt.show()"
   ]
  },
  {
   "cell_type": "code",
   "execution_count": 35,
   "id": "0a68e268-bcab-4ad2-8777-b2987677583b",
   "metadata": {},
   "outputs": [],
   "source": [
    "## Exporting the split datasets\n",
    "\n",
    "df_train.to_csv('../../data/train_set.csv', index=False)\n",
    "\n",
    "df_test.to_csv('../../data/validation_set.csv',index=False)"
   ]
  },
  {
   "cell_type": "code",
   "execution_count": null,
   "id": "f8d5d4d6-ca01-4211-ac70-30ab5e120267",
   "metadata": {},
   "outputs": [],
   "source": []
  }
 ],
 "metadata": {
  "kernelspec": {
   "display_name": "Python [conda env:base] *",
   "language": "python",
   "name": "conda-base-py"
  },
  "language_info": {
   "codemirror_mode": {
    "name": "ipython",
    "version": 3
   },
   "file_extension": ".py",
   "mimetype": "text/x-python",
   "name": "python",
   "nbconvert_exporter": "python",
   "pygments_lexer": "ipython3",
   "version": "3.12.3"
  }
 },
 "nbformat": 4,
 "nbformat_minor": 5
}
