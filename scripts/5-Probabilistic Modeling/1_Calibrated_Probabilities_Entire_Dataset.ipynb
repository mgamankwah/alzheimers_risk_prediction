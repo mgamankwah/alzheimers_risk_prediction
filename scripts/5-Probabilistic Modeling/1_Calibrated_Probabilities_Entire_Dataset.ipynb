{
 "cells": [
  {
   "cell_type": "markdown",
   "id": "40ce134e-7c81-413c-85c0-02326c361dd0",
   "metadata": {},
   "source": [
    "# Introduction\n",
    "\n",
    "In this notebook, we shift from raw binary classification to a more nuanced and clinically relevant approach, predicting the risk of developing Alzheimer's disease as calibrated probabilities.\n",
    "\n",
    "We use our best-performing tuned AdaBoost classifier for the full dataset and calibrate the outputs. Calibration adjusts the model's raw confidence scores so they better reflect the true likelihood of a diagnosis.\n",
    "\n",
    "We start with isotonic regression, a flexible, non-parametric calibration method suited for large datasets. Then, we compare it with Platt scaling (sigmoid calibration), a parametric approach that fits a logistic curve, often more stable when data is limited.\n",
    "\n",
    "By comparing both methods, we can determine which provides the most reliable probabilistic outputs for assessing Alzheimer’s risk.\n",
    "\n",
    "Finally, we go a step further and map the resulting calibrated probabilities into clinically interpretable risk categories — such as Low, Medium, and High risk."
   ]
  },
  {
   "cell_type": "code",
   "execution_count": 26,
   "id": "0bf9429b-d136-4dfe-849b-34d52a48ef21",
   "metadata": {},
   "outputs": [],
   "source": [
    "import pandas as pd\n",
    "import numpy as np\n",
    "\n",
    "import matplotlib.pyplot as plt\n",
    "import seaborn as sns\n",
    "from seaborn import set_style\n",
    "\n",
    "set_style(\"whitegrid\")\n",
    "\n",
    "from sklearn.pipeline import Pipeline\n",
    "from sklearn.preprocessing import StandardScaler\n",
    "from sklearn.tree import DecisionTreeClassifier\n",
    "from sklearn.ensemble import AdaBoostClassifier\n",
    "from xgboost import XGBClassifier\n",
    "from sklearn.metrics import accuracy_score, precision_score, recall_score, f1_score, confusion_matrix\n",
    "from sklearn.model_selection import train_test_split, cross_val_score\n",
    "\n",
    "from sklearn.calibration import CalibratedClassifierCV, calibration_curve\n",
    "from sklearn.metrics import brier_score_loss, roc_auc_score, RocCurveDisplay"
   ]
  },
  {
   "cell_type": "markdown",
   "id": "d474fcc2-e7bf-43a9-b141-5b2ee1beba03",
   "metadata": {},
   "source": [
    "## Loading the data"
   ]
  },
  {
   "cell_type": "code",
   "execution_count": 28,
   "id": "fea4e130-b096-4fee-ad21-27ad3295c5cc",
   "metadata": {},
   "outputs": [
    {
     "data": {
      "text/html": [
       "<div>\n",
       "<style scoped>\n",
       "    .dataframe tbody tr th:only-of-type {\n",
       "        vertical-align: middle;\n",
       "    }\n",
       "\n",
       "    .dataframe tbody tr th {\n",
       "        vertical-align: top;\n",
       "    }\n",
       "\n",
       "    .dataframe thead th {\n",
       "        text-align: right;\n",
       "    }\n",
       "</style>\n",
       "<table border=\"1\" class=\"dataframe\">\n",
       "  <thead>\n",
       "    <tr style=\"text-align: right;\">\n",
       "      <th></th>\n",
       "      <th>Age</th>\n",
       "      <th>Gender</th>\n",
       "      <th>Ethnicity</th>\n",
       "      <th>EducationLevel</th>\n",
       "      <th>BMI</th>\n",
       "      <th>Smoking</th>\n",
       "      <th>AlcoholConsumption</th>\n",
       "      <th>PhysicalActivity</th>\n",
       "      <th>DietQuality</th>\n",
       "      <th>SleepQuality</th>\n",
       "      <th>...</th>\n",
       "      <th>FunctionalAssessment</th>\n",
       "      <th>MemoryComplaints</th>\n",
       "      <th>BehavioralProblems</th>\n",
       "      <th>ADL</th>\n",
       "      <th>Confusion</th>\n",
       "      <th>Disorientation</th>\n",
       "      <th>PersonalityChanges</th>\n",
       "      <th>DifficultyCompletingTasks</th>\n",
       "      <th>Forgetfulness</th>\n",
       "      <th>Diagnosis</th>\n",
       "    </tr>\n",
       "  </thead>\n",
       "  <tbody>\n",
       "    <tr>\n",
       "      <th>0</th>\n",
       "      <td>67</td>\n",
       "      <td>0</td>\n",
       "      <td>1</td>\n",
       "      <td>2</td>\n",
       "      <td>29.726811</td>\n",
       "      <td>1</td>\n",
       "      <td>15.642599</td>\n",
       "      <td>4.605988</td>\n",
       "      <td>7.871526</td>\n",
       "      <td>7.915239</td>\n",
       "      <td>...</td>\n",
       "      <td>6.088453</td>\n",
       "      <td>1</td>\n",
       "      <td>0</td>\n",
       "      <td>9.105791</td>\n",
       "      <td>0</td>\n",
       "      <td>0</td>\n",
       "      <td>0</td>\n",
       "      <td>0</td>\n",
       "      <td>0</td>\n",
       "      <td>0</td>\n",
       "    </tr>\n",
       "    <tr>\n",
       "      <th>1</th>\n",
       "      <td>76</td>\n",
       "      <td>1</td>\n",
       "      <td>1</td>\n",
       "      <td>2</td>\n",
       "      <td>36.169103</td>\n",
       "      <td>1</td>\n",
       "      <td>11.030414</td>\n",
       "      <td>9.534553</td>\n",
       "      <td>7.254090</td>\n",
       "      <td>4.364895</td>\n",
       "      <td>...</td>\n",
       "      <td>5.399515</td>\n",
       "      <td>1</td>\n",
       "      <td>0</td>\n",
       "      <td>4.725688</td>\n",
       "      <td>0</td>\n",
       "      <td>0</td>\n",
       "      <td>0</td>\n",
       "      <td>0</td>\n",
       "      <td>1</td>\n",
       "      <td>1</td>\n",
       "    </tr>\n",
       "    <tr>\n",
       "      <th>2</th>\n",
       "      <td>81</td>\n",
       "      <td>0</td>\n",
       "      <td>1</td>\n",
       "      <td>0</td>\n",
       "      <td>22.923111</td>\n",
       "      <td>0</td>\n",
       "      <td>9.314832</td>\n",
       "      <td>8.917378</td>\n",
       "      <td>3.807813</td>\n",
       "      <td>9.241849</td>\n",
       "      <td>...</td>\n",
       "      <td>4.594907</td>\n",
       "      <td>0</td>\n",
       "      <td>1</td>\n",
       "      <td>8.681801</td>\n",
       "      <td>0</td>\n",
       "      <td>0</td>\n",
       "      <td>0</td>\n",
       "      <td>0</td>\n",
       "      <td>0</td>\n",
       "      <td>1</td>\n",
       "    </tr>\n",
       "    <tr>\n",
       "      <th>3</th>\n",
       "      <td>90</td>\n",
       "      <td>0</td>\n",
       "      <td>1</td>\n",
       "      <td>3</td>\n",
       "      <td>31.430904</td>\n",
       "      <td>0</td>\n",
       "      <td>0.996496</td>\n",
       "      <td>7.108725</td>\n",
       "      <td>5.328610</td>\n",
       "      <td>4.977538</td>\n",
       "      <td>...</td>\n",
       "      <td>0.880355</td>\n",
       "      <td>0</td>\n",
       "      <td>0</td>\n",
       "      <td>7.805410</td>\n",
       "      <td>0</td>\n",
       "      <td>0</td>\n",
       "      <td>0</td>\n",
       "      <td>0</td>\n",
       "      <td>0</td>\n",
       "      <td>0</td>\n",
       "    </tr>\n",
       "    <tr>\n",
       "      <th>4</th>\n",
       "      <td>89</td>\n",
       "      <td>0</td>\n",
       "      <td>1</td>\n",
       "      <td>3</td>\n",
       "      <td>39.570099</td>\n",
       "      <td>0</td>\n",
       "      <td>1.576700</td>\n",
       "      <td>5.712014</td>\n",
       "      <td>1.026138</td>\n",
       "      <td>4.670244</td>\n",
       "      <td>...</td>\n",
       "      <td>0.293490</td>\n",
       "      <td>0</td>\n",
       "      <td>0</td>\n",
       "      <td>1.307295</td>\n",
       "      <td>0</td>\n",
       "      <td>0</td>\n",
       "      <td>0</td>\n",
       "      <td>0</td>\n",
       "      <td>1</td>\n",
       "      <td>1</td>\n",
       "    </tr>\n",
       "  </tbody>\n",
       "</table>\n",
       "<p>5 rows × 33 columns</p>\n",
       "</div>"
      ],
      "text/plain": [
       "   Age  Gender  Ethnicity  EducationLevel        BMI  Smoking  \\\n",
       "0   67       0          1               2  29.726811        1   \n",
       "1   76       1          1               2  36.169103        1   \n",
       "2   81       0          1               0  22.923111        0   \n",
       "3   90       0          1               3  31.430904        0   \n",
       "4   89       0          1               3  39.570099        0   \n",
       "\n",
       "   AlcoholConsumption  PhysicalActivity  DietQuality  SleepQuality  ...  \\\n",
       "0           15.642599          4.605988     7.871526      7.915239  ...   \n",
       "1           11.030414          9.534553     7.254090      4.364895  ...   \n",
       "2            9.314832          8.917378     3.807813      9.241849  ...   \n",
       "3            0.996496          7.108725     5.328610      4.977538  ...   \n",
       "4            1.576700          5.712014     1.026138      4.670244  ...   \n",
       "\n",
       "   FunctionalAssessment  MemoryComplaints  BehavioralProblems       ADL  \\\n",
       "0              6.088453                 1                   0  9.105791   \n",
       "1              5.399515                 1                   0  4.725688   \n",
       "2              4.594907                 0                   1  8.681801   \n",
       "3              0.880355                 0                   0  7.805410   \n",
       "4              0.293490                 0                   0  1.307295   \n",
       "\n",
       "   Confusion  Disorientation  PersonalityChanges  DifficultyCompletingTasks  \\\n",
       "0          0               0                   0                          0   \n",
       "1          0               0                   0                          0   \n",
       "2          0               0                   0                          0   \n",
       "3          0               0                   0                          0   \n",
       "4          0               0                   0                          0   \n",
       "\n",
       "   Forgetfulness  Diagnosis  \n",
       "0              0          0  \n",
       "1              1          1  \n",
       "2              0          1  \n",
       "3              0          0  \n",
       "4              1          1  \n",
       "\n",
       "[5 rows x 33 columns]"
      ]
     },
     "execution_count": 28,
     "metadata": {},
     "output_type": "execute_result"
    }
   ],
   "source": [
    "## Reading the traning and testing datasets\n",
    "df_train = pd.read_csv(\"../../data/train_set.csv\")\n",
    "df_test = pd.read_csv(\"../../data/validation_set.csv\")\n",
    "\n",
    "## Dropping redundant columns\n",
    "df_train = df_train.drop(columns = ['DoctorInCharge' , 'PatientID' ])\n",
    "df_test = df_test.drop(columns = ['DoctorInCharge' , 'PatientID' ])\n",
    "\n",
    "df_train.head()"
   ]
  },
  {
   "cell_type": "code",
   "execution_count": 30,
   "id": "4384392d-762e-4eac-9848-7a9818bc76ed",
   "metadata": {},
   "outputs": [],
   "source": [
    "## Seperating features into subcategories\n",
    "\n",
    "all_features = ['Age', 'Gender', 'Ethnicity', 'EducationLevel', 'BMI',\n",
    "               'Smoking', 'AlcoholConsumption', 'PhysicalActivity', 'DietQuality',\n",
    "               'SleepQuality', 'FamilyHistoryAlzheimers', 'CardiovascularDisease',\n",
    "               'Diabetes', 'Depression', 'HeadInjury', 'Hypertension', 'SystolicBP',\n",
    "               'DiastolicBP', 'CholesterolTotal', 'CholesterolLDL', 'CholesterolHDL',\n",
    "               'CholesterolTriglycerides', 'MMSE', 'FunctionalAssessment',\n",
    "               'MemoryComplaints', 'BehavioralProblems', 'ADL', 'Confusion',\n",
    "               'Disorientation', 'PersonalityChanges', 'DifficultyCompletingTasks',\n",
    "               'Forgetfulness' , 'Diagnosis']\n",
    "demo_features = ['Age', 'Gender', 'Ethnicity','EducationLevel','Diagnosis']\n",
    "life_style_features = ['BMI','Smoking', 'AlcoholConsumption', 'PhysicalActivity', 'DietQuality', 'SleepQuality','Diagnosis']\n",
    "medic_hist_features = ['FamilyHistoryAlzheimers', 'CardiovascularDisease','Diabetes', 'Depression', 'HeadInjury', 'Hypertension','Diagnosis']\n",
    "clinical_features = ['SystolicBP','DiastolicBP', 'CholesterolTotal', 'CholesterolLDL', 'CholesterolHDL','CholesterolTriglycerides','Diagnosis']\n",
    "cognitive_features = ['MMSE', 'FunctionalAssessment','MemoryComplaints', 'BehavioralProblems', 'ADL','Diagnosis']\n",
    "symptoms_features = ['Confusion','Disorientation', 'PersonalityChanges', 'DifficultyCompletingTasks','Forgetfulness','Diagnosis']\n",
    "\n",
    "no_cognitive = [item for item in all_features if item not in cognitive_features]\n",
    "no_cognitive.append('Diagnosis')\n",
    "\n",
    "subcategory_dict = {'all_features' : all_features,'demo':demo_features ,'lifestyle': life_style_features , 'medic' : medic_hist_features , \n",
    "                    'clinical':clinical_features , 'cognitive': cognitive_features , 'symptoms': symptoms_features , 'no_cognitive': no_cognitive}"
   ]
  },
  {
   "cell_type": "markdown",
   "id": "cc857b25-b341-4ad7-9b90-89531d53c5af",
   "metadata": {},
   "source": [
    "## The tuned AdaBoost model\n",
    "\n",
    "Here, we use the manually recorded tuned parameters from our notebook [Model_Tuning_Entire_Set](https://github.com/mgamankwah/alzheimers_risk_prediction/blob/main/scripts/3-Model%20Tuning/1_Model_Tuning_Entire_Set_Seyed.ipynb)."
   ]
  },
  {
   "cell_type": "code",
   "execution_count": 32,
   "id": "25f6dde6-54b8-4bcd-8e74-6f5628a4ce30",
   "metadata": {},
   "outputs": [
    {
     "data": {
      "text/html": [
       "<style>#sk-container-id-4 {color: black;}#sk-container-id-4 pre{padding: 0;}#sk-container-id-4 div.sk-toggleable {background-color: white;}#sk-container-id-4 label.sk-toggleable__label {cursor: pointer;display: block;width: 100%;margin-bottom: 0;padding: 0.3em;box-sizing: border-box;text-align: center;}#sk-container-id-4 label.sk-toggleable__label-arrow:before {content: \"▸\";float: left;margin-right: 0.25em;color: #696969;}#sk-container-id-4 label.sk-toggleable__label-arrow:hover:before {color: black;}#sk-container-id-4 div.sk-estimator:hover label.sk-toggleable__label-arrow:before {color: black;}#sk-container-id-4 div.sk-toggleable__content {max-height: 0;max-width: 0;overflow: hidden;text-align: left;background-color: #f0f8ff;}#sk-container-id-4 div.sk-toggleable__content pre {margin: 0.2em;color: black;border-radius: 0.25em;background-color: #f0f8ff;}#sk-container-id-4 input.sk-toggleable__control:checked~div.sk-toggleable__content {max-height: 200px;max-width: 100%;overflow: auto;}#sk-container-id-4 input.sk-toggleable__control:checked~label.sk-toggleable__label-arrow:before {content: \"▾\";}#sk-container-id-4 div.sk-estimator input.sk-toggleable__control:checked~label.sk-toggleable__label {background-color: #d4ebff;}#sk-container-id-4 div.sk-label input.sk-toggleable__control:checked~label.sk-toggleable__label {background-color: #d4ebff;}#sk-container-id-4 input.sk-hidden--visually {border: 0;clip: rect(1px 1px 1px 1px);clip: rect(1px, 1px, 1px, 1px);height: 1px;margin: -1px;overflow: hidden;padding: 0;position: absolute;width: 1px;}#sk-container-id-4 div.sk-estimator {font-family: monospace;background-color: #f0f8ff;border: 1px dotted black;border-radius: 0.25em;box-sizing: border-box;margin-bottom: 0.5em;}#sk-container-id-4 div.sk-estimator:hover {background-color: #d4ebff;}#sk-container-id-4 div.sk-parallel-item::after {content: \"\";width: 100%;border-bottom: 1px solid gray;flex-grow: 1;}#sk-container-id-4 div.sk-label:hover label.sk-toggleable__label {background-color: #d4ebff;}#sk-container-id-4 div.sk-serial::before {content: \"\";position: absolute;border-left: 1px solid gray;box-sizing: border-box;top: 0;bottom: 0;left: 50%;z-index: 0;}#sk-container-id-4 div.sk-serial {display: flex;flex-direction: column;align-items: center;background-color: white;padding-right: 0.2em;padding-left: 0.2em;position: relative;}#sk-container-id-4 div.sk-item {position: relative;z-index: 1;}#sk-container-id-4 div.sk-parallel {display: flex;align-items: stretch;justify-content: center;background-color: white;position: relative;}#sk-container-id-4 div.sk-item::before, #sk-container-id-4 div.sk-parallel-item::before {content: \"\";position: absolute;border-left: 1px solid gray;box-sizing: border-box;top: 0;bottom: 0;left: 50%;z-index: -1;}#sk-container-id-4 div.sk-parallel-item {display: flex;flex-direction: column;z-index: 1;position: relative;background-color: white;}#sk-container-id-4 div.sk-parallel-item:first-child::after {align-self: flex-end;width: 50%;}#sk-container-id-4 div.sk-parallel-item:last-child::after {align-self: flex-start;width: 50%;}#sk-container-id-4 div.sk-parallel-item:only-child::after {width: 0;}#sk-container-id-4 div.sk-dashed-wrapped {border: 1px dashed gray;margin: 0 0.4em 0.5em 0.4em;box-sizing: border-box;padding-bottom: 0.4em;background-color: white;}#sk-container-id-4 div.sk-label label {font-family: monospace;font-weight: bold;display: inline-block;line-height: 1.2em;}#sk-container-id-4 div.sk-label-container {text-align: center;}#sk-container-id-4 div.sk-container {/* jupyter's `normalize.less` sets `[hidden] { display: none; }` but bootstrap.min.css set `[hidden] { display: none !important; }` so we also need the `!important` here to be able to override the default hidden behavior on the sphinx rendered scikit-learn.org. See: https://github.com/scikit-learn/scikit-learn/issues/21755 */display: inline-block !important;position: relative;}#sk-container-id-4 div.sk-text-repr-fallback {display: none;}</style><div id=\"sk-container-id-4\" class=\"sk-top-container\"><div class=\"sk-text-repr-fallback\"><pre>AdaBoostClassifier(estimator=DecisionTreeClassifier(criterion=&#x27;entropy&#x27;,\n",
       "                                                    max_depth=2,\n",
       "                                                    min_samples_split=19,\n",
       "                                                    random_state=123),\n",
       "                   learning_rate=0.26971280658002783, n_estimators=130,\n",
       "                   random_state=123)</pre><b>In a Jupyter environment, please rerun this cell to show the HTML representation or trust the notebook. <br />On GitHub, the HTML representation is unable to render, please try loading this page with nbviewer.org.</b></div><div class=\"sk-container\" hidden><div class=\"sk-item sk-dashed-wrapped\"><div class=\"sk-label-container\"><div class=\"sk-label sk-toggleable\"><input class=\"sk-toggleable__control sk-hidden--visually\" id=\"sk-estimator-id-12\" type=\"checkbox\" ><label for=\"sk-estimator-id-12\" class=\"sk-toggleable__label sk-toggleable__label-arrow\">AdaBoostClassifier</label><div class=\"sk-toggleable__content\"><pre>AdaBoostClassifier(estimator=DecisionTreeClassifier(criterion=&#x27;entropy&#x27;,\n",
       "                                                    max_depth=2,\n",
       "                                                    min_samples_split=19,\n",
       "                                                    random_state=123),\n",
       "                   learning_rate=0.26971280658002783, n_estimators=130,\n",
       "                   random_state=123)</pre></div></div></div><div class=\"sk-parallel\"><div class=\"sk-parallel-item\"><div class=\"sk-item\"><div class=\"sk-label-container\"><div class=\"sk-label sk-toggleable\"><input class=\"sk-toggleable__control sk-hidden--visually\" id=\"sk-estimator-id-13\" type=\"checkbox\" ><label for=\"sk-estimator-id-13\" class=\"sk-toggleable__label sk-toggleable__label-arrow\">estimator: DecisionTreeClassifier</label><div class=\"sk-toggleable__content\"><pre>DecisionTreeClassifier(criterion=&#x27;entropy&#x27;, max_depth=2, min_samples_split=19,\n",
       "                       random_state=123)</pre></div></div></div><div class=\"sk-serial\"><div class=\"sk-item\"><div class=\"sk-estimator sk-toggleable\"><input class=\"sk-toggleable__control sk-hidden--visually\" id=\"sk-estimator-id-14\" type=\"checkbox\" ><label for=\"sk-estimator-id-14\" class=\"sk-toggleable__label sk-toggleable__label-arrow\">DecisionTreeClassifier</label><div class=\"sk-toggleable__content\"><pre>DecisionTreeClassifier(criterion=&#x27;entropy&#x27;, max_depth=2, min_samples_split=19,\n",
       "                       random_state=123)</pre></div></div></div></div></div></div></div></div></div></div>"
      ],
      "text/plain": [
       "AdaBoostClassifier(estimator=DecisionTreeClassifier(criterion='entropy',\n",
       "                                                    max_depth=2,\n",
       "                                                    min_samples_split=19,\n",
       "                                                    random_state=123),\n",
       "                   learning_rate=0.26971280658002783, n_estimators=130,\n",
       "                   random_state=123)"
      ]
     },
     "execution_count": 32,
     "metadata": {},
     "output_type": "execute_result"
    }
   ],
   "source": [
    "# Best params from tuning\n",
    "model_tuned_tree_params = {\n",
    "    'criterion': 'entropy',\n",
    "    'max_depth': 2,\n",
    "    'min_samples_split': 19\n",
    "}\n",
    "model_tuned_ada_params = {\n",
    "    'n_estimators': 130,\n",
    "    'learning_rate': 0.26971280658002783,\n",
    "    'algorithm': 'SAMME.R'\n",
    "}\n",
    "\n",
    "# Tuned AdaBoost model for the entire dataset\n",
    "model_tuned_entire_dataset = AdaBoostClassifier(\n",
    "    **model_tuned_ada_params,\n",
    "    estimator=DecisionTreeClassifier(**model_tuned_tree_params, random_state=123),\n",
    "    random_state=123\n",
    ")\n",
    "\n",
    "model_tuned_entire_dataset.fit(df_train[all_features[:-1]], df_train.Diagnosis)"
   ]
  },
  {
   "cell_type": "markdown",
   "id": "64b083a1-963a-403e-a390-95d72ba94091",
   "metadata": {},
   "source": [
    "# Raw Probabilities (Uncalibrated)\n",
    "\n",
    "Before applying calibration techniques, we examined the raw probability outputs of the uncalibrated AdaBoost model. This helps assess how well the model’s original predicted probabilities align with actual outcome frequencies."
   ]
  },
  {
   "cell_type": "code",
   "execution_count": 34,
   "id": "fbef383f-c299-45e3-938a-fb8a93c5130c",
   "metadata": {},
   "outputs": [
    {
     "data": {
      "text/html": [
       "<div>\n",
       "<style scoped>\n",
       "    .dataframe tbody tr th:only-of-type {\n",
       "        vertical-align: middle;\n",
       "    }\n",
       "\n",
       "    .dataframe tbody tr th {\n",
       "        vertical-align: top;\n",
       "    }\n",
       "\n",
       "    .dataframe thead th {\n",
       "        text-align: right;\n",
       "    }\n",
       "</style>\n",
       "<table border=\"1\" class=\"dataframe\">\n",
       "  <thead>\n",
       "    <tr style=\"text-align: right;\">\n",
       "      <th></th>\n",
       "      <th>Diagnosis</th>\n",
       "      <th>uncalibrated_risk</th>\n",
       "    </tr>\n",
       "  </thead>\n",
       "  <tbody>\n",
       "    <tr>\n",
       "      <th>0</th>\n",
       "      <td>0</td>\n",
       "      <td>0.471845</td>\n",
       "    </tr>\n",
       "    <tr>\n",
       "      <th>1</th>\n",
       "      <td>1</td>\n",
       "      <td>0.507103</td>\n",
       "    </tr>\n",
       "    <tr>\n",
       "      <th>2</th>\n",
       "      <td>1</td>\n",
       "      <td>0.512039</td>\n",
       "    </tr>\n",
       "    <tr>\n",
       "      <th>3</th>\n",
       "      <td>0</td>\n",
       "      <td>0.408239</td>\n",
       "    </tr>\n",
       "    <tr>\n",
       "      <th>4</th>\n",
       "      <td>0</td>\n",
       "      <td>0.466923</td>\n",
       "    </tr>\n",
       "  </tbody>\n",
       "</table>\n",
       "</div>"
      ],
      "text/plain": [
       "   Diagnosis  uncalibrated_risk\n",
       "0          0           0.471845\n",
       "1          1           0.507103\n",
       "2          1           0.512039\n",
       "3          0           0.408239\n",
       "4          0           0.466923"
      ]
     },
     "execution_count": 34,
     "metadata": {},
     "output_type": "execute_result"
    }
   ],
   "source": [
    "# Predict raw probabilities on the test set from the uncalibrated AdaBoost model\n",
    "uncalibrated_probs = model_tuned_entire_dataset.predict_proba(df_test[all_features[:-1]])[:, 1]\n",
    "\n",
    "# Add to test dataframe for inspection\n",
    "df_test['uncalibrated_risk'] = uncalibrated_probs\n",
    "df_test[['Diagnosis', 'uncalibrated_risk']].head()"
   ]
  },
  {
   "cell_type": "markdown",
   "id": "510dc6dc-a98f-4eb6-a112-57f605c563aa",
   "metadata": {},
   "source": [
    "Next, we compare the uncalibrated probabilities with the ideally calibrated model (i.e., predicted probability = actual probability)."
   ]
  },
  {
   "cell_type": "code",
   "execution_count": 36,
   "id": "f941e4c0-0216-48eb-8cbe-14296295a91a",
   "metadata": {},
   "outputs": [
    {
     "data": {
      "image/png": "[encoded data removed]",
      "text/plain": [
       "<Figure size 700x600 with 1 Axes>"
      ]
     },
     "metadata": {},
     "output_type": "display_data"
    }
   ],
   "source": [
    "# Generate calibration curve values for uncalibrated model\n",
    "true_uncal, pred_uncal = calibration_curve(df_test.Diagnosis, df_test['uncalibrated_risk'], n_bins=10)\n",
    "\n",
    "# Plot calibration curve\n",
    "plt.figure(figsize=(7, 6))\n",
    "plt.plot(pred_uncal, true_uncal, marker='o', color='red', label='Uncalibrated Model')\n",
    "plt.plot([0, 1], [0, 1], linestyle='--', color='gray', label='Perfect Calibration')\n",
    "plt.xlabel('Predicted Probability')\n",
    "plt.ylabel('True Frequency')\n",
    "plt.title('Uncalibrated AdaBoost Model')\n",
    "plt.legend()\n",
    "plt.grid(True)\n",
    "plt.show()"
   ]
  },
  {
   "cell_type": "markdown",
   "id": "e38ee91a-8102-436e-8cc7-bbe17e3c456c",
   "metadata": {},
   "source": [
    "# Calibrated Probabilities\n",
    "\n",
    "We use isotonic and sigmoid calibration pipelines and compare them."
   ]
  },
  {
   "cell_type": "markdown",
   "id": "a8dcef2b-3711-435e-b3b1-a30aa9007c4e",
   "metadata": {},
   "source": [
    "## Isotonic Calibration Pipeline"
   ]
  },
  {
   "cell_type": "code",
   "execution_count": 38,
   "id": "c8d2ba81-41e4-47c3-b704-c328631f98f9",
   "metadata": {},
   "outputs": [
    {
     "data": {
      "text/html": [
       "<style>#sk-container-id-5 {color: black;}#sk-container-id-5 pre{padding: 0;}#sk-container-id-5 div.sk-toggleable {background-color: white;}#sk-container-id-5 label.sk-toggleable__label {cursor: pointer;display: block;width: 100%;margin-bottom: 0;padding: 0.3em;box-sizing: border-box;text-align: center;}#sk-container-id-5 label.sk-toggleable__label-arrow:before {content: \"▸\";float: left;margin-right: 0.25em;color: #696969;}#sk-container-id-5 label.sk-toggleable__label-arrow:hover:before {color: black;}#sk-container-id-5 div.sk-estimator:hover label.sk-toggleable__label-arrow:before {color: black;}#sk-container-id-5 div.sk-toggleable__content {max-height: 0;max-width: 0;overflow: hidden;text-align: left;background-color: #f0f8ff;}#sk-container-id-5 div.sk-toggleable__content pre {margin: 0.2em;color: black;border-radius: 0.25em;background-color: #f0f8ff;}#sk-container-id-5 input.sk-toggleable__control:checked~div.sk-toggleable__content {max-height: 200px;max-width: 100%;overflow: auto;}#sk-container-id-5 input.sk-toggleable__control:checked~label.sk-toggleable__label-arrow:before {content: \"▾\";}#sk-container-id-5 div.sk-estimator input.sk-toggleable__control:checked~label.sk-toggleable__label {background-color: #d4ebff;}#sk-container-id-5 div.sk-label input.sk-toggleable__control:checked~label.sk-toggleable__label {background-color: #d4ebff;}#sk-container-id-5 input.sk-hidden--visually {border: 0;clip: rect(1px 1px 1px 1px);clip: rect(1px, 1px, 1px, 1px);height: 1px;margin: -1px;overflow: hidden;padding: 0;position: absolute;width: 1px;}#sk-container-id-5 div.sk-estimator {font-family: monospace;background-color: #f0f8ff;border: 1px dotted black;border-radius: 0.25em;box-sizing: border-box;margin-bottom: 0.5em;}#sk-container-id-5 div.sk-estimator:hover {background-color: #d4ebff;}#sk-container-id-5 div.sk-parallel-item::after {content: \"\";width: 100%;border-bottom: 1px solid gray;flex-grow: 1;}#sk-container-id-5 div.sk-label:hover label.sk-toggleable__label {background-color: #d4ebff;}#sk-container-id-5 div.sk-serial::before {content: \"\";position: absolute;border-left: 1px solid gray;box-sizing: border-box;top: 0;bottom: 0;left: 50%;z-index: 0;}#sk-container-id-5 div.sk-serial {display: flex;flex-direction: column;align-items: center;background-color: white;padding-right: 0.2em;padding-left: 0.2em;position: relative;}#sk-container-id-5 div.sk-item {position: relative;z-index: 1;}#sk-container-id-5 div.sk-parallel {display: flex;align-items: stretch;justify-content: center;background-color: white;position: relative;}#sk-container-id-5 div.sk-item::before, #sk-container-id-5 div.sk-parallel-item::before {content: \"\";position: absolute;border-left: 1px solid gray;box-sizing: border-box;top: 0;bottom: 0;left: 50%;z-index: -1;}#sk-container-id-5 div.sk-parallel-item {display: flex;flex-direction: column;z-index: 1;position: relative;background-color: white;}#sk-container-id-5 div.sk-parallel-item:first-child::after {align-self: flex-end;width: 50%;}#sk-container-id-5 div.sk-parallel-item:last-child::after {align-self: flex-start;width: 50%;}#sk-container-id-5 div.sk-parallel-item:only-child::after {width: 0;}#sk-container-id-5 div.sk-dashed-wrapped {border: 1px dashed gray;margin: 0 0.4em 0.5em 0.4em;box-sizing: border-box;padding-bottom: 0.4em;background-color: white;}#sk-container-id-5 div.sk-label label {font-family: monospace;font-weight: bold;display: inline-block;line-height: 1.2em;}#sk-container-id-5 div.sk-label-container {text-align: center;}#sk-container-id-5 div.sk-container {/* jupyter's `normalize.less` sets `[hidden] { display: none; }` but bootstrap.min.css set `[hidden] { display: none !important; }` so we also need the `!important` here to be able to override the default hidden behavior on the sphinx rendered scikit-learn.org. See: https://github.com/scikit-learn/scikit-learn/issues/21755 */display: inline-block !important;position: relative;}#sk-container-id-5 div.sk-text-repr-fallback {display: none;}</style><div id=\"sk-container-id-5\" class=\"sk-top-container\"><div class=\"sk-text-repr-fallback\"><pre>CalibratedClassifierCV(cv=5,\n",
       "                       estimator=AdaBoostClassifier(estimator=DecisionTreeClassifier(criterion=&#x27;entropy&#x27;,\n",
       "                                                                                     max_depth=2,\n",
       "                                                                                     min_samples_split=19,\n",
       "                                                                                     random_state=123),\n",
       "                                                    learning_rate=0.26971280658002783,\n",
       "                                                    n_estimators=130,\n",
       "                                                    random_state=123),\n",
       "                       method=&#x27;isotonic&#x27;)</pre><b>In a Jupyter environment, please rerun this cell to show the HTML representation or trust the notebook. <br />On GitHub, the HTML representation is unable to render, please try loading this page with nbviewer.org.</b></div><div class=\"sk-container\" hidden><div class=\"sk-item sk-dashed-wrapped\"><div class=\"sk-label-container\"><div class=\"sk-label sk-toggleable\"><input class=\"sk-toggleable__control sk-hidden--visually\" id=\"sk-estimator-id-15\" type=\"checkbox\" ><label for=\"sk-estimator-id-15\" class=\"sk-toggleable__label sk-toggleable__label-arrow\">CalibratedClassifierCV</label><div class=\"sk-toggleable__content\"><pre>CalibratedClassifierCV(cv=5,\n",
       "                       estimator=AdaBoostClassifier(estimator=DecisionTreeClassifier(criterion=&#x27;entropy&#x27;,\n",
       "                                                                                     max_depth=2,\n",
       "                                                                                     min_samples_split=19,\n",
       "                                                                                     random_state=123),\n",
       "                                                    learning_rate=0.26971280658002783,\n",
       "                                                    n_estimators=130,\n",
       "                                                    random_state=123),\n",
       "                       method=&#x27;isotonic&#x27;)</pre></div></div></div><div class=\"sk-parallel\"><div class=\"sk-parallel-item\"><div class=\"sk-item\"><div class=\"sk-label-container\"><div class=\"sk-label sk-toggleable\"><input class=\"sk-toggleable__control sk-hidden--visually\" id=\"sk-estimator-id-16\" type=\"checkbox\" ><label for=\"sk-estimator-id-16\" class=\"sk-toggleable__label sk-toggleable__label-arrow\">estimator: AdaBoostClassifier</label><div class=\"sk-toggleable__content\"><pre>AdaBoostClassifier(estimator=DecisionTreeClassifier(criterion=&#x27;entropy&#x27;,\n",
       "                                                    max_depth=2,\n",
       "                                                    min_samples_split=19,\n",
       "                                                    random_state=123),\n",
       "                   learning_rate=0.26971280658002783, n_estimators=130,\n",
       "                   random_state=123)</pre></div></div></div><div class=\"sk-serial\"><div class=\"sk-item sk-dashed-wrapped\"><div class=\"sk-parallel\"><div class=\"sk-parallel-item\"><div class=\"sk-item\"><div class=\"sk-label-container\"><div class=\"sk-label sk-toggleable\"><input class=\"sk-toggleable__control sk-hidden--visually\" id=\"sk-estimator-id-17\" type=\"checkbox\" ><label for=\"sk-estimator-id-17\" class=\"sk-toggleable__label sk-toggleable__label-arrow\">estimator: DecisionTreeClassifier</label><div class=\"sk-toggleable__content\"><pre>DecisionTreeClassifier(criterion=&#x27;entropy&#x27;, max_depth=2, min_samples_split=19,\n",
       "                       random_state=123)</pre></div></div></div><div class=\"sk-serial\"><div class=\"sk-item\"><div class=\"sk-estimator sk-toggleable\"><input class=\"sk-toggleable__control sk-hidden--visually\" id=\"sk-estimator-id-18\" type=\"checkbox\" ><label for=\"sk-estimator-id-18\" class=\"sk-toggleable__label sk-toggleable__label-arrow\">DecisionTreeClassifier</label><div class=\"sk-toggleable__content\"><pre>DecisionTreeClassifier(criterion=&#x27;entropy&#x27;, max_depth=2, min_samples_split=19,\n",
       "                       random_state=123)</pre></div></div></div></div></div></div></div></div></div></div></div></div></div></div></div>"
      ],
      "text/plain": [
       "CalibratedClassifierCV(cv=5,\n",
       "                       estimator=AdaBoostClassifier(estimator=DecisionTreeClassifier(criterion='entropy',\n",
       "                                                                                     max_depth=2,\n",
       "                                                                                     min_samples_split=19,\n",
       "                                                                                     random_state=123),\n",
       "                                                    learning_rate=0.26971280658002783,\n",
       "                                                    n_estimators=130,\n",
       "                                                    random_state=123),\n",
       "                       method='isotonic')"
      ]
     },
     "execution_count": 38,
     "metadata": {},
     "output_type": "execute_result"
    }
   ],
   "source": [
    "calibrated_model_isotonic = CalibratedClassifierCV(estimator=model_tuned_entire_dataset, method='isotonic', cv=5)\n",
    "calibrated_model_isotonic.fit(df_train[all_features[:-1]], df_train.Diagnosis)"
   ]
  },
  {
   "cell_type": "code",
   "execution_count": 40,
   "id": "d15716f7-3101-4275-be1f-70ceeee2f2bd",
   "metadata": {},
   "outputs": [
    {
     "data": {
      "text/html": [
       "<div>\n",
       "<style scoped>\n",
       "    .dataframe tbody tr th:only-of-type {\n",
       "        vertical-align: middle;\n",
       "    }\n",
       "\n",
       "    .dataframe tbody tr th {\n",
       "        vertical-align: top;\n",
       "    }\n",
       "\n",
       "    .dataframe thead th {\n",
       "        text-align: right;\n",
       "    }\n",
       "</style>\n",
       "<table border=\"1\" class=\"dataframe\">\n",
       "  <thead>\n",
       "    <tr style=\"text-align: right;\">\n",
       "      <th></th>\n",
       "      <th>Diagnosis</th>\n",
       "      <th>alzheimers_risk_iso</th>\n",
       "    </tr>\n",
       "  </thead>\n",
       "  <tbody>\n",
       "    <tr>\n",
       "      <th>0</th>\n",
       "      <td>0</td>\n",
       "      <td>0.066837</td>\n",
       "    </tr>\n",
       "    <tr>\n",
       "      <th>1</th>\n",
       "      <td>1</td>\n",
       "      <td>0.711071</td>\n",
       "    </tr>\n",
       "    <tr>\n",
       "      <th>2</th>\n",
       "      <td>1</td>\n",
       "      <td>0.884134</td>\n",
       "    </tr>\n",
       "    <tr>\n",
       "      <th>3</th>\n",
       "      <td>0</td>\n",
       "      <td>0.035592</td>\n",
       "    </tr>\n",
       "    <tr>\n",
       "      <th>4</th>\n",
       "      <td>0</td>\n",
       "      <td>0.120600</td>\n",
       "    </tr>\n",
       "  </tbody>\n",
       "</table>\n",
       "</div>"
      ],
      "text/plain": [
       "   Diagnosis  alzheimers_risk_iso\n",
       "0          0             0.066837\n",
       "1          1             0.711071\n",
       "2          1             0.884134\n",
       "3          0             0.035592\n",
       "4          0             0.120600"
      ]
     },
     "execution_count": 40,
     "metadata": {},
     "output_type": "execute_result"
    }
   ],
   "source": [
    "# Predict calibrated probabilities on the test set\n",
    "calibrated_probs_isotonic = calibrated_model_isotonic.predict_proba(df_test[all_features[:-1]])[:, 1]  # Probability of class 1 (Alzheimer’s)\n",
    "\n",
    "# Add to test dataframe for inspection\n",
    "df_test['alzheimers_risk_iso'] = calibrated_probs_isotonic\n",
    "df_test[['Diagnosis', 'alzheimers_risk_iso']].head()"
   ]
  },
  {
   "cell_type": "markdown",
   "id": "aed3be49-faa1-4fea-819f-4089b72af152",
   "metadata": {},
   "source": [
    "## Sigmoid Calibration Pipeline (Platt Scaling)"
   ]
  },
  {
   "cell_type": "code",
   "execution_count": 42,
   "id": "ef88cf89-1cb9-46ab-a75e-58a601f874d0",
   "metadata": {},
   "outputs": [
    {
     "data": {
      "text/html": [
       "<style>#sk-container-id-6 {color: black;}#sk-container-id-6 pre{padding: 0;}#sk-container-id-6 div.sk-toggleable {background-color: white;}#sk-container-id-6 label.sk-toggleable__label {cursor: pointer;display: block;width: 100%;margin-bottom: 0;padding: 0.3em;box-sizing: border-box;text-align: center;}#sk-container-id-6 label.sk-toggleable__label-arrow:before {content: \"▸\";float: left;margin-right: 0.25em;color: #696969;}#sk-container-id-6 label.sk-toggleable__label-arrow:hover:before {color: black;}#sk-container-id-6 div.sk-estimator:hover label.sk-toggleable__label-arrow:before {color: black;}#sk-container-id-6 div.sk-toggleable__content {max-height: 0;max-width: 0;overflow: hidden;text-align: left;background-color: #f0f8ff;}#sk-container-id-6 div.sk-toggleable__content pre {margin: 0.2em;color: black;border-radius: 0.25em;background-color: #f0f8ff;}#sk-container-id-6 input.sk-toggleable__control:checked~div.sk-toggleable__content {max-height: 200px;max-width: 100%;overflow: auto;}#sk-container-id-6 input.sk-toggleable__control:checked~label.sk-toggleable__label-arrow:before {content: \"▾\";}#sk-container-id-6 div.sk-estimator input.sk-toggleable__control:checked~label.sk-toggleable__label {background-color: #d4ebff;}#sk-container-id-6 div.sk-label input.sk-toggleable__control:checked~label.sk-toggleable__label {background-color: #d4ebff;}#sk-container-id-6 input.sk-hidden--visually {border: 0;clip: rect(1px 1px 1px 1px);clip: rect(1px, 1px, 1px, 1px);height: 1px;margin: -1px;overflow: hidden;padding: 0;position: absolute;width: 1px;}#sk-container-id-6 div.sk-estimator {font-family: monospace;background-color: #f0f8ff;border: 1px dotted black;border-radius: 0.25em;box-sizing: border-box;margin-bottom: 0.5em;}#sk-container-id-6 div.sk-estimator:hover {background-color: #d4ebff;}#sk-container-id-6 div.sk-parallel-item::after {content: \"\";width: 100%;border-bottom: 1px solid gray;flex-grow: 1;}#sk-container-id-6 div.sk-label:hover label.sk-toggleable__label {background-color: #d4ebff;}#sk-container-id-6 div.sk-serial::before {content: \"\";position: absolute;border-left: 1px solid gray;box-sizing: border-box;top: 0;bottom: 0;left: 50%;z-index: 0;}#sk-container-id-6 div.sk-serial {display: flex;flex-direction: column;align-items: center;background-color: white;padding-right: 0.2em;padding-left: 0.2em;position: relative;}#sk-container-id-6 div.sk-item {position: relative;z-index: 1;}#sk-container-id-6 div.sk-parallel {display: flex;align-items: stretch;justify-content: center;background-color: white;position: relative;}#sk-container-id-6 div.sk-item::before, #sk-container-id-6 div.sk-parallel-item::before {content: \"\";position: absolute;border-left: 1px solid gray;box-sizing: border-box;top: 0;bottom: 0;left: 50%;z-index: -1;}#sk-container-id-6 div.sk-parallel-item {display: flex;flex-direction: column;z-index: 1;position: relative;background-color: white;}#sk-container-id-6 div.sk-parallel-item:first-child::after {align-self: flex-end;width: 50%;}#sk-container-id-6 div.sk-parallel-item:last-child::after {align-self: flex-start;width: 50%;}#sk-container-id-6 div.sk-parallel-item:only-child::after {width: 0;}#sk-container-id-6 div.sk-dashed-wrapped {border: 1px dashed gray;margin: 0 0.4em 0.5em 0.4em;box-sizing: border-box;padding-bottom: 0.4em;background-color: white;}#sk-container-id-6 div.sk-label label {font-family: monospace;font-weight: bold;display: inline-block;line-height: 1.2em;}#sk-container-id-6 div.sk-label-container {text-align: center;}#sk-container-id-6 div.sk-container {/* jupyter's `normalize.less` sets `[hidden] { display: none; }` but bootstrap.min.css set `[hidden] { display: none !important; }` so we also need the `!important` here to be able to override the default hidden behavior on the sphinx rendered scikit-learn.org. See: https://github.com/scikit-learn/scikit-learn/issues/21755 */display: inline-block !important;position: relative;}#sk-container-id-6 div.sk-text-repr-fallback {display: none;}</style><div id=\"sk-container-id-6\" class=\"sk-top-container\"><div class=\"sk-text-repr-fallback\"><pre>CalibratedClassifierCV(cv=5,\n",
       "                       estimator=AdaBoostClassifier(estimator=DecisionTreeClassifier(criterion=&#x27;entropy&#x27;,\n",
       "                                                                                     max_depth=2,\n",
       "                                                                                     min_samples_split=19,\n",
       "                                                                                     random_state=123),\n",
       "                                                    learning_rate=0.26971280658002783,\n",
       "                                                    n_estimators=130,\n",
       "                                                    random_state=123))</pre><b>In a Jupyter environment, please rerun this cell to show the HTML representation or trust the notebook. <br />On GitHub, the HTML representation is unable to render, please try loading this page with nbviewer.org.</b></div><div class=\"sk-container\" hidden><div class=\"sk-item sk-dashed-wrapped\"><div class=\"sk-label-container\"><div class=\"sk-label sk-toggleable\"><input class=\"sk-toggleable__control sk-hidden--visually\" id=\"sk-estimator-id-19\" type=\"checkbox\" ><label for=\"sk-estimator-id-19\" class=\"sk-toggleable__label sk-toggleable__label-arrow\">CalibratedClassifierCV</label><div class=\"sk-toggleable__content\"><pre>CalibratedClassifierCV(cv=5,\n",
       "                       estimator=AdaBoostClassifier(estimator=DecisionTreeClassifier(criterion=&#x27;entropy&#x27;,\n",
       "                                                                                     max_depth=2,\n",
       "                                                                                     min_samples_split=19,\n",
       "                                                                                     random_state=123),\n",
       "                                                    learning_rate=0.26971280658002783,\n",
       "                                                    n_estimators=130,\n",
       "                                                    random_state=123))</pre></div></div></div><div class=\"sk-parallel\"><div class=\"sk-parallel-item\"><div class=\"sk-item\"><div class=\"sk-label-container\"><div class=\"sk-label sk-toggleable\"><input class=\"sk-toggleable__control sk-hidden--visually\" id=\"sk-estimator-id-20\" type=\"checkbox\" ><label for=\"sk-estimator-id-20\" class=\"sk-toggleable__label sk-toggleable__label-arrow\">estimator: AdaBoostClassifier</label><div class=\"sk-toggleable__content\"><pre>AdaBoostClassifier(estimator=DecisionTreeClassifier(criterion=&#x27;entropy&#x27;,\n",
       "                                                    max_depth=2,\n",
       "                                                    min_samples_split=19,\n",
       "                                                    random_state=123),\n",
       "                   learning_rate=0.26971280658002783, n_estimators=130,\n",
       "                   random_state=123)</pre></div></div></div><div class=\"sk-serial\"><div class=\"sk-item sk-dashed-wrapped\"><div class=\"sk-parallel\"><div class=\"sk-parallel-item\"><div class=\"sk-item\"><div class=\"sk-label-container\"><div class=\"sk-label sk-toggleable\"><input class=\"sk-toggleable__control sk-hidden--visually\" id=\"sk-estimator-id-21\" type=\"checkbox\" ><label for=\"sk-estimator-id-21\" class=\"sk-toggleable__label sk-toggleable__label-arrow\">estimator: DecisionTreeClassifier</label><div class=\"sk-toggleable__content\"><pre>DecisionTreeClassifier(criterion=&#x27;entropy&#x27;, max_depth=2, min_samples_split=19,\n",
       "                       random_state=123)</pre></div></div></div><div class=\"sk-serial\"><div class=\"sk-item\"><div class=\"sk-estimator sk-toggleable\"><input class=\"sk-toggleable__control sk-hidden--visually\" id=\"sk-estimator-id-22\" type=\"checkbox\" ><label for=\"sk-estimator-id-22\" class=\"sk-toggleable__label sk-toggleable__label-arrow\">DecisionTreeClassifier</label><div class=\"sk-toggleable__content\"><pre>DecisionTreeClassifier(criterion=&#x27;entropy&#x27;, max_depth=2, min_samples_split=19,\n",
       "                       random_state=123)</pre></div></div></div></div></div></div></div></div></div></div></div></div></div></div></div>"
      ],
      "text/plain": [
       "CalibratedClassifierCV(cv=5,\n",
       "                       estimator=AdaBoostClassifier(estimator=DecisionTreeClassifier(criterion='entropy',\n",
       "                                                                                     max_depth=2,\n",
       "                                                                                     min_samples_split=19,\n",
       "                                                                                     random_state=123),\n",
       "                                                    learning_rate=0.26971280658002783,\n",
       "                                                    n_estimators=130,\n",
       "                                                    random_state=123))"
      ]
     },
     "execution_count": 42,
     "metadata": {},
     "output_type": "execute_result"
    }
   ],
   "source": [
    "calibrated_model_sigmoid = CalibratedClassifierCV(estimator=model_tuned_entire_dataset, method='sigmoid', cv=5)\n",
    "calibrated_model_sigmoid.fit(df_train[all_features[:-1]], df_train.Diagnosis)"
   ]
  },
  {
   "cell_type": "code",
   "execution_count": 44,
   "id": "b7e38b57-b177-4f15-8cd3-bbcae079a654",
   "metadata": {},
   "outputs": [
    {
     "data": {
      "text/html": [
       "<div>\n",
       "<style scoped>\n",
       "    .dataframe tbody tr th:only-of-type {\n",
       "        vertical-align: middle;\n",
       "    }\n",
       "\n",
       "    .dataframe tbody tr th {\n",
       "        vertical-align: top;\n",
       "    }\n",
       "\n",
       "    .dataframe thead th {\n",
       "        text-align: right;\n",
       "    }\n",
       "</style>\n",
       "<table border=\"1\" class=\"dataframe\">\n",
       "  <thead>\n",
       "    <tr style=\"text-align: right;\">\n",
       "      <th></th>\n",
       "      <th>Diagnosis</th>\n",
       "      <th>alzheimers_risk_sig</th>\n",
       "    </tr>\n",
       "  </thead>\n",
       "  <tbody>\n",
       "    <tr>\n",
       "      <th>0</th>\n",
       "      <td>0</td>\n",
       "      <td>0.189849</td>\n",
       "    </tr>\n",
       "    <tr>\n",
       "      <th>1</th>\n",
       "      <td>1</td>\n",
       "      <td>0.565853</td>\n",
       "    </tr>\n",
       "    <tr>\n",
       "      <th>2</th>\n",
       "      <td>1</td>\n",
       "      <td>0.675354</td>\n",
       "    </tr>\n",
       "    <tr>\n",
       "      <th>3</th>\n",
       "      <td>0</td>\n",
       "      <td>0.006624</td>\n",
       "    </tr>\n",
       "    <tr>\n",
       "      <th>4</th>\n",
       "      <td>0</td>\n",
       "      <td>0.206460</td>\n",
       "    </tr>\n",
       "  </tbody>\n",
       "</table>\n",
       "</div>"
      ],
      "text/plain": [
       "   Diagnosis  alzheimers_risk_sig\n",
       "0          0             0.189849\n",
       "1          1             0.565853\n",
       "2          1             0.675354\n",
       "3          0             0.006624\n",
       "4          0             0.206460"
      ]
     },
     "execution_count": 44,
     "metadata": {},
     "output_type": "execute_result"
    }
   ],
   "source": [
    "# Predict calibrated probabilities on the test set\n",
    "calibrated_probs_sigmoid = calibrated_model_sigmoid.predict_proba(df_test[all_features[:-1]])[:, 1]  # Probability of class 1 (Alzheimer’s)\n",
    "\n",
    "# Add to test dataframe for inspection\n",
    "df_test['alzheimers_risk_sig'] = calibrated_probs_sigmoid\n",
    "df_test[['Diagnosis', 'alzheimers_risk_sig']].head()"
   ]
  },
  {
   "cell_type": "markdown",
   "id": "03f78473-be35-474d-9249-bd3093724f6b",
   "metadata": {},
   "source": [
    "# Comaprison of Calibrated Models\n",
    "\n",
    "In this section, we compare the isotonic vs sigmoid calibrations on the basis of Brier scores and ROC-AUC."
   ]
  },
  {
   "cell_type": "code",
   "execution_count": 46,
   "id": "d94dae77-7455-4acb-ac60-1d85e45cafd2",
   "metadata": {},
   "outputs": [
    {
     "data": {
      "image/png": "[encoded data removed]",
      "text/plain": [
       "<Figure size 700x600 with 1 Axes>"
      ]
     },
     "metadata": {},
     "output_type": "display_data"
    },
    {
     "name": "stdout",
     "output_type": "stream",
     "text": [
      "Brier Score (Isotonic):     0.0439\n",
      "Brier Score (Sigmoid):      0.0618\n",
      "Brier Score (Uncalibrated): 0.2105\n",
      "ROC AUC Score (Isotonic):     0.9705\n",
      "ROC AUC Score (Sigmoid):      0.9761\n",
      "ROC AUC Score (Uncalibrated): 0.9761\n"
     ]
    }
   ],
   "source": [
    "# Calibration curve values\n",
    "true_iso, pred_iso = calibration_curve(df_test.Diagnosis, calibrated_probs_isotonic, n_bins=10)\n",
    "true_sigmoid, pred_sigmoid = calibration_curve(df_test.Diagnosis, calibrated_probs_sigmoid, n_bins=10)\n",
    "true_uncal, pred_uncal = calibration_curve(df_test.Diagnosis, df_test['uncalibrated_risk'], n_bins=10)\n",
    "\n",
    "# Plot all curves\n",
    "plt.figure(figsize=(7, 6))\n",
    "plt.plot(pred_iso, true_iso, marker='o', label='Isotonic Calibration')\n",
    "plt.plot(pred_sigmoid, true_sigmoid, marker='s', label='Sigmoid Calibration')\n",
    "plt.plot(pred_uncal, true_uncal, marker='^', color='red', label='Uncalibrated')\n",
    "plt.plot([0, 1], [0, 1], linestyle='--', color='gray', label='Perfect Calibration')\n",
    "\n",
    "plt.xlabel('Predicted Probability')\n",
    "plt.ylabel('True Frequency')\n",
    "plt.title('Calibration Curve: Calibrated vs Uncalibrated')\n",
    "plt.legend()\n",
    "plt.grid(True)\n",
    "plt.show()\n",
    "\n",
    "# Brier Scores (lower is better)\n",
    "brier_iso = brier_score_loss(df_test.Diagnosis, calibrated_probs_isotonic)\n",
    "brier_sigmoid = brier_score_loss(df_test.Diagnosis, calibrated_probs_sigmoid)\n",
    "brier_uncal = brier_score_loss(df_test.Diagnosis, df_test['uncalibrated_risk'])\n",
    "\n",
    "print(f\"Brier Score (Isotonic):     {brier_iso:.4f}\")\n",
    "print(f\"Brier Score (Sigmoid):      {brier_sigmoid:.4f}\")\n",
    "print(f\"Brier Score (Uncalibrated): {brier_uncal:.4f}\")\n",
    "\n",
    "# ROC AUC Scores (higher is better)\n",
    "roc_auc_iso = roc_auc_score(df_test.Diagnosis, calibrated_probs_isotonic)\n",
    "roc_auc_sigmoid = roc_auc_score(df_test.Diagnosis, calibrated_probs_sigmoid)\n",
    "roc_auc_uncal = roc_auc_score(df_test.Diagnosis, df_test['uncalibrated_risk'])\n",
    "\n",
    "print(f\"ROC AUC Score (Isotonic):     {roc_auc_iso:.4f}\")\n",
    "print(f\"ROC AUC Score (Sigmoid):      {roc_auc_sigmoid:.4f}\")\n",
    "print(f\"ROC AUC Score (Uncalibrated): {roc_auc_uncal:.4f}\")"
   ]
  },
  {
   "cell_type": "markdown",
   "id": "b5949658-53fb-4dcd-8a6c-d2610ab4b306",
   "metadata": {},
   "source": [
    "# Categorizing patients into Low/Medium/High risk groups\n",
    "\n",
    "We now define risk buckets to categorize patients into low/mediun/high risk groups. Here is a proposed thresholding scheme:\n",
    "\n",
    "- Low Risk: risk probability < 0.33\n",
    "- Medium Risk: 0.33 ≤ risk probability < 0.66\n",
    "- High Risk: risk probability ≥ 0.66\n",
    "\n",
    "We may adjust these cutoffs depending on how aggressive or conservative we want to be."
   ]
  },
  {
   "cell_type": "code",
   "execution_count": 50,
   "id": "155e54a4-7e35-464e-85b9-34a74946ed1a",
   "metadata": {},
   "outputs": [],
   "source": [
    "def assign_risk_group(prob):\n",
    "    if prob < 0.33:\n",
    "        return 'Low'\n",
    "    elif prob < 0.66:\n",
    "        return 'Medium'\n",
    "    else:\n",
    "        return 'High'"
   ]
  },
  {
   "cell_type": "markdown",
   "id": "a9717afe-2acc-4034-9edb-50bf9224a45f",
   "metadata": {},
   "source": [
    "## Confusion Matrix for Uncalibrated Probabilities"
   ]
  },
  {
   "cell_type": "code",
   "execution_count": 72,
   "id": "2dd1fe4c-d332-45b2-96b1-18f7f010bc33",
   "metadata": {},
   "outputs": [
    {
     "data": {
      "text/html": [
       "<div>\n",
       "<style scoped>\n",
       "    .dataframe tbody tr th:only-of-type {\n",
       "        vertical-align: middle;\n",
       "    }\n",
       "\n",
       "    .dataframe tbody tr th {\n",
       "        vertical-align: top;\n",
       "    }\n",
       "\n",
       "    .dataframe thead th {\n",
       "        text-align: right;\n",
       "    }\n",
       "</style>\n",
       "<table border=\"1\" class=\"dataframe\">\n",
       "  <thead>\n",
       "    <tr style=\"text-align: right;\">\n",
       "      <th></th>\n",
       "      <th>Diagnosis</th>\n",
       "      <th>uncalibrated_risk</th>\n",
       "      <th>risk_group</th>\n",
       "    </tr>\n",
       "  </thead>\n",
       "  <tbody>\n",
       "    <tr>\n",
       "      <th>0</th>\n",
       "      <td>0</td>\n",
       "      <td>0.471845</td>\n",
       "      <td>Medium</td>\n",
       "    </tr>\n",
       "    <tr>\n",
       "      <th>1</th>\n",
       "      <td>1</td>\n",
       "      <td>0.507103</td>\n",
       "      <td>Medium</td>\n",
       "    </tr>\n",
       "    <tr>\n",
       "      <th>2</th>\n",
       "      <td>1</td>\n",
       "      <td>0.512039</td>\n",
       "      <td>Medium</td>\n",
       "    </tr>\n",
       "    <tr>\n",
       "      <th>3</th>\n",
       "      <td>0</td>\n",
       "      <td>0.408239</td>\n",
       "      <td>Medium</td>\n",
       "    </tr>\n",
       "    <tr>\n",
       "      <th>4</th>\n",
       "      <td>0</td>\n",
       "      <td>0.466923</td>\n",
       "      <td>Medium</td>\n",
       "    </tr>\n",
       "  </tbody>\n",
       "</table>\n",
       "</div>"
      ],
      "text/plain": [
       "   Diagnosis  uncalibrated_risk risk_group\n",
       "0          0           0.471845     Medium\n",
       "1          1           0.507103     Medium\n",
       "2          1           0.512039     Medium\n",
       "3          0           0.408239     Medium\n",
       "4          0           0.466923     Medium"
      ]
     },
     "execution_count": 72,
     "metadata": {},
     "output_type": "execute_result"
    }
   ],
   "source": [
    "# Apply to the test set\n",
    "df_test['risk_group'] = df_test['uncalibrated_risk'].apply(assign_risk_group)\n",
    "df_test[['Diagnosis', 'uncalibrated_risk', 'risk_group']].head()"
   ]
  },
  {
   "cell_type": "code",
   "execution_count": 74,
   "id": "1af04fc1-68b9-4b75-a715-b5e0b844ae44",
   "metadata": {},
   "outputs": [
    {
     "data": {
      "image/png": "[encoded data removed]",
      "text/plain": [
       "<Figure size 300x300 with 2 Axes>"
      ]
     },
     "metadata": {},
     "output_type": "display_data"
    }
   ],
   "source": [
    "# Ensure risk_group is a categorical variable with proper ordering\n",
    "df_test['risk_group'] = pd.Categorical(\n",
    "    df_test['risk_group'],\n",
    "    categories=['Low', 'Medium', 'High'],\n",
    "    ordered=True\n",
    ")\n",
    "\n",
    "# Compute crosstab with correct row order\n",
    "risk_matrix = pd.crosstab(\n",
    "    df_test['risk_group'],\n",
    "    df_test['Diagnosis'],\n",
    "    rownames=['Predicted Risk Group'],\n",
    "    colnames=['Actual Diagnosis'],\n",
    "    dropna=False\n",
    ")\n",
    "\n",
    "# Plot heatmap\n",
    "fig, ax = plt.subplots(figsize=(3, 3)) \n",
    "sns.heatmap(risk_matrix, annot=True, fmt='d', cmap='YlGnBu',\n",
    "            ax=ax, linewidths=0.5, linecolor='white')\n",
    "ax.set_title(\"Confusion Matrix – (Uncalibrated) Risk Group vs Actual Diagnosis\")\n",
    "ax.set_xlabel(\"Actual Diagnosis\")\n",
    "ax.set_ylabel(\"Predicted Risk Group\")\n",
    "\n",
    "plt.tight_layout()\n",
    "plt.show()"
   ]
  },
  {
   "cell_type": "markdown",
   "id": "60f4b60f-76d1-488c-9782-30a80baa9067",
   "metadata": {},
   "source": [
    "## Confusion Matrix for Isotonic-Calibrated Probabilities"
   ]
  },
  {
   "cell_type": "code",
   "execution_count": 60,
   "id": "fdc94b69-6b24-4168-a886-935842b7d7cd",
   "metadata": {},
   "outputs": [
    {
     "data": {
      "text/html": [
       "<div>\n",
       "<style scoped>\n",
       "    .dataframe tbody tr th:only-of-type {\n",
       "        vertical-align: middle;\n",
       "    }\n",
       "\n",
       "    .dataframe tbody tr th {\n",
       "        vertical-align: top;\n",
       "    }\n",
       "\n",
       "    .dataframe thead th {\n",
       "        text-align: right;\n",
       "    }\n",
       "</style>\n",
       "<table border=\"1\" class=\"dataframe\">\n",
       "  <thead>\n",
       "    <tr style=\"text-align: right;\">\n",
       "      <th></th>\n",
       "      <th>Diagnosis</th>\n",
       "      <th>alzheimers_risk_iso</th>\n",
       "      <th>risk_group</th>\n",
       "    </tr>\n",
       "  </thead>\n",
       "  <tbody>\n",
       "    <tr>\n",
       "      <th>0</th>\n",
       "      <td>0</td>\n",
       "      <td>0.066837</td>\n",
       "      <td>Low</td>\n",
       "    </tr>\n",
       "    <tr>\n",
       "      <th>1</th>\n",
       "      <td>1</td>\n",
       "      <td>0.711071</td>\n",
       "      <td>High</td>\n",
       "    </tr>\n",
       "    <tr>\n",
       "      <th>2</th>\n",
       "      <td>1</td>\n",
       "      <td>0.884134</td>\n",
       "      <td>High</td>\n",
       "    </tr>\n",
       "    <tr>\n",
       "      <th>3</th>\n",
       "      <td>0</td>\n",
       "      <td>0.035592</td>\n",
       "      <td>Low</td>\n",
       "    </tr>\n",
       "    <tr>\n",
       "      <th>4</th>\n",
       "      <td>0</td>\n",
       "      <td>0.120600</td>\n",
       "      <td>Low</td>\n",
       "    </tr>\n",
       "  </tbody>\n",
       "</table>\n",
       "</div>"
      ],
      "text/plain": [
       "   Diagnosis  alzheimers_risk_iso risk_group\n",
       "0          0             0.066837        Low\n",
       "1          1             0.711071       High\n",
       "2          1             0.884134       High\n",
       "3          0             0.035592        Low\n",
       "4          0             0.120600        Low"
      ]
     },
     "execution_count": 60,
     "metadata": {},
     "output_type": "execute_result"
    }
   ],
   "source": [
    "# Apply to the test set\n",
    "df_test['risk_group'] = df_test['alzheimers_risk_iso'].apply(assign_risk_group)\n",
    "df_test[['Diagnosis', 'alzheimers_risk_iso', 'risk_group']].head()"
   ]
  },
  {
   "cell_type": "code",
   "execution_count": 62,
   "id": "5ac5de95-3804-4024-9355-04b1f5052a7e",
   "metadata": {},
   "outputs": [
    {
     "data": {
      "image/png": "[encoded data removed]",
      "text/plain": [
       "<Figure size 300x300 with 2 Axes>"
      ]
     },
     "metadata": {},
     "output_type": "display_data"
    }
   ],
   "source": [
    "# Ensure risk_group is a categorical variable with proper ordering\n",
    "df_test['risk_group'] = pd.Categorical(\n",
    "    df_test['risk_group'],\n",
    "    categories=['Low', 'Medium', 'High'],\n",
    "    ordered=True\n",
    ")\n",
    "\n",
    "# Compute crosstab with correct row order\n",
    "risk_matrix = pd.crosstab(\n",
    "    df_test['risk_group'],\n",
    "    df_test['Diagnosis'],\n",
    "    rownames=['Predicted Risk Group'],\n",
    "    colnames=['Actual Diagnosis']\n",
    ")\n",
    "\n",
    "# Plot heatmap\n",
    "fig, ax = plt.subplots(figsize=(3, 3)) \n",
    "sns.heatmap(risk_matrix, annot=True, fmt='d', cmap='YlGnBu',\n",
    "            ax=ax, linewidths=0.5, linecolor='white')\n",
    "ax.set_title(\"Confusion Matrix – (Isotonic) Risk Group vs Actual Diagnosis\")\n",
    "ax.set_xlabel(\"Actual Diagnosis\")\n",
    "ax.set_ylabel(\"Predicted Risk Group\")\n",
    "\n",
    "plt.tight_layout()\n",
    "plt.show()"
   ]
  },
  {
   "cell_type": "markdown",
   "id": "c4353521-a499-47fd-8dc0-52e639fb09f5",
   "metadata": {},
   "source": [
    "## Confusion Matrix for Sigmoid-Calibrated Probabilities"
   ]
  },
  {
   "cell_type": "code",
   "execution_count": 77,
   "id": "bb68eea4-7ef0-475b-952e-97ad68dbdfa5",
   "metadata": {},
   "outputs": [
    {
     "data": {
      "text/html": [
       "<div>\n",
       "<style scoped>\n",
       "    .dataframe tbody tr th:only-of-type {\n",
       "        vertical-align: middle;\n",
       "    }\n",
       "\n",
       "    .dataframe tbody tr th {\n",
       "        vertical-align: top;\n",
       "    }\n",
       "\n",
       "    .dataframe thead th {\n",
       "        text-align: right;\n",
       "    }\n",
       "</style>\n",
       "<table border=\"1\" class=\"dataframe\">\n",
       "  <thead>\n",
       "    <tr style=\"text-align: right;\">\n",
       "      <th></th>\n",
       "      <th>Diagnosis</th>\n",
       "      <th>alzheimers_risk_sig</th>\n",
       "      <th>risk_group</th>\n",
       "    </tr>\n",
       "  </thead>\n",
       "  <tbody>\n",
       "    <tr>\n",
       "      <th>0</th>\n",
       "      <td>0</td>\n",
       "      <td>0.189849</td>\n",
       "      <td>Low</td>\n",
       "    </tr>\n",
       "    <tr>\n",
       "      <th>1</th>\n",
       "      <td>1</td>\n",
       "      <td>0.565853</td>\n",
       "      <td>Medium</td>\n",
       "    </tr>\n",
       "    <tr>\n",
       "      <th>2</th>\n",
       "      <td>1</td>\n",
       "      <td>0.675354</td>\n",
       "      <td>High</td>\n",
       "    </tr>\n",
       "    <tr>\n",
       "      <th>3</th>\n",
       "      <td>0</td>\n",
       "      <td>0.006624</td>\n",
       "      <td>Low</td>\n",
       "    </tr>\n",
       "    <tr>\n",
       "      <th>4</th>\n",
       "      <td>0</td>\n",
       "      <td>0.206460</td>\n",
       "      <td>Low</td>\n",
       "    </tr>\n",
       "  </tbody>\n",
       "</table>\n",
       "</div>"
      ],
      "text/plain": [
       "   Diagnosis  alzheimers_risk_sig risk_group\n",
       "0          0             0.189849        Low\n",
       "1          1             0.565853     Medium\n",
       "2          1             0.675354       High\n",
       "3          0             0.006624        Low\n",
       "4          0             0.206460        Low"
      ]
     },
     "execution_count": 77,
     "metadata": {},
     "output_type": "execute_result"
    }
   ],
   "source": [
    "# Apply to the test set\n",
    "df_test['risk_group'] = df_test['alzheimers_risk_sig'].apply(assign_risk_group)\n",
    "df_test[['Diagnosis', 'alzheimers_risk_sig', 'risk_group']].head()"
   ]
  },
  {
   "cell_type": "code",
   "execution_count": 79,
   "id": "4a763709-0414-4167-8c09-df163061b862",
   "metadata": {},
   "outputs": [
    {
     "data": {
      "image/png": "[encoded data removed]",
      "text/plain": [
       "<Figure size 300x300 with 2 Axes>"
      ]
     },
     "metadata": {},
     "output_type": "display_data"
    }
   ],
   "source": [
    "# Ensure risk_group is a categorical variable with proper ordering\n",
    "df_test['risk_group'] = pd.Categorical(\n",
    "    df_test['risk_group'],\n",
    "    categories=['Low', 'Medium', 'High'],\n",
    "    ordered=True\n",
    ")\n",
    "\n",
    "# Compute crosstab with correct row order\n",
    "risk_matrix = pd.crosstab(\n",
    "    df_test['risk_group'],\n",
    "    df_test['Diagnosis'],\n",
    "    rownames=['Predicted Risk Group'],\n",
    "    colnames=['Actual Diagnosis']\n",
    ")\n",
    "\n",
    "# Plot heatmap\n",
    "fig, ax = plt.subplots(figsize=(3, 3)) \n",
    "sns.heatmap(risk_matrix, annot=True, fmt='d', cmap='YlGnBu',\n",
    "            ax=ax, linewidths=0.5, linecolor='white')\n",
    "ax.set_title(\"Confusion Matrix – (Sigmoid) Risk Group vs Actual Diagnosis\")\n",
    "ax.set_xlabel(\"Actual Diagnosis\")\n",
    "ax.set_ylabel(\"Predicted Risk Group\")\n",
    "\n",
    "plt.tight_layout()\n",
    "plt.show()"
   ]
  },
  {
   "cell_type": "markdown",
   "id": "c9652c6d-3795-41a0-96e0-5f94d6bf1eeb",
   "metadata": {},
   "source": [
    "# Conclusion\n",
    "\n",
    "- Our uncalibrated model ranks most patients as 'Medium' risk, and failed to identify even a single Alzheimer's patient as 'High' risk.\n",
    "- Isotonic calibration fixed that without hurting discrimination.\n",
    "- Isotonic increased the number of correct classifications of Alzheimer's patients as 'High' risk from 0 to 106, as opposed to sigmoid with only 89."
   ]
  }
 ],
 "metadata": {
  "kernelspec": {
   "display_name": "Python [conda env:base] *",
   "language": "python",
   "name": "conda-base-py"
  },
  "language_info": {
   "codemirror_mode": {
    "name": "ipython",
    "version": 3
   },
   "file_extension": ".py",
   "mimetype": "text/x-python",
   "name": "python",
   "nbconvert_exporter": "python",
   "pygments_lexer": "ipython3",
   "version": "3.12.7"
  }
 },
 "nbformat": 4,
 "nbformat_minor": 5
}
