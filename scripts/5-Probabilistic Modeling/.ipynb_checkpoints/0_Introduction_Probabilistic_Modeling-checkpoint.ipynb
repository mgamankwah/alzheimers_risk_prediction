{
 "cells": [
  {
   "cell_type": "markdown",
   "id": "25150df6-2ab7-4b27-8022-18bc1f24af75",
   "metadata": {},
   "source": [
    "# Introduction\n",
    "\n",
    "In medical decision-making, a probabilistic estimate of risk is often more informative and actionable than a binary classification. Instead of simply labeling patients as having or not having Alzheimer’s disease, we aimed to estimate their individual risk probabilities — enabling a more nuanced understanding of patient status and supporting early intervention.\n",
    "\n",
    "To this end, in this series of notebooks, we calibrate the output of our best performing (tuned) classification models to produce well-aligned probability estimates. We implemented two popular probability calibration techniques — sigmoid (Platt scaling) and isotonic regression — and evaluated their performance using Brier scores and ROC AUC. Across all metrics, isotonic calibration provided better-calibrated probabilities, leading to more reliable risk estimates.\n",
    "\n",
    "Based on these calibrated probabilities, we stratified patients into three risk categories:\n",
    "\n",
    "- Low risk: 0–33% probability\n",
    "- Medium risk: 34–66%\n",
    "- High risk: 67–100%\n",
    "\n",
    "This is done in both scenarios, once using the entire dataset and once using the restricted dataset of patients with no memory complaints.\n",
    "\n",
    "To deepen our understanding of how specific features impact risk, we also conducted an inferential analysis. We modeled the conditional probability of an Alzheimer’s diagnosis given key features, allowing us to trace how individual risk varies with different patient profiles. We compared these model-predicted risks to the empirical prevalence in the dataset, and observed strong alignment: patients with higher cognitive and functional assessment scores had consistently lower predicted risk, while the presence of symptoms such as memory complaints and behavioral changes was associated with elevated risk."
   ]
  }
 ],
 "metadata": {
  "kernelspec": {
   "display_name": "Python (erdos_spring_2025)",
   "language": "python",
   "name": "erdos_spring_2025"
  },
  "language_info": {
   "codemirror_mode": {
    "name": "ipython",
    "version": 3
   },
   "file_extension": ".py",
   "mimetype": "text/x-python",
   "name": "python",
   "nbconvert_exporter": "python",
   "pygments_lexer": "ipython3",
   "version": "3.12.8"
  }
 },
 "nbformat": 4,
 "nbformat_minor": 5
}
