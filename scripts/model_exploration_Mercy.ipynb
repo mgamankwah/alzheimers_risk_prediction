{
 "cells": [
  {
   "cell_type": "markdown",
   "metadata": {},
   "source": [
    "Date:  03/17//2025      \n",
    "Author:  Mercy Amankwah      \n",
    "Purpose:  Initial Model Exploration for the Kaggle Alzheimers' dataset. "
   ]
  },
  {
   "cell_type": "code",
   "execution_count": 1,
   "metadata": {},
   "outputs": [],
   "source": [
    "#data handling and plotting libraries\n",
    "import numpy as np\n",
    "import matplotlib.pyplot as plt\n",
    "import pandas as pd \n",
    "import seaborn as sns\n",
    "## Spliting the training dataset\n",
    "from sklearn.model_selection import train_test_split"
   ]
  },
  {
   "cell_type": "code",
   "execution_count": 2,
   "metadata": {},
   "outputs": [],
   "source": [
    "#load and split data\n",
    "df_train = pd.read_csv(\"../data/kaggle_train.csv\") \n",
    "df_train_xgb = df_train.drop(columns=['DoctorInCharge'])\n",
    "y = df_train_xgb.Diagnosis\n",
    "X = df_train_xgb.drop(columns=['Diagnosis'])\n",
    "X_train, X_val, y_train, y_val = train_test_split(X, y, test_size=0.2, random_state=42)\n"
   ]
  },
  {
   "cell_type": "markdown",
   "metadata": {},
   "source": [
    "## **Introduction**\n",
    "The models we explore in this notebook are: \n",
    "1. Logistic Regression\n",
    "2. Gradient Boosting classifier\n",
    "3. Adaptive Boosting classifier\n",
    "4. Random Forest classifier\n",
    "5. Extreme Gradient Boosting (XGBoost) classifier"
   ]
  },
  {
   "cell_type": "code",
   "execution_count": 3,
   "metadata": {},
   "outputs": [],
   "source": [
    "#importing libraries for models to explore and error metrics\n",
    "from sklearn.linear_model import LogisticRegression\n",
    "from sklearn.ensemble import GradientBoostingClassifier\n",
    "from sklearn.ensemble import AdaBoostClassifier\n",
    "from sklearn.ensemble import RandomForestClassifier\n",
    "from xgboost import XGBClassifier\n",
    "from sklearn.metrics import mean_squared_error\n",
    "from sklearn.metrics import accuracy_score\n",
    "from sklearn.metrics import f1_score, classification_report\n",
    "\n",
    "\n",
    "mse = {}\n",
    "accuracy = {}\n",
    "f1 = {}\n",
    "models  = {\n",
    "   # 'lr' : LogisticRegression(max_iter = 200),\n",
    "    'gbc' : GradientBoostingClassifier(),\n",
    "    'xgbc' : XGBClassifier(),\n",
    "    'rfc'  :  RandomForestClassifier(random_state=42),\n",
    "    'adbc' : AdaBoostClassifier()\n",
    "}"
   ]
  },
  {
   "cell_type": "markdown",
   "metadata": {},
   "source": [
    "### **Comparing across models for all features**"
   ]
  },
  {
   "cell_type": "code",
   "execution_count": 4,
   "metadata": {},
   "outputs": [
    {
     "name": "stderr",
     "output_type": "stream",
     "text": [
      "c:\\Users\\ladyj\\anaconda3\\envs\\erdos_spring_2025\\Lib\\site-packages\\sklearn\\ensemble\\_weight_boosting.py:527: FutureWarning: The SAMME.R algorithm (the default) is deprecated and will be removed in 1.6. Use the SAMME algorithm to circumvent this warning.\n",
      "  warnings.warn(\n"
     ]
    }
   ],
   "source": [
    "for name, model in models.items():\n",
    "    model.fit(X_train,y_train)\n",
    "    y_pred = model.predict(X_val)\n",
    "    mse[name] = mean_squared_error(y_val,y_pred)\n",
    "    accuracy[name] = accuracy_score(y_val, y_pred)\n",
    "    #f1[name] = f1_score(y_val, y_pred, average = 'weighted')\n",
    "\n"
   ]
  },
  {
   "cell_type": "code",
   "execution_count": 5,
   "metadata": {},
   "outputs": [
    {
     "name": "stdout",
     "output_type": "stream",
     "text": [
      "mean squared errors:\n",
      " {'gbc': np.float64(0.0377906976744186), 'xgbc': np.float64(0.0436046511627907), 'rfc': np.float64(0.055232558139534885), 'adbc': np.float64(0.07848837209302326)} \n",
      "\n",
      " accuracies\n",
      ": {'gbc': 0.9622093023255814, 'xgbc': 0.9563953488372093, 'rfc': 0.9447674418604651, 'adbc': 0.9215116279069767}\n"
     ]
    }
   ],
   "source": [
    "print('mean squared errors:\\n',mse,'\\n\\n accuracies\\n:', accuracy)#, '\\n\\n F1 scores:\\n', f1)\n",
    "#print(f\"mean squared erros: {mse:.4f}\")"
   ]
  },
  {
   "cell_type": "code",
   "execution_count": 6,
   "metadata": {},
   "outputs": [],
   "source": [
    "from sklearn.preprocessing import StandardScaler\n",
    "\n",
    "# prepare standardize\n",
    "scaler = StandardScaler()\n",
    "scaler.fit(X)\n",
    "\n",
    "# standardize data\n",
    "X = scaler.transform(X)\n",
    "X_scale_tr, X_scale_val, y_scale_tr, y_scale_val = train_test_split(X, y, test_size=0.2, random_state=42)\n",
    "\n"
   ]
  },
  {
   "cell_type": "code",
   "execution_count": 7,
   "metadata": {},
   "outputs": [],
   "source": [
    "mse_sc = {}\n",
    "accuracy_sc = {}\n",
    "f1_sc = {}\n",
    "models  = {\n",
    "    #'lr' : LogisticRegression(max_iter = 200),\n",
    "    'gbc' : GradientBoostingClassifier(),\n",
    "    'xgbc' : XGBClassifier(),\n",
    "    'rfc'  :  RandomForestClassifier(random_state=42),\n",
    "    'adbc' : AdaBoostClassifier()\n",
    "}"
   ]
  },
  {
   "cell_type": "code",
   "execution_count": 8,
   "metadata": {},
   "outputs": [
    {
     "name": "stderr",
     "output_type": "stream",
     "text": [
      "c:\\Users\\ladyj\\anaconda3\\envs\\erdos_spring_2025\\Lib\\site-packages\\sklearn\\ensemble\\_weight_boosting.py:527: FutureWarning: The SAMME.R algorithm (the default) is deprecated and will be removed in 1.6. Use the SAMME algorithm to circumvent this warning.\n",
      "  warnings.warn(\n"
     ]
    }
   ],
   "source": [
    "for name, model in models.items():\n",
    "    model.fit(X_scale_tr,y_scale_tr)\n",
    "    y_pred = model.predict(X_scale_val)\n",
    "    mse_sc[name] = mean_squared_error(y_scale_val,y_pred)\n",
    "    accuracy_sc[name] = accuracy_score(y_scale_val, y_pred)\n",
    "    #f1[name] = f1_score(y_val, y_pred, average = 'weighted')\n",
    "\n"
   ]
  },
  {
   "cell_type": "code",
   "execution_count": 9,
   "metadata": {},
   "outputs": [
    {
     "name": "stdout",
     "output_type": "stream",
     "text": [
      "mean squared errors:\n",
      " {'gbc': np.float64(0.0377906976744186), 'xgbc': np.float64(0.0436046511627907), 'rfc': np.float64(0.055232558139534885), 'adbc': np.float64(0.07848837209302326)} \n",
      "\n",
      " accuracies\n",
      ": {'gbc': 0.9622093023255814, 'xgbc': 0.9563953488372093, 'rfc': 0.9447674418604651, 'adbc': 0.9215116279069767}\n"
     ]
    }
   ],
   "source": [
    "print('mean squared errors:\\n',mse_sc,'\\n\\n accuracies\\n:', accuracy_sc)#, '\\n\\n F1 scores:\\n', f1)\n",
    "    #f1[name] = f1_score(y_val, y_pred, average = 'weighted')\n"
   ]
  },
  {
   "cell_type": "markdown",
   "metadata": {},
   "source": [
    "**I seem to be having problems with the logistic regression model so I'll explore that below**"
   ]
  },
  {
   "cell_type": "code",
   "execution_count": 10,
   "metadata": {},
   "outputs": [
    {
     "name": "stdout",
     "output_type": "stream",
     "text": [
      "mse:  0.13953488372093023 accuracy:  0.8604651162790697\n"
     ]
    }
   ],
   "source": [
    "lr_model = LogisticRegression()\n",
    "lr_model.fit(X_scale_tr,y_scale_tr)\n",
    "lr_pred = lr_model.predict(X_scale_val)\n",
    "lr_mse_sc = mean_squared_error(y_scale_val, lr_pred)\n",
    "lr_acc_sc = accuracy_score(y_scale_val,lr_pred)\n",
    "print('mse: ', lr_mse_sc, 'accuracy: ', lr_acc_sc)"
   ]
  },
  {
   "cell_type": "markdown",
   "metadata": {},
   "source": [
    "## **Comparing Model performance across various Subcategories of the features**"
   ]
  },
  {
   "cell_type": "code",
   "execution_count": 11,
   "metadata": {},
   "outputs": [],
   "source": [
    "#relevant packages\n",
    "\n",
    "from sklearn.pipeline import Pipeline\n",
    "from sklearn.preprocessing import StandardScaler\n",
    "from sklearn.metrics import accuracy_score, precision_score, recall_score, f1_score, confusion_matrix"
   ]
  },
  {
   "cell_type": "code",
   "execution_count": 12,
   "metadata": {},
   "outputs": [],
   "source": [
    "## Reading the traning and testing datasets\n",
    "df = pd.read_csv(\"../data/kaggle_train.csv\")\n",
    "\n",
    "## Dropping redundant columns\n",
    "df = df.drop(columns = ['DoctorInCharge' , 'PatientID' ])"
   ]
  },
  {
   "cell_type": "code",
   "execution_count": 13,
   "metadata": {},
   "outputs": [],
   "source": [
    "## Seperating features into subcategories\n",
    "\n",
    "all_features = [   'Age', 'Gender', 'Ethnicity', 'EducationLevel', 'BMI',\n",
    "               'Smoking', 'AlcoholConsumption', 'PhysicalActivity', 'DietQuality',\n",
    "               'SleepQuality', 'FamilyHistoryAlzheimers', 'CardiovascularDisease',\n",
    "               'Diabetes', 'Depression', 'HeadInjury', 'Hypertension', 'SystolicBP',\n",
    "               'DiastolicBP', 'CholesterolTotal', 'CholesterolLDL', 'CholesterolHDL',\n",
    "               'CholesterolTriglycerides', 'MMSE', 'FunctionalAssessment',\n",
    "               'MemoryComplaints', 'BehavioralProblems', 'ADL', 'Confusion',\n",
    "               'Disorientation', 'PersonalityChanges', 'DifficultyCompletingTasks',\n",
    "               'Forgetfulness' , 'Diagnosis']\n",
    "demo_features = ['Age', 'Gender', 'Ethnicity','EducationLevel','Diagnosis']\n",
    "life_style_features = ['BMI','Smoking', 'AlcoholConsumption', 'PhysicalActivity', 'DietQuality', 'SleepQuality','Diagnosis']\n",
    "medic_hist_features = ['FamilyHistoryAlzheimers', 'CardiovascularDisease','Diabetes', 'Depression', 'HeadInjury', 'Hypertension','Diagnosis']\n",
    "clinical_features = ['SystolicBP','DiastolicBP', 'CholesterolTotal', 'CholesterolLDL', 'CholesterolHDL','CholesterolTriglycerides','Diagnosis']\n",
    "cognitive_features = ['MMSE', 'FunctionalAssessment','MemoryComplaints', 'BehavioralProblems', 'ADL','Diagnosis']\n",
    "symptoms_features = ['Confusion','Disorientation', 'PersonalityChanges', 'DifficultyCompletingTasks','Forgetfulness','Diagnosis']\n",
    "\n",
    "no_cognitive = [item for item in all_features if item not in cognitive_features]\n",
    "no_cognitive.append('Diagnosis')\n",
    "\n",
    "subcategory_dict = {'all_features' : all_features,'demo':demo_features ,'lifestyle': life_style_features , 'medic' : medic_hist_features , \n",
    "                    'clinical':clinical_features , 'cognitive': cognitive_features , 'symptoms': symptoms_features , 'no_cognitive': no_cognitive}"
   ]
  },
  {
   "cell_type": "code",
   "execution_count": 14,
   "metadata": {},
   "outputs": [],
   "source": [
    "## Splitting the training data to get validation data\n",
    "df_train, df_test = train_test_split(df, random_state= 123 , shuffle= True,test_size=0.2, stratify=df['Diagnosis'])"
   ]
  },
  {
   "cell_type": "markdown",
   "metadata": {},
   "source": [
    "### **Logistic Regression**"
   ]
  },
  {
   "cell_type": "code",
   "execution_count": 15,
   "metadata": {},
   "outputs": [
    {
     "name": "stderr",
     "output_type": "stream",
     "text": [
      "c:\\Users\\ladyj\\anaconda3\\envs\\erdos_spring_2025\\Lib\\site-packages\\sklearn\\metrics\\_classification.py:1531: UndefinedMetricWarning: Recall is ill-defined and being set to 0.0 due to no true samples. Use `zero_division` parameter to control this behavior.\n",
      "  _warn_prf(average, modifier, f\"{metric.capitalize()} is\", len(result))\n",
      "c:\\Users\\ladyj\\anaconda3\\envs\\erdos_spring_2025\\Lib\\site-packages\\sklearn\\metrics\\_classification.py:1531: UndefinedMetricWarning: Recall is ill-defined and being set to 0.0 due to no true samples. Use `zero_division` parameter to control this behavior.\n",
      "  _warn_prf(average, modifier, f\"{metric.capitalize()} is\", len(result))\n",
      "c:\\Users\\ladyj\\anaconda3\\envs\\erdos_spring_2025\\Lib\\site-packages\\sklearn\\metrics\\_classification.py:1531: UndefinedMetricWarning: Recall is ill-defined and being set to 0.0 due to no true samples. Use `zero_division` parameter to control this behavior.\n",
      "  _warn_prf(average, modifier, f\"{metric.capitalize()} is\", len(result))\n",
      "c:\\Users\\ladyj\\anaconda3\\envs\\erdos_spring_2025\\Lib\\site-packages\\sklearn\\metrics\\_classification.py:1531: UndefinedMetricWarning: Recall is ill-defined and being set to 0.0 due to no true samples. Use `zero_division` parameter to control this behavior.\n",
      "  _warn_prf(average, modifier, f\"{metric.capitalize()} is\", len(result))\n",
      "c:\\Users\\ladyj\\anaconda3\\envs\\erdos_spring_2025\\Lib\\site-packages\\sklearn\\metrics\\_classification.py:1531: UndefinedMetricWarning: Recall is ill-defined and being set to 0.0 due to no true samples. Use `zero_division` parameter to control this behavior.\n",
      "  _warn_prf(average, modifier, f\"{metric.capitalize()} is\", len(result))\n"
     ]
    },
    {
     "data": {
      "application/vnd.microsoft.datawrangler.viewer.v0+json": {
       "columns": [
        {
         "name": "index",
         "rawType": "object",
         "type": "string"
        },
        {
         "name": "all_features",
         "rawType": "float64",
         "type": "float"
        },
        {
         "name": "demo",
         "rawType": "float64",
         "type": "float"
        },
        {
         "name": "lifestyle",
         "rawType": "float64",
         "type": "float"
        },
        {
         "name": "medic",
         "rawType": "float64",
         "type": "float"
        },
        {
         "name": "clinical",
         "rawType": "float64",
         "type": "float"
        },
        {
         "name": "cognitive",
         "rawType": "float64",
         "type": "float"
        },
        {
         "name": "symptoms",
         "rawType": "float64",
         "type": "float"
        },
        {
         "name": "no_cognitive",
         "rawType": "float64",
         "type": "float"
        }
       ],
       "conversionMethod": "pd.DataFrame",
       "ref": "4f59cec3-01ac-4377-8b0e-8956390252bc",
       "rows": [
        [
         "Accuracy Score",
         "0.8604651162790697",
         "0.6482558139534884",
         "0.6482558139534884",
         "0.6482558139534884",
         "0.6482558139534884",
         "0.8546511627906976",
         "0.6482558139534884",
         "0.6453488372093024"
        ],
        [
         "Precision Score",
         "0.7603305785123967",
         "0.0",
         "0.0",
         "0.0",
         "0.0",
         "0.743801652892562",
         "0.0",
         "0.0"
        ],
        [
         "Recall Score",
         "0.8288288288288288",
         "0.0",
         "0.0",
         "0.0",
         "0.0",
         "0.8256880733944955",
         "0.0",
         "0.0"
        ],
        [
         "F1 Score",
         "0.7931034482758621",
         "0.0",
         "0.0",
         "0.0",
         "0.0",
         "0.782608695652174",
         "0.0",
         "0.0"
        ],
        [
         "MSE",
         "0.13953488372093023",
         "0.35174418604651164",
         "0.35174418604651164",
         "0.35174418604651164",
         "0.35174418604651164",
         "0.14534883720930233",
         "0.35174418604651164",
         "0.3546511627906977"
        ]
       ],
       "shape": {
        "columns": 8,
        "rows": 5
       }
      },
      "text/html": [
       "<div>\n",
       "<style scoped>\n",
       "    .dataframe tbody tr th:only-of-type {\n",
       "        vertical-align: middle;\n",
       "    }\n",
       "\n",
       "    .dataframe tbody tr th {\n",
       "        vertical-align: top;\n",
       "    }\n",
       "\n",
       "    .dataframe thead th {\n",
       "        text-align: right;\n",
       "    }\n",
       "</style>\n",
       "<table border=\"1\" class=\"dataframe\">\n",
       "  <thead>\n",
       "    <tr style=\"text-align: right;\">\n",
       "      <th></th>\n",
       "      <th>all_features</th>\n",
       "      <th>demo</th>\n",
       "      <th>lifestyle</th>\n",
       "      <th>medic</th>\n",
       "      <th>clinical</th>\n",
       "      <th>cognitive</th>\n",
       "      <th>symptoms</th>\n",
       "      <th>no_cognitive</th>\n",
       "    </tr>\n",
       "  </thead>\n",
       "  <tbody>\n",
       "    <tr>\n",
       "      <th>Accuracy Score</th>\n",
       "      <td>0.860465</td>\n",
       "      <td>0.648256</td>\n",
       "      <td>0.648256</td>\n",
       "      <td>0.648256</td>\n",
       "      <td>0.648256</td>\n",
       "      <td>0.854651</td>\n",
       "      <td>0.648256</td>\n",
       "      <td>0.645349</td>\n",
       "    </tr>\n",
       "    <tr>\n",
       "      <th>Precision Score</th>\n",
       "      <td>0.760331</td>\n",
       "      <td>0.000000</td>\n",
       "      <td>0.000000</td>\n",
       "      <td>0.000000</td>\n",
       "      <td>0.000000</td>\n",
       "      <td>0.743802</td>\n",
       "      <td>0.000000</td>\n",
       "      <td>0.000000</td>\n",
       "    </tr>\n",
       "    <tr>\n",
       "      <th>Recall Score</th>\n",
       "      <td>0.828829</td>\n",
       "      <td>0.000000</td>\n",
       "      <td>0.000000</td>\n",
       "      <td>0.000000</td>\n",
       "      <td>0.000000</td>\n",
       "      <td>0.825688</td>\n",
       "      <td>0.000000</td>\n",
       "      <td>0.000000</td>\n",
       "    </tr>\n",
       "    <tr>\n",
       "      <th>F1 Score</th>\n",
       "      <td>0.793103</td>\n",
       "      <td>0.000000</td>\n",
       "      <td>0.000000</td>\n",
       "      <td>0.000000</td>\n",
       "      <td>0.000000</td>\n",
       "      <td>0.782609</td>\n",
       "      <td>0.000000</td>\n",
       "      <td>0.000000</td>\n",
       "    </tr>\n",
       "    <tr>\n",
       "      <th>MSE</th>\n",
       "      <td>0.139535</td>\n",
       "      <td>0.351744</td>\n",
       "      <td>0.351744</td>\n",
       "      <td>0.351744</td>\n",
       "      <td>0.351744</td>\n",
       "      <td>0.145349</td>\n",
       "      <td>0.351744</td>\n",
       "      <td>0.354651</td>\n",
       "    </tr>\n",
       "  </tbody>\n",
       "</table>\n",
       "</div>"
      ],
      "text/plain": [
       "                 all_features      demo  lifestyle     medic  clinical  \\\n",
       "Accuracy Score       0.860465  0.648256   0.648256  0.648256  0.648256   \n",
       "Precision Score      0.760331  0.000000   0.000000  0.000000  0.000000   \n",
       "Recall Score         0.828829  0.000000   0.000000  0.000000  0.000000   \n",
       "F1 Score             0.793103  0.000000   0.000000  0.000000  0.000000   \n",
       "MSE                  0.139535  0.351744   0.351744  0.351744  0.351744   \n",
       "\n",
       "                 cognitive  symptoms  no_cognitive  \n",
       "Accuracy Score    0.854651  0.648256      0.645349  \n",
       "Precision Score   0.743802  0.000000      0.000000  \n",
       "Recall Score      0.825688  0.000000      0.000000  \n",
       "F1 Score          0.782609  0.000000      0.000000  \n",
       "MSE               0.145349  0.351744      0.354651  "
      ]
     },
     "execution_count": 15,
     "metadata": {},
     "output_type": "execute_result"
    }
   ],
   "source": [
    "lr_pipe = Pipeline([('scale', StandardScaler()), ('lr', LogisticRegression(random_state=42))])\n",
    "\n",
    "lr_acc_score = {}\n",
    "lr_conf_matrix = {} #confusion matrix\n",
    "\n",
    "for key in subcategory_dict:\n",
    "    item = subcategory_dict[key]\n",
    "    lr_pipe.fit(df_train[item[:-1]], df_train.Diagnosis)\n",
    "    pred = lr_pipe.predict(df_test[item[:-1]])\n",
    "\n",
    "    lr_acc_score[key] = [accuracy_score(pred, df_test.Diagnosis),\n",
    "                           precision_score(pred, df_test.Diagnosis, zero_division=1),\n",
    "                           recall_score(pred, df_test.Diagnosis),\n",
    "                           f1_score(pred, df_test.Diagnosis),\n",
    "                           mean_squared_error(pred, df_test.Diagnosis)]\n",
    "    lr_conf_matrix[key] = confusion_matrix(pred, df_test.Diagnosis)\n",
    "    \n",
    "    \n",
    "lr_acc_score_df = pd.DataFrame(lr_acc_score, index=['Accuracy Score', 'Precision Score', 'Recall Score', 'F1 Score', 'MSE'])\n",
    "#lr_conf_matrix_df = pd.DataFrame(lr_conf_matrix, index = [])\n",
    "lr_acc_score_df\n",
    "\n"
   ]
  },
  {
   "cell_type": "code",
   "execution_count": 16,
   "metadata": {},
   "outputs": [
    {
     "data": {
      "text/plain": [
       "'\\n#plt.show()\\n\\nplt.subplots(2,int(len(lr_conf_matrix)/2), figsize=(20,5))\\nfor ind, key in enumerate(lr_conf_matrix):\\n    if ind<=3:\\n        plt.subplot(1,len(lr_conf_matrix),ind+1)\\n    else:\\n        plt.subplot(2,int(len(lr_conf_matrix)/2),ind+1)\\n    sns.heatmap(lr_conf_matrix[key], annot=True, fmt=\"d\", cmap=\"Blues\", xticklabels=[\\'No Alzheimers\\', \\'Alzheimers\\'], yticklabels=[\\'No Alzheimers\\', \\'Alzheimers\\'])\\n    plt.xlabel(\"Predicted Label\")\\n    plt.ylabel(\"True Label\")\\n    plt.title(\"Confusion Matrix\")\\nplt.show()\\n\\n'"
      ]
     },
     "execution_count": 16,
     "metadata": {},
     "output_type": "execute_result"
    }
   ],
   "source": [
    "'''\n",
    "\n",
    "#plt.subplots(1,3, figsize=(14,5))\n",
    "\n",
    "#plt.subplot(1,3,1)\n",
    "#sns.heatmap(lr_conf_matrix[\"all_features\"], annot=True, fmt=\"d\", cmap=\"Blues\", xticklabels=['No Alzheimers', 'Alzheimers'], yticklabels=['No Alzheimers', 'Alzheimers'])\n",
    "\n",
    "'''\n",
    "'''\n",
    "plt.subplot(1,3,2)\n",
    "sns.heatmap(lr_conf_matrix[\"demo\"], annot=True, fmt=\"d\", cmap=\"Blues\", xticklabels=['No Alzheimers', 'Alzheimers'], yticklabels=['No Alzheimers', 'Alzheimers'])\n",
    "\n",
    "plt.subplot(1,3,3)\n",
    "sns.heatmap(lr_conf_matrix[\"lifestyle\"], annot=True, fmt=\"d\", cmap=\"Blues\", xticklabels=['No Alzheimers', 'Alzheimers'], yticklabels=['No Alzheimers', 'Alzheimers'])\n",
    "'''\n",
    "\n",
    "'''\n",
    "#plt.show()\n",
    "\n",
    "plt.subplots(2,int(len(lr_conf_matrix)/2), figsize=(20,5))\n",
    "for ind, key in enumerate(lr_conf_matrix):\n",
    "    if ind<=3:\n",
    "        plt.subplot(1,len(lr_conf_matrix),ind+1)\n",
    "    else:\n",
    "        plt.subplot(2,int(len(lr_conf_matrix)/2),ind+1)\n",
    "    sns.heatmap(lr_conf_matrix[key], annot=True, fmt=\"d\", cmap=\"Blues\", xticklabels=['No Alzheimers', 'Alzheimers'], yticklabels=['No Alzheimers', 'Alzheimers'])\n",
    "    plt.xlabel(\"Predicted Label\")\n",
    "    plt.ylabel(\"True Label\")\n",
    "    plt.title(\"Confusion Matrix\")\n",
    "plt.show()\n",
    "\n",
    "'''\n"
   ]
  },
  {
   "cell_type": "code",
   "execution_count": 17,
   "metadata": {},
   "outputs": [
    {
     "data": {
      "image/png": "[encoded data removed]",
      "text/plain": [
       "<Figure size 640x480 with 2 Axes>"
      ]
     },
     "metadata": {},
     "output_type": "display_data"
    }
   ],
   "source": [
    "sns.heatmap(lr_conf_matrix[\"all_features\"], annot=True, fmt=\"d\", cmap=\"Blues\", xticklabels=['No Alzheimers', 'Alzheimers'], yticklabels=['No Alzheimers', 'Alzheimers'])\n",
    "plt.xlabel(\"Predicted Label\")\n",
    "plt.ylabel(\"True Label\")\n",
    "plt.title(\"Confusion Matrix for linear regression model on all features\")\n",
    "plt.show()\n"
   ]
  },
  {
   "cell_type": "markdown",
   "metadata": {},
   "source": [
    "### **Gradient Boosting Classifier**"
   ]
  },
  {
   "cell_type": "code",
   "execution_count": 18,
   "metadata": {},
   "outputs": [
    {
     "data": {
      "application/vnd.microsoft.datawrangler.viewer.v0+json": {
       "columns": [
        {
         "name": "index",
         "rawType": "object",
         "type": "string"
        },
        {
         "name": "all_features",
         "rawType": "float64",
         "type": "float"
        },
        {
         "name": "demo",
         "rawType": "float64",
         "type": "float"
        },
        {
         "name": "lifestyle",
         "rawType": "float64",
         "type": "float"
        },
        {
         "name": "medic",
         "rawType": "float64",
         "type": "float"
        },
        {
         "name": "clinical",
         "rawType": "float64",
         "type": "float"
        },
        {
         "name": "cognitive",
         "rawType": "float64",
         "type": "float"
        },
        {
         "name": "symptoms",
         "rawType": "float64",
         "type": "float"
        },
        {
         "name": "no_cognitive",
         "rawType": "float64",
         "type": "float"
        }
       ],
       "conversionMethod": "pd.DataFrame",
       "ref": "973c7d4a-a63c-4361-b214-438f26df5ab3",
       "rows": [
        [
         "Accuracy Score",
         "0.9505813953488372",
         "0.6482558139534884",
         "0.6395348837209303",
         "0.6482558139534884",
         "0.625",
         "0.9534883720930233",
         "0.6395348837209303",
         "0.6337209302325582"
        ],
        [
         "Precision Score",
         "0.9256198347107438",
         "0.06611570247933884",
         "0.06611570247933884",
         "0.024793388429752067",
         "0.12396694214876033",
         "0.9173553719008265",
         "0.008264462809917356",
         "0.09917355371900827"
        ],
        [
         "Recall Score",
         "0.9333333333333333",
         "0.5",
         "0.42105263157894735",
         "0.5",
         "0.39473684210526316",
         "0.9487179487179487",
         "0.2",
         "0.41379310344827586"
        ],
        [
         "F1 Score",
         "0.9294605809128631",
         "0.11678832116788321",
         "0.11428571428571428",
         "0.047244094488188976",
         "0.18867924528301888",
         "0.9327731092436975",
         "0.015873015873015872",
         "0.16"
        ],
        [
         "MSE",
         "0.04941860465116279",
         "0.35174418604651164",
         "0.36046511627906974",
         "0.35174418604651164",
         "0.375",
         "0.046511627906976744",
         "0.36046511627906974",
         "0.36627906976744184"
        ]
       ],
       "shape": {
        "columns": 8,
        "rows": 5
       }
      },
      "text/html": [
       "<div>\n",
       "<style scoped>\n",
       "    .dataframe tbody tr th:only-of-type {\n",
       "        vertical-align: middle;\n",
       "    }\n",
       "\n",
       "    .dataframe tbody tr th {\n",
       "        vertical-align: top;\n",
       "    }\n",
       "\n",
       "    .dataframe thead th {\n",
       "        text-align: right;\n",
       "    }\n",
       "</style>\n",
       "<table border=\"1\" class=\"dataframe\">\n",
       "  <thead>\n",
       "    <tr style=\"text-align: right;\">\n",
       "      <th></th>\n",
       "      <th>all_features</th>\n",
       "      <th>demo</th>\n",
       "      <th>lifestyle</th>\n",
       "      <th>medic</th>\n",
       "      <th>clinical</th>\n",
       "      <th>cognitive</th>\n",
       "      <th>symptoms</th>\n",
       "      <th>no_cognitive</th>\n",
       "    </tr>\n",
       "  </thead>\n",
       "  <tbody>\n",
       "    <tr>\n",
       "      <th>Accuracy Score</th>\n",
       "      <td>0.950581</td>\n",
       "      <td>0.648256</td>\n",
       "      <td>0.639535</td>\n",
       "      <td>0.648256</td>\n",
       "      <td>0.625000</td>\n",
       "      <td>0.953488</td>\n",
       "      <td>0.639535</td>\n",
       "      <td>0.633721</td>\n",
       "    </tr>\n",
       "    <tr>\n",
       "      <th>Precision Score</th>\n",
       "      <td>0.925620</td>\n",
       "      <td>0.066116</td>\n",
       "      <td>0.066116</td>\n",
       "      <td>0.024793</td>\n",
       "      <td>0.123967</td>\n",
       "      <td>0.917355</td>\n",
       "      <td>0.008264</td>\n",
       "      <td>0.099174</td>\n",
       "    </tr>\n",
       "    <tr>\n",
       "      <th>Recall Score</th>\n",
       "      <td>0.933333</td>\n",
       "      <td>0.500000</td>\n",
       "      <td>0.421053</td>\n",
       "      <td>0.500000</td>\n",
       "      <td>0.394737</td>\n",
       "      <td>0.948718</td>\n",
       "      <td>0.200000</td>\n",
       "      <td>0.413793</td>\n",
       "    </tr>\n",
       "    <tr>\n",
       "      <th>F1 Score</th>\n",
       "      <td>0.929461</td>\n",
       "      <td>0.116788</td>\n",
       "      <td>0.114286</td>\n",
       "      <td>0.047244</td>\n",
       "      <td>0.188679</td>\n",
       "      <td>0.932773</td>\n",
       "      <td>0.015873</td>\n",
       "      <td>0.160000</td>\n",
       "    </tr>\n",
       "    <tr>\n",
       "      <th>MSE</th>\n",
       "      <td>0.049419</td>\n",
       "      <td>0.351744</td>\n",
       "      <td>0.360465</td>\n",
       "      <td>0.351744</td>\n",
       "      <td>0.375000</td>\n",
       "      <td>0.046512</td>\n",
       "      <td>0.360465</td>\n",
       "      <td>0.366279</td>\n",
       "    </tr>\n",
       "  </tbody>\n",
       "</table>\n",
       "</div>"
      ],
      "text/plain": [
       "                 all_features      demo  lifestyle     medic  clinical  \\\n",
       "Accuracy Score       0.950581  0.648256   0.639535  0.648256  0.625000   \n",
       "Precision Score      0.925620  0.066116   0.066116  0.024793  0.123967   \n",
       "Recall Score         0.933333  0.500000   0.421053  0.500000  0.394737   \n",
       "F1 Score             0.929461  0.116788   0.114286  0.047244  0.188679   \n",
       "MSE                  0.049419  0.351744   0.360465  0.351744  0.375000   \n",
       "\n",
       "                 cognitive  symptoms  no_cognitive  \n",
       "Accuracy Score    0.953488  0.639535      0.633721  \n",
       "Precision Score   0.917355  0.008264      0.099174  \n",
       "Recall Score      0.948718  0.200000      0.413793  \n",
       "F1 Score          0.932773  0.015873      0.160000  \n",
       "MSE               0.046512  0.360465      0.366279  "
      ]
     },
     "execution_count": 18,
     "metadata": {},
     "output_type": "execute_result"
    }
   ],
   "source": [
    "gbc_pipe = Pipeline([('scale', StandardScaler()), ('gbc', GradientBoostingClassifier(random_state=42))])\n",
    "\n",
    "gbc_accu_score = {}\n",
    "gbc_conf_matrix = {}\n",
    "\n",
    "for key in subcategory_dict:\n",
    "    item = subcategory_dict[key]\n",
    "    gbc_pipe.fit(df_train[item[:-1]], df_train.Diagnosis)\n",
    "    pred = gbc_pipe.predict(df_test[item[:-1]])\n",
    "\n",
    "    gbc_accu_score[key] = [accuracy_score(pred, df_test.Diagnosis),\n",
    "                           precision_score(pred, df_test.Diagnosis, zero_division=1),\n",
    "                           recall_score(pred, df_test.Diagnosis),\n",
    "                           f1_score(pred, df_test.Diagnosis),\n",
    "                           mean_squared_error(pred, df_test.Diagnosis)]\n",
    "    gbc_conf_matrix[key] = confusion_matrix(pred, df_test.Diagnosis)\n",
    "\n",
    "gbc_accu_score_df = pd.DataFrame(gbc_accu_score, index=['Accuracy Score', 'Precision Score', 'Recall Score', 'F1 Score', 'MSE'])\n",
    "gbc_accu_score_df\n"
   ]
  },
  {
   "cell_type": "code",
   "execution_count": 19,
   "metadata": {},
   "outputs": [
    {
     "data": {
      "image/png": "[encoded data removed]",
      "text/plain": [
       "<Figure size 640x480 with 2 Axes>"
      ]
     },
     "metadata": {},
     "output_type": "display_data"
    }
   ],
   "source": [
    "sns.heatmap(gbc_conf_matrix[\"all_features\"], annot=True, fmt=\"d\", cmap=\"Blues\", xticklabels=['No Alzheimers', 'Alzheimers'], yticklabels=['No Alzheimers', 'Alzheimers'])\n",
    "plt.xlabel(\"Predicted Label\")\n",
    "plt.ylabel(\"True Label\")\n",
    "plt.title(\"Confusion Matrix for Gradient boost model on all features\")\n",
    "plt.show()"
   ]
  },
  {
   "cell_type": "markdown",
   "metadata": {},
   "source": [
    "### **Adaptive Boosting Classifier**"
   ]
  },
  {
   "cell_type": "code",
   "execution_count": 20,
   "metadata": {},
   "outputs": [
    {
     "name": "stderr",
     "output_type": "stream",
     "text": [
      "c:\\Users\\ladyj\\anaconda3\\envs\\erdos_spring_2025\\Lib\\site-packages\\sklearn\\ensemble\\_weight_boosting.py:527: FutureWarning: The SAMME.R algorithm (the default) is deprecated and will be removed in 1.6. Use the SAMME algorithm to circumvent this warning.\n",
      "  warnings.warn(\n",
      "c:\\Users\\ladyj\\anaconda3\\envs\\erdos_spring_2025\\Lib\\site-packages\\sklearn\\ensemble\\_weight_boosting.py:527: FutureWarning: The SAMME.R algorithm (the default) is deprecated and will be removed in 1.6. Use the SAMME algorithm to circumvent this warning.\n",
      "  warnings.warn(\n",
      "c:\\Users\\ladyj\\anaconda3\\envs\\erdos_spring_2025\\Lib\\site-packages\\sklearn\\metrics\\_classification.py:1531: UndefinedMetricWarning: Recall is ill-defined and being set to 0.0 due to no true samples. Use `zero_division` parameter to control this behavior.\n",
      "  _warn_prf(average, modifier, f\"{metric.capitalize()} is\", len(result))\n",
      "c:\\Users\\ladyj\\anaconda3\\envs\\erdos_spring_2025\\Lib\\site-packages\\sklearn\\ensemble\\_weight_boosting.py:527: FutureWarning: The SAMME.R algorithm (the default) is deprecated and will be removed in 1.6. Use the SAMME algorithm to circumvent this warning.\n",
      "  warnings.warn(\n",
      "c:\\Users\\ladyj\\anaconda3\\envs\\erdos_spring_2025\\Lib\\site-packages\\sklearn\\ensemble\\_weight_boosting.py:527: FutureWarning: The SAMME.R algorithm (the default) is deprecated and will be removed in 1.6. Use the SAMME algorithm to circumvent this warning.\n",
      "  warnings.warn(\n",
      "c:\\Users\\ladyj\\anaconda3\\envs\\erdos_spring_2025\\Lib\\site-packages\\sklearn\\metrics\\_classification.py:1531: UndefinedMetricWarning: Recall is ill-defined and being set to 0.0 due to no true samples. Use `zero_division` parameter to control this behavior.\n",
      "  _warn_prf(average, modifier, f\"{metric.capitalize()} is\", len(result))\n",
      "c:\\Users\\ladyj\\anaconda3\\envs\\erdos_spring_2025\\Lib\\site-packages\\sklearn\\ensemble\\_weight_boosting.py:527: FutureWarning: The SAMME.R algorithm (the default) is deprecated and will be removed in 1.6. Use the SAMME algorithm to circumvent this warning.\n",
      "  warnings.warn(\n",
      "c:\\Users\\ladyj\\anaconda3\\envs\\erdos_spring_2025\\Lib\\site-packages\\sklearn\\ensemble\\_weight_boosting.py:527: FutureWarning: The SAMME.R algorithm (the default) is deprecated and will be removed in 1.6. Use the SAMME algorithm to circumvent this warning.\n",
      "  warnings.warn(\n",
      "c:\\Users\\ladyj\\anaconda3\\envs\\erdos_spring_2025\\Lib\\site-packages\\sklearn\\ensemble\\_weight_boosting.py:527: FutureWarning: The SAMME.R algorithm (the default) is deprecated and will be removed in 1.6. Use the SAMME algorithm to circumvent this warning.\n",
      "  warnings.warn(\n",
      "c:\\Users\\ladyj\\anaconda3\\envs\\erdos_spring_2025\\Lib\\site-packages\\sklearn\\metrics\\_classification.py:1531: UndefinedMetricWarning: Recall is ill-defined and being set to 0.0 due to no true samples. Use `zero_division` parameter to control this behavior.\n",
      "  _warn_prf(average, modifier, f\"{metric.capitalize()} is\", len(result))\n",
      "c:\\Users\\ladyj\\anaconda3\\envs\\erdos_spring_2025\\Lib\\site-packages\\sklearn\\ensemble\\_weight_boosting.py:527: FutureWarning: The SAMME.R algorithm (the default) is deprecated and will be removed in 1.6. Use the SAMME algorithm to circumvent this warning.\n",
      "  warnings.warn(\n"
     ]
    },
    {
     "data": {
      "application/vnd.microsoft.datawrangler.viewer.v0+json": {
       "columns": [
        {
         "name": "index",
         "rawType": "object",
         "type": "string"
        },
        {
         "name": "all_features",
         "rawType": "float64",
         "type": "float"
        },
        {
         "name": "demo",
         "rawType": "float64",
         "type": "float"
        },
        {
         "name": "lifestyle",
         "rawType": "float64",
         "type": "float"
        },
        {
         "name": "medic",
         "rawType": "float64",
         "type": "float"
        },
        {
         "name": "clinical",
         "rawType": "float64",
         "type": "float"
        },
        {
         "name": "cognitive",
         "rawType": "float64",
         "type": "float"
        },
        {
         "name": "symptoms",
         "rawType": "float64",
         "type": "float"
        },
        {
         "name": "no_cognitive",
         "rawType": "float64",
         "type": "float"
        }
       ],
       "conversionMethod": "pd.DataFrame",
       "ref": "93e77a85-3aef-4db2-b082-b5b77342f472",
       "rows": [
        [
         "Accuracy Score",
         "0.9069767441860465",
         "0.6482558139534884",
         "0.6424418604651163",
         "0.6482558139534884",
         "0.6133720930232558",
         "0.9273255813953488",
         "0.6482558139534884",
         "0.622093023255814"
        ],
        [
         "Precision Score",
         "0.8512396694214877",
         "0.0",
         "0.049586776859504134",
         "0.0",
         "0.08264462809917356",
         "0.9090909090909091",
         "0.0",
         "0.2066115702479339"
        ],
        [
         "Recall Score",
         "0.8803418803418803",
         "0.0",
         "0.42857142857142855",
         "0.0",
         "0.3125",
         "0.8870967741935484",
         "0.0",
         "0.423728813559322"
        ],
        [
         "F1 Score",
         "0.865546218487395",
         "0.0",
         "0.08888888888888889",
         "0.0",
         "0.13071895424836602",
         "0.8979591836734694",
         "0.0",
         "0.2777777777777778"
        ],
        [
         "MSE",
         "0.09302325581395349",
         "0.35174418604651164",
         "0.35755813953488375",
         "0.35174418604651164",
         "0.3866279069767442",
         "0.07267441860465117",
         "0.35174418604651164",
         "0.37790697674418605"
        ]
       ],
       "shape": {
        "columns": 8,
        "rows": 5
       }
      },
      "text/html": [
       "<div>\n",
       "<style scoped>\n",
       "    .dataframe tbody tr th:only-of-type {\n",
       "        vertical-align: middle;\n",
       "    }\n",
       "\n",
       "    .dataframe tbody tr th {\n",
       "        vertical-align: top;\n",
       "    }\n",
       "\n",
       "    .dataframe thead th {\n",
       "        text-align: right;\n",
       "    }\n",
       "</style>\n",
       "<table border=\"1\" class=\"dataframe\">\n",
       "  <thead>\n",
       "    <tr style=\"text-align: right;\">\n",
       "      <th></th>\n",
       "      <th>all_features</th>\n",
       "      <th>demo</th>\n",
       "      <th>lifestyle</th>\n",
       "      <th>medic</th>\n",
       "      <th>clinical</th>\n",
       "      <th>cognitive</th>\n",
       "      <th>symptoms</th>\n",
       "      <th>no_cognitive</th>\n",
       "    </tr>\n",
       "  </thead>\n",
       "  <tbody>\n",
       "    <tr>\n",
       "      <th>Accuracy Score</th>\n",
       "      <td>0.906977</td>\n",
       "      <td>0.648256</td>\n",
       "      <td>0.642442</td>\n",
       "      <td>0.648256</td>\n",
       "      <td>0.613372</td>\n",
       "      <td>0.927326</td>\n",
       "      <td>0.648256</td>\n",
       "      <td>0.622093</td>\n",
       "    </tr>\n",
       "    <tr>\n",
       "      <th>Precision Score</th>\n",
       "      <td>0.851240</td>\n",
       "      <td>0.000000</td>\n",
       "      <td>0.049587</td>\n",
       "      <td>0.000000</td>\n",
       "      <td>0.082645</td>\n",
       "      <td>0.909091</td>\n",
       "      <td>0.000000</td>\n",
       "      <td>0.206612</td>\n",
       "    </tr>\n",
       "    <tr>\n",
       "      <th>Recall Score</th>\n",
       "      <td>0.880342</td>\n",
       "      <td>0.000000</td>\n",
       "      <td>0.428571</td>\n",
       "      <td>0.000000</td>\n",
       "      <td>0.312500</td>\n",
       "      <td>0.887097</td>\n",
       "      <td>0.000000</td>\n",
       "      <td>0.423729</td>\n",
       "    </tr>\n",
       "    <tr>\n",
       "      <th>F1 Score</th>\n",
       "      <td>0.865546</td>\n",
       "      <td>0.000000</td>\n",
       "      <td>0.088889</td>\n",
       "      <td>0.000000</td>\n",
       "      <td>0.130719</td>\n",
       "      <td>0.897959</td>\n",
       "      <td>0.000000</td>\n",
       "      <td>0.277778</td>\n",
       "    </tr>\n",
       "    <tr>\n",
       "      <th>MSE</th>\n",
       "      <td>0.093023</td>\n",
       "      <td>0.351744</td>\n",
       "      <td>0.357558</td>\n",
       "      <td>0.351744</td>\n",
       "      <td>0.386628</td>\n",
       "      <td>0.072674</td>\n",
       "      <td>0.351744</td>\n",
       "      <td>0.377907</td>\n",
       "    </tr>\n",
       "  </tbody>\n",
       "</table>\n",
       "</div>"
      ],
      "text/plain": [
       "                 all_features      demo  lifestyle     medic  clinical  \\\n",
       "Accuracy Score       0.906977  0.648256   0.642442  0.648256  0.613372   \n",
       "Precision Score      0.851240  0.000000   0.049587  0.000000  0.082645   \n",
       "Recall Score         0.880342  0.000000   0.428571  0.000000  0.312500   \n",
       "F1 Score             0.865546  0.000000   0.088889  0.000000  0.130719   \n",
       "MSE                  0.093023  0.351744   0.357558  0.351744  0.386628   \n",
       "\n",
       "                 cognitive  symptoms  no_cognitive  \n",
       "Accuracy Score    0.927326  0.648256      0.622093  \n",
       "Precision Score   0.909091  0.000000      0.206612  \n",
       "Recall Score      0.887097  0.000000      0.423729  \n",
       "F1 Score          0.897959  0.000000      0.277778  \n",
       "MSE               0.072674  0.351744      0.377907  "
      ]
     },
     "execution_count": 20,
     "metadata": {},
     "output_type": "execute_result"
    }
   ],
   "source": [
    "adaboost_pipe = Pipeline([('scale', StandardScaler()), ('gbc', AdaBoostClassifier(random_state=42))])\n",
    "adaboost_accu_score = {}\n",
    "adaboost_conf_matrix = {}\n",
    "\n",
    "for key in subcategory_dict:\n",
    "    item = subcategory_dict[key]\n",
    "    adaboost_pipe.fit(df_train[item[:-1]], df_train.Diagnosis)\n",
    "    pred = adaboost_pipe.predict(df_test[item[:-1]])\n",
    "\n",
    "    adaboost_accu_score[key] = [accuracy_score(pred, df_test.Diagnosis),\n",
    "                           precision_score(pred, df_test.Diagnosis, zero_division=1),\n",
    "                           recall_score(pred, df_test.Diagnosis),\n",
    "                           f1_score(pred, df_test.Diagnosis),\n",
    "                           mean_squared_error(pred, df_test.Diagnosis)]\n",
    "    adaboost_conf_matrix[key] = confusion_matrix(pred, df_test.Diagnosis)\n",
    "\n",
    "adaboost_accu_score_df = pd.DataFrame(adaboost_accu_score, index=['Accuracy Score', 'Precision Score', 'Recall Score', 'F1 Score', 'MSE'])\n",
    "adaboost_accu_score_df\n"
   ]
  },
  {
   "cell_type": "code",
   "execution_count": 21,
   "metadata": {},
   "outputs": [
    {
     "data": {
      "image/png": "[encoded data removed]",
      "text/plain": [
       "<Figure size 640x480 with 2 Axes>"
      ]
     },
     "metadata": {},
     "output_type": "display_data"
    }
   ],
   "source": [
    "#Plotting confusion matrix\n",
    "sns.heatmap(adaboost_conf_matrix[\"all_features\"], annot=True, fmt=\"d\", cmap=\"Blues\", xticklabels=['No Alzheimers', 'Alzheimers'], yticklabels=['No Alzheimers', 'Alzheimers'])\n",
    "plt.xlabel(\"Predicted Label\")\n",
    "plt.ylabel(\"True Label\")\n",
    "plt.title(\"Confusion Matrix for Adaboost classification model on all features\")\n",
    "plt.show()"
   ]
  },
  {
   "cell_type": "markdown",
   "metadata": {},
   "source": [
    "### **Random Forest Classifier**"
   ]
  },
  {
   "cell_type": "code",
   "execution_count": 22,
   "metadata": {},
   "outputs": [
    {
     "data": {
      "application/vnd.microsoft.datawrangler.viewer.v0+json": {
       "columns": [
        {
         "name": "index",
         "rawType": "object",
         "type": "string"
        },
        {
         "name": "all_features",
         "rawType": "float64",
         "type": "float"
        },
        {
         "name": "demo",
         "rawType": "float64",
         "type": "float"
        },
        {
         "name": "lifestyle",
         "rawType": "float64",
         "type": "float"
        },
        {
         "name": "medic",
         "rawType": "float64",
         "type": "float"
        },
        {
         "name": "clinical",
         "rawType": "float64",
         "type": "float"
        },
        {
         "name": "cognitive",
         "rawType": "float64",
         "type": "float"
        },
        {
         "name": "symptoms",
         "rawType": "float64",
         "type": "float"
        },
        {
         "name": "no_cognitive",
         "rawType": "float64",
         "type": "float"
        }
       ],
       "conversionMethod": "pd.DataFrame",
       "ref": "c0c1ac41-522b-409e-97cb-d1c48b8c884f",
       "rows": [
        [
         "Accuracy Score",
         "0.936046511627907",
         "0.5087209302325582",
         "0.6075581395348837",
         "0.6482558139534884",
         "0.6104651162790697",
         "0.9563953488372093",
         "0.6395348837209303",
         "0.6511627906976745"
        ],
        [
         "Precision Score",
         "0.8512396694214877",
         "0.2975206611570248",
         "0.0743801652892562",
         "0.024793388429752067",
         "0.08264462809917356",
         "0.9090909090909091",
         "0.008264462809917356",
         "0.049586776859504134"
        ],
        [
         "Recall Score",
         "0.9626168224299065",
         "0.3",
         "0.28125",
         "0.5",
         "0.30303030303030304",
         "0.9649122807017544",
         "0.2",
         "0.5454545454545454"
        ],
        [
         "F1 Score",
         "0.9035087719298246",
         "0.2987551867219917",
         "0.11764705882352941",
         "0.047244094488188976",
         "0.12987012987012986",
         "0.9361702127659575",
         "0.015873015873015872",
         "0.09090909090909091"
        ],
        [
         "MSE",
         "0.06395348837209303",
         "0.49127906976744184",
         "0.39244186046511625",
         "0.35174418604651164",
         "0.38953488372093026",
         "0.0436046511627907",
         "0.36046511627906974",
         "0.3488372093023256"
        ]
       ],
       "shape": {
        "columns": 8,
        "rows": 5
       }
      },
      "text/html": [
       "<div>\n",
       "<style scoped>\n",
       "    .dataframe tbody tr th:only-of-type {\n",
       "        vertical-align: middle;\n",
       "    }\n",
       "\n",
       "    .dataframe tbody tr th {\n",
       "        vertical-align: top;\n",
       "    }\n",
       "\n",
       "    .dataframe thead th {\n",
       "        text-align: right;\n",
       "    }\n",
       "</style>\n",
       "<table border=\"1\" class=\"dataframe\">\n",
       "  <thead>\n",
       "    <tr style=\"text-align: right;\">\n",
       "      <th></th>\n",
       "      <th>all_features</th>\n",
       "      <th>demo</th>\n",
       "      <th>lifestyle</th>\n",
       "      <th>medic</th>\n",
       "      <th>clinical</th>\n",
       "      <th>cognitive</th>\n",
       "      <th>symptoms</th>\n",
       "      <th>no_cognitive</th>\n",
       "    </tr>\n",
       "  </thead>\n",
       "  <tbody>\n",
       "    <tr>\n",
       "      <th>Accuracy Score</th>\n",
       "      <td>0.936047</td>\n",
       "      <td>0.508721</td>\n",
       "      <td>0.607558</td>\n",
       "      <td>0.648256</td>\n",
       "      <td>0.610465</td>\n",
       "      <td>0.956395</td>\n",
       "      <td>0.639535</td>\n",
       "      <td>0.651163</td>\n",
       "    </tr>\n",
       "    <tr>\n",
       "      <th>Precision Score</th>\n",
       "      <td>0.851240</td>\n",
       "      <td>0.297521</td>\n",
       "      <td>0.074380</td>\n",
       "      <td>0.024793</td>\n",
       "      <td>0.082645</td>\n",
       "      <td>0.909091</td>\n",
       "      <td>0.008264</td>\n",
       "      <td>0.049587</td>\n",
       "    </tr>\n",
       "    <tr>\n",
       "      <th>Recall Score</th>\n",
       "      <td>0.962617</td>\n",
       "      <td>0.300000</td>\n",
       "      <td>0.281250</td>\n",
       "      <td>0.500000</td>\n",
       "      <td>0.303030</td>\n",
       "      <td>0.964912</td>\n",
       "      <td>0.200000</td>\n",
       "      <td>0.545455</td>\n",
       "    </tr>\n",
       "    <tr>\n",
       "      <th>F1 Score</th>\n",
       "      <td>0.903509</td>\n",
       "      <td>0.298755</td>\n",
       "      <td>0.117647</td>\n",
       "      <td>0.047244</td>\n",
       "      <td>0.129870</td>\n",
       "      <td>0.936170</td>\n",
       "      <td>0.015873</td>\n",
       "      <td>0.090909</td>\n",
       "    </tr>\n",
       "    <tr>\n",
       "      <th>MSE</th>\n",
       "      <td>0.063953</td>\n",
       "      <td>0.491279</td>\n",
       "      <td>0.392442</td>\n",
       "      <td>0.351744</td>\n",
       "      <td>0.389535</td>\n",
       "      <td>0.043605</td>\n",
       "      <td>0.360465</td>\n",
       "      <td>0.348837</td>\n",
       "    </tr>\n",
       "  </tbody>\n",
       "</table>\n",
       "</div>"
      ],
      "text/plain": [
       "                 all_features      demo  lifestyle     medic  clinical  \\\n",
       "Accuracy Score       0.936047  0.508721   0.607558  0.648256  0.610465   \n",
       "Precision Score      0.851240  0.297521   0.074380  0.024793  0.082645   \n",
       "Recall Score         0.962617  0.300000   0.281250  0.500000  0.303030   \n",
       "F1 Score             0.903509  0.298755   0.117647  0.047244  0.129870   \n",
       "MSE                  0.063953  0.491279   0.392442  0.351744  0.389535   \n",
       "\n",
       "                 cognitive  symptoms  no_cognitive  \n",
       "Accuracy Score    0.956395  0.639535      0.651163  \n",
       "Precision Score   0.909091  0.008264      0.049587  \n",
       "Recall Score      0.964912  0.200000      0.545455  \n",
       "F1 Score          0.936170  0.015873      0.090909  \n",
       "MSE               0.043605  0.360465      0.348837  "
      ]
     },
     "execution_count": 22,
     "metadata": {},
     "output_type": "execute_result"
    }
   ],
   "source": [
    "rfc_pipe = Pipeline([('scale', StandardScaler()), ('gbc', RandomForestClassifier(random_state=42))])\n",
    "rfc_accu_score = {}\n",
    "rfc_conf_matrix = {}\n",
    "\n",
    "for key in subcategory_dict:\n",
    "    item = subcategory_dict[key]\n",
    "    rfc_pipe.fit(df_train[item[:-1]], df_train.Diagnosis)\n",
    "    pred = rfc_pipe.predict(df_test[item[:-1]])\n",
    "\n",
    "    rfc_accu_score[key] = [accuracy_score(pred, df_test.Diagnosis),\n",
    "                           precision_score(pred, df_test.Diagnosis, zero_division=1),\n",
    "                           recall_score(pred, df_test.Diagnosis),\n",
    "                           f1_score(pred, df_test.Diagnosis),\n",
    "                           mean_squared_error(pred, df_test.Diagnosis)]\n",
    "    rfc_conf_matrix[key] = confusion_matrix(pred, df_test.Diagnosis)\n",
    "\n",
    "rfc_accu_score_df = pd.DataFrame(rfc_accu_score, index=['Accuracy Score', 'Precision Score', 'Recall Score', 'F1 Score', 'MSE'])\n",
    "rfc_accu_score_df"
   ]
  },
  {
   "cell_type": "code",
   "execution_count": 23,
   "metadata": {},
   "outputs": [
    {
     "data": {
      "image/png": "[encoded data removed]",
      "text/plain": [
       "<Figure size 640x480 with 2 Axes>"
      ]
     },
     "metadata": {},
     "output_type": "display_data"
    }
   ],
   "source": [
    "#Plotting confusion matrix\n",
    "sns.heatmap(rfc_conf_matrix[\"all_features\"], annot=True, fmt=\"d\", cmap=\"Blues\", xticklabels=['No Alzheimers', 'Alzheimers'], yticklabels=['No Alzheimers', 'Alzheimers'])\n",
    "plt.xlabel(\"Predicted Label\")\n",
    "plt.ylabel(\"True Label\")\n",
    "plt.title(\"Confusion Matrix for RandomForest classification model on all features\")\n",
    "plt.show()"
   ]
  },
  {
   "cell_type": "markdown",
   "metadata": {},
   "source": [
    "### **XGBoost**"
   ]
  },
  {
   "cell_type": "code",
   "execution_count": 24,
   "metadata": {},
   "outputs": [
    {
     "data": {
      "application/vnd.microsoft.datawrangler.viewer.v0+json": {
       "columns": [
        {
         "name": "index",
         "rawType": "object",
         "type": "string"
        },
        {
         "name": "all_features",
         "rawType": "float64",
         "type": "float"
        },
        {
         "name": "demo",
         "rawType": "float64",
         "type": "float"
        },
        {
         "name": "lifestyle",
         "rawType": "float64",
         "type": "float"
        },
        {
         "name": "medic",
         "rawType": "float64",
         "type": "float"
        },
        {
         "name": "clinical",
         "rawType": "float64",
         "type": "float"
        },
        {
         "name": "cognitive",
         "rawType": "float64",
         "type": "float"
        },
        {
         "name": "symptoms",
         "rawType": "float64",
         "type": "float"
        },
        {
         "name": "no_cognitive",
         "rawType": "float64",
         "type": "float"
        }
       ],
       "conversionMethod": "pd.DataFrame",
       "ref": "dbbeec5f-7cfa-462d-9472-ac53ad3da19a",
       "rows": [
        [
         "Accuracy Score",
         "0.9505813953488372",
         "0.5523255813953488",
         "0.6191860465116279",
         "0.6453488372093024",
         "0.5959302325581395",
         "0.9534883720930233",
         "0.6395348837209303",
         "0.6191860465116279"
        ],
        [
         "Precision Score",
         "0.8925619834710744",
         "0.2809917355371901",
         "0.2644628099173554",
         "0.04132231404958678",
         "0.2809917355371901",
         "0.9090909090909091",
         "0.008264462809917356",
         "0.1652892561983471"
        ],
        [
         "Recall Score",
         "0.9642857142857143",
         "0.33663366336633666",
         "0.43243243243243246",
         "0.45454545454545453",
         "0.3953488372093023",
         "0.9565217391304348",
         "0.2",
         "0.4"
        ],
        [
         "F1 Score",
         "0.927038626609442",
         "0.3063063063063063",
         "0.3282051282051282",
         "0.07575757575757576",
         "0.3285024154589372",
         "0.9322033898305084",
         "0.015873015873015872",
         "0.23391812865497075"
        ],
        [
         "MSE",
         "0.04941860465116279",
         "0.4476744186046512",
         "0.3808139534883721",
         "0.3546511627906977",
         "0.40406976744186046",
         "0.046511627906976744",
         "0.36046511627906974",
         "0.3808139534883721"
        ]
       ],
       "shape": {
        "columns": 8,
        "rows": 5
       }
      },
      "text/html": [
       "<div>\n",
       "<style scoped>\n",
       "    .dataframe tbody tr th:only-of-type {\n",
       "        vertical-align: middle;\n",
       "    }\n",
       "\n",
       "    .dataframe tbody tr th {\n",
       "        vertical-align: top;\n",
       "    }\n",
       "\n",
       "    .dataframe thead th {\n",
       "        text-align: right;\n",
       "    }\n",
       "</style>\n",
       "<table border=\"1\" class=\"dataframe\">\n",
       "  <thead>\n",
       "    <tr style=\"text-align: right;\">\n",
       "      <th></th>\n",
       "      <th>all_features</th>\n",
       "      <th>demo</th>\n",
       "      <th>lifestyle</th>\n",
       "      <th>medic</th>\n",
       "      <th>clinical</th>\n",
       "      <th>cognitive</th>\n",
       "      <th>symptoms</th>\n",
       "      <th>no_cognitive</th>\n",
       "    </tr>\n",
       "  </thead>\n",
       "  <tbody>\n",
       "    <tr>\n",
       "      <th>Accuracy Score</th>\n",
       "      <td>0.950581</td>\n",
       "      <td>0.552326</td>\n",
       "      <td>0.619186</td>\n",
       "      <td>0.645349</td>\n",
       "      <td>0.595930</td>\n",
       "      <td>0.953488</td>\n",
       "      <td>0.639535</td>\n",
       "      <td>0.619186</td>\n",
       "    </tr>\n",
       "    <tr>\n",
       "      <th>Precision Score</th>\n",
       "      <td>0.892562</td>\n",
       "      <td>0.280992</td>\n",
       "      <td>0.264463</td>\n",
       "      <td>0.041322</td>\n",
       "      <td>0.280992</td>\n",
       "      <td>0.909091</td>\n",
       "      <td>0.008264</td>\n",
       "      <td>0.165289</td>\n",
       "    </tr>\n",
       "    <tr>\n",
       "      <th>Recall Score</th>\n",
       "      <td>0.964286</td>\n",
       "      <td>0.336634</td>\n",
       "      <td>0.432432</td>\n",
       "      <td>0.454545</td>\n",
       "      <td>0.395349</td>\n",
       "      <td>0.956522</td>\n",
       "      <td>0.200000</td>\n",
       "      <td>0.400000</td>\n",
       "    </tr>\n",
       "    <tr>\n",
       "      <th>F1 Score</th>\n",
       "      <td>0.927039</td>\n",
       "      <td>0.306306</td>\n",
       "      <td>0.328205</td>\n",
       "      <td>0.075758</td>\n",
       "      <td>0.328502</td>\n",
       "      <td>0.932203</td>\n",
       "      <td>0.015873</td>\n",
       "      <td>0.233918</td>\n",
       "    </tr>\n",
       "    <tr>\n",
       "      <th>MSE</th>\n",
       "      <td>0.049419</td>\n",
       "      <td>0.447674</td>\n",
       "      <td>0.380814</td>\n",
       "      <td>0.354651</td>\n",
       "      <td>0.404070</td>\n",
       "      <td>0.046512</td>\n",
       "      <td>0.360465</td>\n",
       "      <td>0.380814</td>\n",
       "    </tr>\n",
       "  </tbody>\n",
       "</table>\n",
       "</div>"
      ],
      "text/plain": [
       "                 all_features      demo  lifestyle     medic  clinical  \\\n",
       "Accuracy Score       0.950581  0.552326   0.619186  0.645349  0.595930   \n",
       "Precision Score      0.892562  0.280992   0.264463  0.041322  0.280992   \n",
       "Recall Score         0.964286  0.336634   0.432432  0.454545  0.395349   \n",
       "F1 Score             0.927039  0.306306   0.328205  0.075758  0.328502   \n",
       "MSE                  0.049419  0.447674   0.380814  0.354651  0.404070   \n",
       "\n",
       "                 cognitive  symptoms  no_cognitive  \n",
       "Accuracy Score    0.953488  0.639535      0.619186  \n",
       "Precision Score   0.909091  0.008264      0.165289  \n",
       "Recall Score      0.956522  0.200000      0.400000  \n",
       "F1 Score          0.932203  0.015873      0.233918  \n",
       "MSE               0.046512  0.360465      0.380814  "
      ]
     },
     "execution_count": 24,
     "metadata": {},
     "output_type": "execute_result"
    }
   ],
   "source": [
    "xgbc_pipe = Pipeline([('scale', StandardScaler()), ('gbc', XGBClassifier(random_state=42))])\n",
    "xgbc_accu_score = {}\n",
    "xgbc_conf_matrix = {}\n",
    "\n",
    "for key in subcategory_dict:\n",
    "    item = subcategory_dict[key]\n",
    "    xgbc_pipe.fit(df_train[item[:-1]], df_train.Diagnosis)\n",
    "    pred = xgbc_pipe.predict(df_test[item[:-1]])\n",
    "\n",
    "    xgbc_accu_score[key] = [accuracy_score(pred, df_test.Diagnosis),\n",
    "                           precision_score(pred, df_test.Diagnosis, zero_division=1),\n",
    "                           recall_score(pred, df_test.Diagnosis),\n",
    "                           f1_score(pred, df_test.Diagnosis),\n",
    "                           mean_squared_error(pred, df_test.Diagnosis)]\n",
    "    xgbc_conf_matrix[key] = confusion_matrix(pred, df_test.Diagnosis)\n",
    "\n",
    "xgbc_accu_score_df = pd.DataFrame(xgbc_accu_score, index=['Accuracy Score', 'Precision Score', 'Recall Score', 'F1 Score', 'MSE'])\n",
    "xgbc_accu_score_df"
   ]
  },
  {
   "cell_type": "code",
   "execution_count": 25,
   "metadata": {},
   "outputs": [
    {
     "data": {
      "image/png": "[encoded data removed]",
      "text/plain": [
       "<Figure size 640x480 with 2 Axes>"
      ]
     },
     "metadata": {},
     "output_type": "display_data"
    }
   ],
   "source": [
    "#Plotting confusion matrix\n",
    "sns.heatmap(xgbc_conf_matrix[\"all_features\"], annot=True, fmt=\"d\", cmap=\"Blues\", xticklabels=['No Alzheimers', 'Alzheimers'], yticklabels=['No Alzheimers', 'Alzheimers'])\n",
    "plt.xlabel(\"Predicted Label\")\n",
    "plt.ylabel(\"True Label\")\n",
    "plt.title(\"Confusion Matrix for XGBoost classification model on all features\")\n",
    "plt.show()"
   ]
  },
  {
   "cell_type": "markdown",
   "metadata": {},
   "source": [
    "## **Model exploration on subjects with no memory complaints**"
   ]
  },
  {
   "cell_type": "code",
   "execution_count": 26,
   "metadata": {},
   "outputs": [],
   "source": [
    "## Load the traning dataset\n",
    "df = pd.read_csv(\"../data/kaggle_train.csv\")\n",
    "\n",
    "## Dropping redundant columns\n",
    "df = df.drop(columns = ['DoctorInCharge' , 'PatientID' ])"
   ]
  },
  {
   "cell_type": "code",
   "execution_count": 27,
   "metadata": {},
   "outputs": [
    {
     "data": {
      "application/vnd.microsoft.datawrangler.viewer.v0+json": {
       "columns": [
        {
         "name": "index",
         "rawType": "object",
         "type": "string"
        },
        {
         "name": "Age",
         "rawType": "float64",
         "type": "float"
        },
        {
         "name": "Gender",
         "rawType": "float64",
         "type": "float"
        },
        {
         "name": "Ethnicity",
         "rawType": "float64",
         "type": "float"
        },
        {
         "name": "EducationLevel",
         "rawType": "float64",
         "type": "float"
        },
        {
         "name": "BMI",
         "rawType": "float64",
         "type": "float"
        },
        {
         "name": "Smoking",
         "rawType": "float64",
         "type": "float"
        },
        {
         "name": "AlcoholConsumption",
         "rawType": "float64",
         "type": "float"
        },
        {
         "name": "PhysicalActivity",
         "rawType": "float64",
         "type": "float"
        },
        {
         "name": "DietQuality",
         "rawType": "float64",
         "type": "float"
        },
        {
         "name": "SleepQuality",
         "rawType": "float64",
         "type": "float"
        },
        {
         "name": "FamilyHistoryAlzheimers",
         "rawType": "float64",
         "type": "float"
        },
        {
         "name": "CardiovascularDisease",
         "rawType": "float64",
         "type": "float"
        },
        {
         "name": "Diabetes",
         "rawType": "float64",
         "type": "float"
        },
        {
         "name": "Depression",
         "rawType": "float64",
         "type": "float"
        },
        {
         "name": "HeadInjury",
         "rawType": "float64",
         "type": "float"
        },
        {
         "name": "Hypertension",
         "rawType": "float64",
         "type": "float"
        },
        {
         "name": "SystolicBP",
         "rawType": "float64",
         "type": "float"
        },
        {
         "name": "DiastolicBP",
         "rawType": "float64",
         "type": "float"
        },
        {
         "name": "CholesterolTotal",
         "rawType": "float64",
         "type": "float"
        },
        {
         "name": "CholesterolLDL",
         "rawType": "float64",
         "type": "float"
        },
        {
         "name": "CholesterolHDL",
         "rawType": "float64",
         "type": "float"
        },
        {
         "name": "CholesterolTriglycerides",
         "rawType": "float64",
         "type": "float"
        },
        {
         "name": "MMSE",
         "rawType": "float64",
         "type": "float"
        },
        {
         "name": "FunctionalAssessment",
         "rawType": "float64",
         "type": "float"
        },
        {
         "name": "MemoryComplaints",
         "rawType": "float64",
         "type": "float"
        },
        {
         "name": "BehavioralProblems",
         "rawType": "float64",
         "type": "float"
        },
        {
         "name": "ADL",
         "rawType": "float64",
         "type": "float"
        },
        {
         "name": "Confusion",
         "rawType": "float64",
         "type": "float"
        },
        {
         "name": "Disorientation",
         "rawType": "float64",
         "type": "float"
        },
        {
         "name": "PersonalityChanges",
         "rawType": "float64",
         "type": "float"
        },
        {
         "name": "DifficultyCompletingTasks",
         "rawType": "float64",
         "type": "float"
        },
        {
         "name": "Forgetfulness",
         "rawType": "float64",
         "type": "float"
        },
        {
         "name": "Diagnosis",
         "rawType": "float64",
         "type": "float"
        }
       ],
       "conversionMethod": "pd.DataFrame",
       "ref": "25d79a99-2187-41f2-b3b5-a402ac3b4da3",
       "rows": [
        [
         "count",
         "1719.0",
         "1719.0",
         "1719.0",
         "1719.0",
         "1719.0",
         "1719.0",
         "1719.0",
         "1719.0",
         "1719.0",
         "1719.0",
         "1719.0",
         "1719.0",
         "1719.0",
         "1719.0",
         "1719.0",
         "1719.0",
         "1719.0",
         "1719.0",
         "1719.0",
         "1719.0",
         "1719.0",
         "1719.0",
         "1719.0",
         "1719.0",
         "1719.0",
         "1719.0",
         "1719.0",
         "1719.0",
         "1719.0",
         "1719.0",
         "1719.0",
         "1719.0",
         "1719.0"
        ],
        [
         "mean",
         "74.96044211751018",
         "0.5002908667830134",
         "0.6980802792321117",
         "1.283304246655032",
         "27.687407964864946",
         "0.28679464805119254",
         "9.978132722943512",
         "4.942194981355307",
         "4.972311768365949",
         "7.038043623462891",
         "0.24956369982547993",
         "0.1372891215823153",
         "0.15532286212914484",
         "0.20767888307155322",
         "0.09947643979057591",
         "0.15241419429901104",
         "134.27283304246654",
         "89.43630017452007",
         "224.90275476826253",
         "124.46051570294031",
         "58.95370511380209",
         "229.27694481338054",
         "14.737994442839312",
         "5.069688378267585",
         "0.20593368237347295",
         "0.15648632926119838",
         "4.970744289755442",
         "0.20127981384525886",
         "0.15881326352530542",
         "0.14834205933682373",
         "0.16172193135543922",
         "0.29668411867364747",
         "0.3531122745782432"
        ],
        [
         "std",
         "9.064999727552678",
         "0.5001454122467852",
         "0.9948363964576297",
         "0.9043391813880437",
         "7.209284220491006",
         "0.45239643783726635",
         "5.777363413793904",
         "2.8273188750839378",
         "2.9009203774353516",
         "1.758165585975245",
         "0.43288644122700065",
         "0.34425246518019137",
         "0.36231759154491716",
         "0.4057636548811393",
         "0.2993877423236859",
         "0.3595264971458657",
         "25.885471778333375",
         "17.76506845141049",
         "42.60569710604477",
         "43.343516631620155",
         "23.222822183024892",
         "102.72470580864973",
         "8.639327537647302",
         "2.8904352521225776",
         "0.40449991865363555",
         "0.3634215053999393",
         "2.947605918337506",
         "0.40107334484482726",
         "0.36560822038556406",
         "0.355542163241327",
         "0.3683026725464837",
         "0.45692899790319663",
         "0.47807630706102977"
        ],
        [
         "min",
         "60.0",
         "0.0",
         "0.0",
         "0.0",
         "15.00885118163106",
         "0.0",
         "0.0020030991362718",
         "0.003616016826019",
         "0.00938472011623",
         "4.002628659826611",
         "0.0",
         "0.0",
         "0.0",
         "0.0",
         "0.0",
         "0.0",
         "90.0",
         "60.0",
         "150.09331559406317",
         "50.23070655980742",
         "20.00343401498445",
         "50.40719361978579",
         "0.0053121464417005",
         "0.000459593595804",
         "0.0",
         "0.0",
         "0.0012879277024868",
         "0.0",
         "0.0",
         "0.0",
         "0.0",
         "0.0",
         "0.0"
        ],
        [
         "25%",
         "67.0",
         "0.0",
         "0.0",
         "1.0",
         "21.641241773286175",
         "0.0",
         "5.137581755849869",
         "2.6125211100254937",
         "2.41572553110393",
         "5.517895232949633",
         "0.0",
         "0.0",
         "0.0",
         "0.0",
         "0.0",
         "0.0",
         "112.0",
         "74.0",
         "189.31829788652863",
         "87.56993427770053",
         "38.53405141828311",
         "137.56787176918",
         "7.0102065465868515",
         "2.5623074441572364",
         "0.0",
         "0.0",
         "2.3241661105767992",
         "0.0",
         "0.0",
         "0.0",
         "0.0",
         "0.0",
         "0.0"
        ],
        [
         "50%",
         "75.0",
         "1.0",
         "0.0",
         "1.0",
         "27.919813203372183",
         "0.0",
         "9.80556382599178",
         "4.801356811511221",
         "5.050777841292017",
         "7.090394984430804",
         "0.0",
         "0.0",
         "0.0",
         "0.0",
         "0.0",
         "0.0",
         "134.0",
         "90.0",
         "224.5631133076569",
         "123.1522359843563",
         "58.91511501617362",
         "232.7023009373605",
         "14.410220971211476",
         "5.098708998113449",
         "0.0",
         "0.0",
         "5.026306086980924",
         "0.0",
         "0.0",
         "0.0",
         "0.0",
         "0.0",
         "0.0"
        ],
        [
         "75%",
         "83.0",
         "1.0",
         "1.0",
         "2.0",
         "33.842593653682044",
         "1.0",
         "15.181032768338891",
         "7.380415682142629",
         "7.4804236449355574",
         "8.55278323948054",
         "0.0",
         "0.0",
         "0.0",
         "0.0",
         "0.0",
         "0.0",
         "157.0",
         "105.0",
         "261.987391011991",
         "161.9015810559552",
         "78.58333759174303",
         "316.1574353301223",
         "22.228168077711747",
         "7.496823625223802",
         "0.0",
         "0.0",
         "7.583824621322526",
         "0.0",
         "0.0",
         "0.0",
         "0.0",
         "1.0",
         "1.0"
        ],
        [
         "max",
         "90.0",
         "1.0",
         "3.0",
         "3.0",
         "39.99276746402374",
         "1.0",
         "19.98929335906197",
         "9.987429413422252",
         "9.997202924310534",
         "9.99984031668144",
         "1.0",
         "1.0",
         "1.0",
         "1.0",
         "1.0",
         "1.0",
         "179.0",
         "119.0",
         "299.99335247432657",
         "199.96566510142804",
         "99.959494249715",
         "399.9418615941332",
         "29.991380560529063",
         "9.996467072555015",
         "1.0",
         "1.0",
         "9.99974712180168",
         "1.0",
         "1.0",
         "1.0",
         "1.0",
         "1.0",
         "1.0"
        ]
       ],
       "shape": {
        "columns": 33,
        "rows": 8
       }
      },
      "text/html": [
       "<div>\n",
       "<style scoped>\n",
       "    .dataframe tbody tr th:only-of-type {\n",
       "        vertical-align: middle;\n",
       "    }\n",
       "\n",
       "    .dataframe tbody tr th {\n",
       "        vertical-align: top;\n",
       "    }\n",
       "\n",
       "    .dataframe thead th {\n",
       "        text-align: right;\n",
       "    }\n",
       "</style>\n",
       "<table border=\"1\" class=\"dataframe\">\n",
       "  <thead>\n",
       "    <tr style=\"text-align: right;\">\n",
       "      <th></th>\n",
       "      <th>Age</th>\n",
       "      <th>Gender</th>\n",
       "      <th>Ethnicity</th>\n",
       "      <th>EducationLevel</th>\n",
       "      <th>BMI</th>\n",
       "      <th>Smoking</th>\n",
       "      <th>AlcoholConsumption</th>\n",
       "      <th>PhysicalActivity</th>\n",
       "      <th>DietQuality</th>\n",
       "      <th>SleepQuality</th>\n",
       "      <th>...</th>\n",
       "      <th>FunctionalAssessment</th>\n",
       "      <th>MemoryComplaints</th>\n",
       "      <th>BehavioralProblems</th>\n",
       "      <th>ADL</th>\n",
       "      <th>Confusion</th>\n",
       "      <th>Disorientation</th>\n",
       "      <th>PersonalityChanges</th>\n",
       "      <th>DifficultyCompletingTasks</th>\n",
       "      <th>Forgetfulness</th>\n",
       "      <th>Diagnosis</th>\n",
       "    </tr>\n",
       "  </thead>\n",
       "  <tbody>\n",
       "    <tr>\n",
       "      <th>count</th>\n",
       "      <td>1719.000000</td>\n",
       "      <td>1719.000000</td>\n",
       "      <td>1719.000000</td>\n",
       "      <td>1719.000000</td>\n",
       "      <td>1719.000000</td>\n",
       "      <td>1719.000000</td>\n",
       "      <td>1719.000000</td>\n",
       "      <td>1719.000000</td>\n",
       "      <td>1719.000000</td>\n",
       "      <td>1719.000000</td>\n",
       "      <td>...</td>\n",
       "      <td>1719.000000</td>\n",
       "      <td>1719.000000</td>\n",
       "      <td>1719.000000</td>\n",
       "      <td>1719.000000</td>\n",
       "      <td>1719.000000</td>\n",
       "      <td>1719.000000</td>\n",
       "      <td>1719.000000</td>\n",
       "      <td>1719.000000</td>\n",
       "      <td>1719.000000</td>\n",
       "      <td>1719.000000</td>\n",
       "    </tr>\n",
       "    <tr>\n",
       "      <th>mean</th>\n",
       "      <td>74.960442</td>\n",
       "      <td>0.500291</td>\n",
       "      <td>0.698080</td>\n",
       "      <td>1.283304</td>\n",
       "      <td>27.687408</td>\n",
       "      <td>0.286795</td>\n",
       "      <td>9.978133</td>\n",
       "      <td>4.942195</td>\n",
       "      <td>4.972312</td>\n",
       "      <td>7.038044</td>\n",
       "      <td>...</td>\n",
       "      <td>5.069688</td>\n",
       "      <td>0.205934</td>\n",
       "      <td>0.156486</td>\n",
       "      <td>4.970744</td>\n",
       "      <td>0.201280</td>\n",
       "      <td>0.158813</td>\n",
       "      <td>0.148342</td>\n",
       "      <td>0.161722</td>\n",
       "      <td>0.296684</td>\n",
       "      <td>0.353112</td>\n",
       "    </tr>\n",
       "    <tr>\n",
       "      <th>std</th>\n",
       "      <td>9.065000</td>\n",
       "      <td>0.500145</td>\n",
       "      <td>0.994836</td>\n",
       "      <td>0.904339</td>\n",
       "      <td>7.209284</td>\n",
       "      <td>0.452396</td>\n",
       "      <td>5.777363</td>\n",
       "      <td>2.827319</td>\n",
       "      <td>2.900920</td>\n",
       "      <td>1.758166</td>\n",
       "      <td>...</td>\n",
       "      <td>2.890435</td>\n",
       "      <td>0.404500</td>\n",
       "      <td>0.363422</td>\n",
       "      <td>2.947606</td>\n",
       "      <td>0.401073</td>\n",
       "      <td>0.365608</td>\n",
       "      <td>0.355542</td>\n",
       "      <td>0.368303</td>\n",
       "      <td>0.456929</td>\n",
       "      <td>0.478076</td>\n",
       "    </tr>\n",
       "    <tr>\n",
       "      <th>min</th>\n",
       "      <td>60.000000</td>\n",
       "      <td>0.000000</td>\n",
       "      <td>0.000000</td>\n",
       "      <td>0.000000</td>\n",
       "      <td>15.008851</td>\n",
       "      <td>0.000000</td>\n",
       "      <td>0.002003</td>\n",
       "      <td>0.003616</td>\n",
       "      <td>0.009385</td>\n",
       "      <td>4.002629</td>\n",
       "      <td>...</td>\n",
       "      <td>0.000460</td>\n",
       "      <td>0.000000</td>\n",
       "      <td>0.000000</td>\n",
       "      <td>0.001288</td>\n",
       "      <td>0.000000</td>\n",
       "      <td>0.000000</td>\n",
       "      <td>0.000000</td>\n",
       "      <td>0.000000</td>\n",
       "      <td>0.000000</td>\n",
       "      <td>0.000000</td>\n",
       "    </tr>\n",
       "    <tr>\n",
       "      <th>25%</th>\n",
       "      <td>67.000000</td>\n",
       "      <td>0.000000</td>\n",
       "      <td>0.000000</td>\n",
       "      <td>1.000000</td>\n",
       "      <td>21.641242</td>\n",
       "      <td>0.000000</td>\n",
       "      <td>5.137582</td>\n",
       "      <td>2.612521</td>\n",
       "      <td>2.415726</td>\n",
       "      <td>5.517895</td>\n",
       "      <td>...</td>\n",
       "      <td>2.562307</td>\n",
       "      <td>0.000000</td>\n",
       "      <td>0.000000</td>\n",
       "      <td>2.324166</td>\n",
       "      <td>0.000000</td>\n",
       "      <td>0.000000</td>\n",
       "      <td>0.000000</td>\n",
       "      <td>0.000000</td>\n",
       "      <td>0.000000</td>\n",
       "      <td>0.000000</td>\n",
       "    </tr>\n",
       "    <tr>\n",
       "      <th>50%</th>\n",
       "      <td>75.000000</td>\n",
       "      <td>1.000000</td>\n",
       "      <td>0.000000</td>\n",
       "      <td>1.000000</td>\n",
       "      <td>27.919813</td>\n",
       "      <td>0.000000</td>\n",
       "      <td>9.805564</td>\n",
       "      <td>4.801357</td>\n",
       "      <td>5.050778</td>\n",
       "      <td>7.090395</td>\n",
       "      <td>...</td>\n",
       "      <td>5.098709</td>\n",
       "      <td>0.000000</td>\n",
       "      <td>0.000000</td>\n",
       "      <td>5.026306</td>\n",
       "      <td>0.000000</td>\n",
       "      <td>0.000000</td>\n",
       "      <td>0.000000</td>\n",
       "      <td>0.000000</td>\n",
       "      <td>0.000000</td>\n",
       "      <td>0.000000</td>\n",
       "    </tr>\n",
       "    <tr>\n",
       "      <th>75%</th>\n",
       "      <td>83.000000</td>\n",
       "      <td>1.000000</td>\n",
       "      <td>1.000000</td>\n",
       "      <td>2.000000</td>\n",
       "      <td>33.842594</td>\n",
       "      <td>1.000000</td>\n",
       "      <td>15.181033</td>\n",
       "      <td>7.380416</td>\n",
       "      <td>7.480424</td>\n",
       "      <td>8.552783</td>\n",
       "      <td>...</td>\n",
       "      <td>7.496824</td>\n",
       "      <td>0.000000</td>\n",
       "      <td>0.000000</td>\n",
       "      <td>7.583825</td>\n",
       "      <td>0.000000</td>\n",
       "      <td>0.000000</td>\n",
       "      <td>0.000000</td>\n",
       "      <td>0.000000</td>\n",
       "      <td>1.000000</td>\n",
       "      <td>1.000000</td>\n",
       "    </tr>\n",
       "    <tr>\n",
       "      <th>max</th>\n",
       "      <td>90.000000</td>\n",
       "      <td>1.000000</td>\n",
       "      <td>3.000000</td>\n",
       "      <td>3.000000</td>\n",
       "      <td>39.992767</td>\n",
       "      <td>1.000000</td>\n",
       "      <td>19.989293</td>\n",
       "      <td>9.987429</td>\n",
       "      <td>9.997203</td>\n",
       "      <td>9.999840</td>\n",
       "      <td>...</td>\n",
       "      <td>9.996467</td>\n",
       "      <td>1.000000</td>\n",
       "      <td>1.000000</td>\n",
       "      <td>9.999747</td>\n",
       "      <td>1.000000</td>\n",
       "      <td>1.000000</td>\n",
       "      <td>1.000000</td>\n",
       "      <td>1.000000</td>\n",
       "      <td>1.000000</td>\n",
       "      <td>1.000000</td>\n",
       "    </tr>\n",
       "  </tbody>\n",
       "</table>\n",
       "<p>8 rows × 33 columns</p>\n",
       "</div>"
      ],
      "text/plain": [
       "               Age       Gender    Ethnicity  EducationLevel          BMI  \\\n",
       "count  1719.000000  1719.000000  1719.000000     1719.000000  1719.000000   \n",
       "mean     74.960442     0.500291     0.698080        1.283304    27.687408   \n",
       "std       9.065000     0.500145     0.994836        0.904339     7.209284   \n",
       "min      60.000000     0.000000     0.000000        0.000000    15.008851   \n",
       "25%      67.000000     0.000000     0.000000        1.000000    21.641242   \n",
       "50%      75.000000     1.000000     0.000000        1.000000    27.919813   \n",
       "75%      83.000000     1.000000     1.000000        2.000000    33.842594   \n",
       "max      90.000000     1.000000     3.000000        3.000000    39.992767   \n",
       "\n",
       "           Smoking  AlcoholConsumption  PhysicalActivity  DietQuality  \\\n",
       "count  1719.000000         1719.000000       1719.000000  1719.000000   \n",
       "mean      0.286795            9.978133          4.942195     4.972312   \n",
       "std       0.452396            5.777363          2.827319     2.900920   \n",
       "min       0.000000            0.002003          0.003616     0.009385   \n",
       "25%       0.000000            5.137582          2.612521     2.415726   \n",
       "50%       0.000000            9.805564          4.801357     5.050778   \n",
       "75%       1.000000           15.181033          7.380416     7.480424   \n",
       "max       1.000000           19.989293          9.987429     9.997203   \n",
       "\n",
       "       SleepQuality  ...  FunctionalAssessment  MemoryComplaints  \\\n",
       "count   1719.000000  ...           1719.000000       1719.000000   \n",
       "mean       7.038044  ...              5.069688          0.205934   \n",
       "std        1.758166  ...              2.890435          0.404500   \n",
       "min        4.002629  ...              0.000460          0.000000   \n",
       "25%        5.517895  ...              2.562307          0.000000   \n",
       "50%        7.090395  ...              5.098709          0.000000   \n",
       "75%        8.552783  ...              7.496824          0.000000   \n",
       "max        9.999840  ...              9.996467          1.000000   \n",
       "\n",
       "       BehavioralProblems          ADL    Confusion  Disorientation  \\\n",
       "count         1719.000000  1719.000000  1719.000000     1719.000000   \n",
       "mean             0.156486     4.970744     0.201280        0.158813   \n",
       "std              0.363422     2.947606     0.401073        0.365608   \n",
       "min              0.000000     0.001288     0.000000        0.000000   \n",
       "25%              0.000000     2.324166     0.000000        0.000000   \n",
       "50%              0.000000     5.026306     0.000000        0.000000   \n",
       "75%              0.000000     7.583825     0.000000        0.000000   \n",
       "max              1.000000     9.999747     1.000000        1.000000   \n",
       "\n",
       "       PersonalityChanges  DifficultyCompletingTasks  Forgetfulness  \\\n",
       "count         1719.000000                1719.000000    1719.000000   \n",
       "mean             0.148342                   0.161722       0.296684   \n",
       "std              0.355542                   0.368303       0.456929   \n",
       "min              0.000000                   0.000000       0.000000   \n",
       "25%              0.000000                   0.000000       0.000000   \n",
       "50%              0.000000                   0.000000       0.000000   \n",
       "75%              0.000000                   0.000000       1.000000   \n",
       "max              1.000000                   1.000000       1.000000   \n",
       "\n",
       "         Diagnosis  \n",
       "count  1719.000000  \n",
       "mean      0.353112  \n",
       "std       0.478076  \n",
       "min       0.000000  \n",
       "25%       0.000000  \n",
       "50%       0.000000  \n",
       "75%       1.000000  \n",
       "max       1.000000  \n",
       "\n",
       "[8 rows x 33 columns]"
      ]
     },
     "execution_count": 27,
     "metadata": {},
     "output_type": "execute_result"
    }
   ],
   "source": [
    "df.describe()"
   ]
  },
  {
   "cell_type": "code",
   "execution_count": 28,
   "metadata": {},
   "outputs": [],
   "source": [
    "#Separating dataset into those with and without memory complaints\n",
    "df_mem_comp_true = df[df['MemoryComplaints']==1]\n",
    "\n",
    "df_mem_comp_false = df[df['MemoryComplaints']==0]"
   ]
  },
  {
   "cell_type": "code",
   "execution_count": 29,
   "metadata": {},
   "outputs": [],
   "source": [
    "## Seperating features into subcategories\n",
    "\n",
    "all_features = [   'Age', 'Gender', 'Ethnicity', 'EducationLevel', 'BMI',\n",
    "               'Smoking', 'AlcoholConsumption', 'PhysicalActivity', 'DietQuality',\n",
    "               'SleepQuality', 'FamilyHistoryAlzheimers', 'CardiovascularDisease',\n",
    "               'Diabetes', 'Depression', 'HeadInjury', 'Hypertension', 'SystolicBP',\n",
    "               'DiastolicBP', 'CholesterolTotal', 'CholesterolLDL', 'CholesterolHDL',\n",
    "               'CholesterolTriglycerides', 'MMSE', 'FunctionalAssessment',\n",
    "               'MemoryComplaints', 'BehavioralProblems', 'ADL', 'Confusion',\n",
    "               'Disorientation', 'PersonalityChanges', 'DifficultyCompletingTasks',\n",
    "               'Forgetfulness' , 'Diagnosis']\n",
    "demo_features = ['Age', 'Gender', 'Ethnicity','EducationLevel','Diagnosis']\n",
    "life_style_features = ['BMI','Smoking', 'AlcoholConsumption', 'PhysicalActivity', 'DietQuality', 'SleepQuality','Diagnosis']\n",
    "medic_hist_features = ['FamilyHistoryAlzheimers', 'CardiovascularDisease','Diabetes', 'Depression', 'HeadInjury', 'Hypertension','Diagnosis']\n",
    "clinical_features = ['SystolicBP','DiastolicBP', 'CholesterolTotal', 'CholesterolLDL', 'CholesterolHDL','CholesterolTriglycerides','Diagnosis']\n",
    "cognitive_features = ['MMSE', 'FunctionalAssessment','MemoryComplaints', 'BehavioralProblems', 'ADL','Diagnosis']\n",
    "symptoms_features = ['Confusion','Disorientation', 'PersonalityChanges', 'DifficultyCompletingTasks','Forgetfulness','Diagnosis']\n",
    "\n",
    "no_cognitive = [item for item in all_features if item not in cognitive_features]\n",
    "no_cognitive.append('Diagnosis')\n",
    "\n",
    "subcategory_dict = {'all_features' : all_features,'demo':demo_features ,'lifestyle': life_style_features , 'medic' : medic_hist_features , \n",
    "                    'clinical':clinical_features , 'cognitive': cognitive_features , 'symptoms': symptoms_features , 'no_cognitive': no_cognitive}"
   ]
  },
  {
   "cell_type": "code",
   "execution_count": 30,
   "metadata": {},
   "outputs": [],
   "source": [
    "## Splitting the training data to get validation data\n",
    "df_train, df_test = train_test_split(df_mem_comp_false, random_state= 123 , shuffle= True,test_size=0.2, stratify=df_mem_comp_false['Diagnosis'])"
   ]
  },
  {
   "cell_type": "markdown",
   "metadata": {},
   "source": [
    "### **Logistic Regression**"
   ]
  },
  {
   "cell_type": "code",
   "execution_count": 31,
   "metadata": {},
   "outputs": [
    {
     "name": "stderr",
     "output_type": "stream",
     "text": [
      "c:\\Users\\ladyj\\anaconda3\\envs\\erdos_spring_2025\\Lib\\site-packages\\sklearn\\metrics\\_classification.py:1531: UndefinedMetricWarning: Recall is ill-defined and being set to 0.0 due to no true samples. Use `zero_division` parameter to control this behavior.\n",
      "  _warn_prf(average, modifier, f\"{metric.capitalize()} is\", len(result))\n",
      "c:\\Users\\ladyj\\anaconda3\\envs\\erdos_spring_2025\\Lib\\site-packages\\sklearn\\metrics\\_classification.py:1531: UndefinedMetricWarning: Recall is ill-defined and being set to 0.0 due to no true samples. Use `zero_division` parameter to control this behavior.\n",
      "  _warn_prf(average, modifier, f\"{metric.capitalize()} is\", len(result))\n",
      "c:\\Users\\ladyj\\anaconda3\\envs\\erdos_spring_2025\\Lib\\site-packages\\sklearn\\metrics\\_classification.py:1531: UndefinedMetricWarning: Recall is ill-defined and being set to 0.0 due to no true samples. Use `zero_division` parameter to control this behavior.\n",
      "  _warn_prf(average, modifier, f\"{metric.capitalize()} is\", len(result))\n",
      "c:\\Users\\ladyj\\anaconda3\\envs\\erdos_spring_2025\\Lib\\site-packages\\sklearn\\metrics\\_classification.py:1531: UndefinedMetricWarning: Recall is ill-defined and being set to 0.0 due to no true samples. Use `zero_division` parameter to control this behavior.\n",
      "  _warn_prf(average, modifier, f\"{metric.capitalize()} is\", len(result))\n",
      "c:\\Users\\ladyj\\anaconda3\\envs\\erdos_spring_2025\\Lib\\site-packages\\sklearn\\metrics\\_classification.py:1531: UndefinedMetricWarning: Recall is ill-defined and being set to 0.0 due to no true samples. Use `zero_division` parameter to control this behavior.\n",
      "  _warn_prf(average, modifier, f\"{metric.capitalize()} is\", len(result))\n",
      "c:\\Users\\ladyj\\anaconda3\\envs\\erdos_spring_2025\\Lib\\site-packages\\sklearn\\metrics\\_classification.py:1531: UndefinedMetricWarning: Recall is ill-defined and being set to 0.0 due to no true samples. Use `zero_division` parameter to control this behavior.\n",
      "  _warn_prf(average, modifier, f\"{metric.capitalize()} is\", len(result))\n"
     ]
    },
    {
     "data": {
      "application/vnd.microsoft.datawrangler.viewer.v0+json": {
       "columns": [
        {
         "name": "index",
         "rawType": "object",
         "type": "string"
        },
        {
         "name": "all_features",
         "rawType": "float64",
         "type": "float"
        },
        {
         "name": "demo",
         "rawType": "float64",
         "type": "float"
        },
        {
         "name": "lifestyle",
         "rawType": "float64",
         "type": "float"
        },
        {
         "name": "medic",
         "rawType": "float64",
         "type": "float"
        },
        {
         "name": "clinical",
         "rawType": "float64",
         "type": "float"
        },
        {
         "name": "cognitive",
         "rawType": "float64",
         "type": "float"
        },
        {
         "name": "symptoms",
         "rawType": "float64",
         "type": "float"
        },
        {
         "name": "no_cognitive",
         "rawType": "float64",
         "type": "float"
        }
       ],
       "conversionMethod": "pd.DataFrame",
       "ref": "923fdd78-b917-4381-80f3-6b2a5b43677a",
       "rows": [
        [
         "Accuracy Score",
         "0.8534798534798534",
         "0.717948717948718",
         "0.717948717948718",
         "0.717948717948718",
         "0.717948717948718",
         "0.8681318681318682",
         "0.717948717948718",
         "0.717948717948718"
        ],
        [
         "Precision Score",
         "0.6753246753246753",
         "0.0",
         "0.0",
         "0.0",
         "0.0",
         "0.7142857142857143",
         "0.0",
         "0.0"
        ],
        [
         "Recall Score",
         "0.7761194029850746",
         "0.0",
         "0.0",
         "0.0",
         "0.0",
         "0.7971014492753623",
         "0.0",
         "0.0"
        ],
        [
         "F1 Score",
         "0.7222222222222222",
         "0.0",
         "0.0",
         "0.0",
         "0.0",
         "0.7534246575342466",
         "0.0",
         "0.0"
        ],
        [
         "MSE",
         "0.14652014652014653",
         "0.28205128205128205",
         "0.28205128205128205",
         "0.28205128205128205",
         "0.28205128205128205",
         "0.13186813186813187",
         "0.28205128205128205",
         "0.28205128205128205"
        ]
       ],
       "shape": {
        "columns": 8,
        "rows": 5
       }
      },
      "text/html": [
       "<div>\n",
       "<style scoped>\n",
       "    .dataframe tbody tr th:only-of-type {\n",
       "        vertical-align: middle;\n",
       "    }\n",
       "\n",
       "    .dataframe tbody tr th {\n",
       "        vertical-align: top;\n",
       "    }\n",
       "\n",
       "    .dataframe thead th {\n",
       "        text-align: right;\n",
       "    }\n",
       "</style>\n",
       "<table border=\"1\" class=\"dataframe\">\n",
       "  <thead>\n",
       "    <tr style=\"text-align: right;\">\n",
       "      <th></th>\n",
       "      <th>all_features</th>\n",
       "      <th>demo</th>\n",
       "      <th>lifestyle</th>\n",
       "      <th>medic</th>\n",
       "      <th>clinical</th>\n",
       "      <th>cognitive</th>\n",
       "      <th>symptoms</th>\n",
       "      <th>no_cognitive</th>\n",
       "    </tr>\n",
       "  </thead>\n",
       "  <tbody>\n",
       "    <tr>\n",
       "      <th>Accuracy Score</th>\n",
       "      <td>0.853480</td>\n",
       "      <td>0.717949</td>\n",
       "      <td>0.717949</td>\n",
       "      <td>0.717949</td>\n",
       "      <td>0.717949</td>\n",
       "      <td>0.868132</td>\n",
       "      <td>0.717949</td>\n",
       "      <td>0.717949</td>\n",
       "    </tr>\n",
       "    <tr>\n",
       "      <th>Precision Score</th>\n",
       "      <td>0.675325</td>\n",
       "      <td>0.000000</td>\n",
       "      <td>0.000000</td>\n",
       "      <td>0.000000</td>\n",
       "      <td>0.000000</td>\n",
       "      <td>0.714286</td>\n",
       "      <td>0.000000</td>\n",
       "      <td>0.000000</td>\n",
       "    </tr>\n",
       "    <tr>\n",
       "      <th>Recall Score</th>\n",
       "      <td>0.776119</td>\n",
       "      <td>0.000000</td>\n",
       "      <td>0.000000</td>\n",
       "      <td>0.000000</td>\n",
       "      <td>0.000000</td>\n",
       "      <td>0.797101</td>\n",
       "      <td>0.000000</td>\n",
       "      <td>0.000000</td>\n",
       "    </tr>\n",
       "    <tr>\n",
       "      <th>F1 Score</th>\n",
       "      <td>0.722222</td>\n",
       "      <td>0.000000</td>\n",
       "      <td>0.000000</td>\n",
       "      <td>0.000000</td>\n",
       "      <td>0.000000</td>\n",
       "      <td>0.753425</td>\n",
       "      <td>0.000000</td>\n",
       "      <td>0.000000</td>\n",
       "    </tr>\n",
       "    <tr>\n",
       "      <th>MSE</th>\n",
       "      <td>0.146520</td>\n",
       "      <td>0.282051</td>\n",
       "      <td>0.282051</td>\n",
       "      <td>0.282051</td>\n",
       "      <td>0.282051</td>\n",
       "      <td>0.131868</td>\n",
       "      <td>0.282051</td>\n",
       "      <td>0.282051</td>\n",
       "    </tr>\n",
       "  </tbody>\n",
       "</table>\n",
       "</div>"
      ],
      "text/plain": [
       "                 all_features      demo  lifestyle     medic  clinical  \\\n",
       "Accuracy Score       0.853480  0.717949   0.717949  0.717949  0.717949   \n",
       "Precision Score      0.675325  0.000000   0.000000  0.000000  0.000000   \n",
       "Recall Score         0.776119  0.000000   0.000000  0.000000  0.000000   \n",
       "F1 Score             0.722222  0.000000   0.000000  0.000000  0.000000   \n",
       "MSE                  0.146520  0.282051   0.282051  0.282051  0.282051   \n",
       "\n",
       "                 cognitive  symptoms  no_cognitive  \n",
       "Accuracy Score    0.868132  0.717949      0.717949  \n",
       "Precision Score   0.714286  0.000000      0.000000  \n",
       "Recall Score      0.797101  0.000000      0.000000  \n",
       "F1 Score          0.753425  0.000000      0.000000  \n",
       "MSE               0.131868  0.282051      0.282051  "
      ]
     },
     "execution_count": 31,
     "metadata": {},
     "output_type": "execute_result"
    }
   ],
   "source": [
    "lr_pipe = Pipeline([('scale', StandardScaler()), ('lr', LogisticRegression(random_state=42))])\n",
    "\n",
    "lr_acc_score = {}\n",
    "lr_conf_matrix = {} #confusion matrix\n",
    "\n",
    "for key in subcategory_dict:\n",
    "    item = subcategory_dict[key]\n",
    "    lr_pipe.fit(df_train[item[:-1]], df_train.Diagnosis)\n",
    "    pred = lr_pipe.predict(df_test[item[:-1]])\n",
    "\n",
    "    lr_acc_score[key] = [accuracy_score(pred, df_test.Diagnosis),\n",
    "                           precision_score(pred, df_test.Diagnosis, zero_division=1),\n",
    "                           recall_score(pred, df_test.Diagnosis),\n",
    "                           f1_score(pred, df_test.Diagnosis),\n",
    "                           mean_squared_error(pred, df_test.Diagnosis)]\n",
    "    lr_conf_matrix[key] = confusion_matrix(pred, df_test.Diagnosis)\n",
    "    \n",
    "    \n",
    "lr_acc_score_df = pd.DataFrame(lr_acc_score, index=['Accuracy Score', 'Precision Score', 'Recall Score', 'F1 Score', 'MSE'])\n",
    "#lr_conf_matrix_df = pd.DataFrame(lr_conf_matrix, index = [])\n",
    "lr_acc_score_df\n",
    "\n"
   ]
  },
  {
   "cell_type": "code",
   "execution_count": 32,
   "metadata": {},
   "outputs": [
    {
     "data": {
      "image/png": "[encoded data removed]",
      "text/plain": [
       "<Figure size 640x480 with 2 Axes>"
      ]
     },
     "metadata": {},
     "output_type": "display_data"
    }
   ],
   "source": [
    "sns.heatmap(lr_conf_matrix[\"all_features\"], annot=True, fmt=\"d\", cmap=\"Blues\", xticklabels=['No Alzheimers', 'Alzheimers'], yticklabels=['No Alzheimers', 'Alzheimers'])\n",
    "plt.xlabel(\"Predicted Label\")\n",
    "plt.ylabel(\"True Label\")\n",
    "plt.title(\"Confusion Matrix for linear regression model on all features\")\n",
    "plt.show()\n"
   ]
  },
  {
   "cell_type": "markdown",
   "metadata": {},
   "source": [
    "### **Gradient Boosting Classifier**"
   ]
  },
  {
   "cell_type": "code",
   "execution_count": 33,
   "metadata": {},
   "outputs": [
    {
     "name": "stderr",
     "output_type": "stream",
     "text": [
      "c:\\Users\\ladyj\\anaconda3\\envs\\erdos_spring_2025\\Lib\\site-packages\\sklearn\\metrics\\_classification.py:1531: UndefinedMetricWarning: Recall is ill-defined and being set to 0.0 due to no true samples. Use `zero_division` parameter to control this behavior.\n",
      "  _warn_prf(average, modifier, f\"{metric.capitalize()} is\", len(result))\n"
     ]
    },
    {
     "data": {
      "application/vnd.microsoft.datawrangler.viewer.v0+json": {
       "columns": [
        {
         "name": "index",
         "rawType": "object",
         "type": "string"
        },
        {
         "name": "all_features",
         "rawType": "float64",
         "type": "float"
        },
        {
         "name": "demo",
         "rawType": "float64",
         "type": "float"
        },
        {
         "name": "lifestyle",
         "rawType": "float64",
         "type": "float"
        },
        {
         "name": "medic",
         "rawType": "float64",
         "type": "float"
        },
        {
         "name": "clinical",
         "rawType": "float64",
         "type": "float"
        },
        {
         "name": "cognitive",
         "rawType": "float64",
         "type": "float"
        },
        {
         "name": "symptoms",
         "rawType": "float64",
         "type": "float"
        },
        {
         "name": "no_cognitive",
         "rawType": "float64",
         "type": "float"
        }
       ],
       "conversionMethod": "pd.DataFrame",
       "ref": "4cc8008d-b885-4627-a1df-101d6f12b84e",
       "rows": [
        [
         "Accuracy Score",
         "0.945054945054945",
         "0.6996336996336996",
         "0.6996336996336996",
         "0.7216117216117216",
         "0.6959706959706959",
         "0.9377289377289377",
         "0.717948717948718",
         "0.6813186813186813"
        ],
        [
         "Precision Score",
         "0.8831168831168831",
         "0.012987012987012988",
         "0.05194805194805195",
         "0.025974025974025976",
         "0.09090909090909091",
         "0.8571428571428571",
         "0.0",
         "0.06493506493506493"
        ],
        [
         "Recall Score",
         "0.918918918918919",
         "0.14285714285714285",
         "0.3076923076923077",
         "0.6666666666666666",
         "0.35",
         "0.9166666666666666",
         "0.0",
         "0.25"
        ],
        [
         "F1 Score",
         "0.9006622516556292",
         "0.023809523809523808",
         "0.08888888888888889",
         "0.05",
         "0.14432989690721648",
         "0.8859060402684564",
         "0.0",
         "0.10309278350515463"
        ],
        [
         "MSE",
         "0.054945054945054944",
         "0.30036630036630035",
         "0.30036630036630035",
         "0.2783882783882784",
         "0.304029304029304",
         "0.06227106227106227",
         "0.28205128205128205",
         "0.31868131868131866"
        ]
       ],
       "shape": {
        "columns": 8,
        "rows": 5
       }
      },
      "text/html": [
       "<div>\n",
       "<style scoped>\n",
       "    .dataframe tbody tr th:only-of-type {\n",
       "        vertical-align: middle;\n",
       "    }\n",
       "\n",
       "    .dataframe tbody tr th {\n",
       "        vertical-align: top;\n",
       "    }\n",
       "\n",
       "    .dataframe thead th {\n",
       "        text-align: right;\n",
       "    }\n",
       "</style>\n",
       "<table border=\"1\" class=\"dataframe\">\n",
       "  <thead>\n",
       "    <tr style=\"text-align: right;\">\n",
       "      <th></th>\n",
       "      <th>all_features</th>\n",
       "      <th>demo</th>\n",
       "      <th>lifestyle</th>\n",
       "      <th>medic</th>\n",
       "      <th>clinical</th>\n",
       "      <th>cognitive</th>\n",
       "      <th>symptoms</th>\n",
       "      <th>no_cognitive</th>\n",
       "    </tr>\n",
       "  </thead>\n",
       "  <tbody>\n",
       "    <tr>\n",
       "      <th>Accuracy Score</th>\n",
       "      <td>0.945055</td>\n",
       "      <td>0.699634</td>\n",
       "      <td>0.699634</td>\n",
       "      <td>0.721612</td>\n",
       "      <td>0.695971</td>\n",
       "      <td>0.937729</td>\n",
       "      <td>0.717949</td>\n",
       "      <td>0.681319</td>\n",
       "    </tr>\n",
       "    <tr>\n",
       "      <th>Precision Score</th>\n",
       "      <td>0.883117</td>\n",
       "      <td>0.012987</td>\n",
       "      <td>0.051948</td>\n",
       "      <td>0.025974</td>\n",
       "      <td>0.090909</td>\n",
       "      <td>0.857143</td>\n",
       "      <td>0.000000</td>\n",
       "      <td>0.064935</td>\n",
       "    </tr>\n",
       "    <tr>\n",
       "      <th>Recall Score</th>\n",
       "      <td>0.918919</td>\n",
       "      <td>0.142857</td>\n",
       "      <td>0.307692</td>\n",
       "      <td>0.666667</td>\n",
       "      <td>0.350000</td>\n",
       "      <td>0.916667</td>\n",
       "      <td>0.000000</td>\n",
       "      <td>0.250000</td>\n",
       "    </tr>\n",
       "    <tr>\n",
       "      <th>F1 Score</th>\n",
       "      <td>0.900662</td>\n",
       "      <td>0.023810</td>\n",
       "      <td>0.088889</td>\n",
       "      <td>0.050000</td>\n",
       "      <td>0.144330</td>\n",
       "      <td>0.885906</td>\n",
       "      <td>0.000000</td>\n",
       "      <td>0.103093</td>\n",
       "    </tr>\n",
       "    <tr>\n",
       "      <th>MSE</th>\n",
       "      <td>0.054945</td>\n",
       "      <td>0.300366</td>\n",
       "      <td>0.300366</td>\n",
       "      <td>0.278388</td>\n",
       "      <td>0.304029</td>\n",
       "      <td>0.062271</td>\n",
       "      <td>0.282051</td>\n",
       "      <td>0.318681</td>\n",
       "    </tr>\n",
       "  </tbody>\n",
       "</table>\n",
       "</div>"
      ],
      "text/plain": [
       "                 all_features      demo  lifestyle     medic  clinical  \\\n",
       "Accuracy Score       0.945055  0.699634   0.699634  0.721612  0.695971   \n",
       "Precision Score      0.883117  0.012987   0.051948  0.025974  0.090909   \n",
       "Recall Score         0.918919  0.142857   0.307692  0.666667  0.350000   \n",
       "F1 Score             0.900662  0.023810   0.088889  0.050000  0.144330   \n",
       "MSE                  0.054945  0.300366   0.300366  0.278388  0.304029   \n",
       "\n",
       "                 cognitive  symptoms  no_cognitive  \n",
       "Accuracy Score    0.937729  0.717949      0.681319  \n",
       "Precision Score   0.857143  0.000000      0.064935  \n",
       "Recall Score      0.916667  0.000000      0.250000  \n",
       "F1 Score          0.885906  0.000000      0.103093  \n",
       "MSE               0.062271  0.282051      0.318681  "
      ]
     },
     "execution_count": 33,
     "metadata": {},
     "output_type": "execute_result"
    }
   ],
   "source": [
    "gbc_pipe = Pipeline([('scale', StandardScaler()), ('gbc', GradientBoostingClassifier(random_state=42))])\n",
    "\n",
    "gbc_accu_score = {}\n",
    "gbc_conf_matrix = {}\n",
    "\n",
    "for key in subcategory_dict:\n",
    "    item = subcategory_dict[key]\n",
    "    gbc_pipe.fit(df_train[item[:-1]], df_train.Diagnosis)\n",
    "    pred = gbc_pipe.predict(df_test[item[:-1]])\n",
    "\n",
    "    gbc_accu_score[key] = [accuracy_score(pred, df_test.Diagnosis),\n",
    "                           precision_score(pred, df_test.Diagnosis, zero_division=1),\n",
    "                           recall_score(pred, df_test.Diagnosis),\n",
    "                           f1_score(pred, df_test.Diagnosis),\n",
    "                           mean_squared_error(pred, df_test.Diagnosis)]\n",
    "    gbc_conf_matrix[key] = confusion_matrix(pred, df_test.Diagnosis)\n",
    "\n",
    "gbc_accu_score_df = pd.DataFrame(gbc_accu_score, index=['Accuracy Score', 'Precision Score', 'Recall Score', 'F1 Score', 'MSE'])\n",
    "gbc_accu_score_df\n"
   ]
  },
  {
   "cell_type": "code",
   "execution_count": 34,
   "metadata": {},
   "outputs": [
    {
     "data": {
      "image/png": "[encoded data removed]",
      "text/plain": [
       "<Figure size 640x480 with 2 Axes>"
      ]
     },
     "metadata": {},
     "output_type": "display_data"
    }
   ],
   "source": [
    "sns.heatmap(gbc_conf_matrix[\"all_features\"], annot=True, fmt=\"d\", cmap=\"Blues\", xticklabels=['No Alzheimers', 'Alzheimers'], yticklabels=['No Alzheimers', 'Alzheimers'])\n",
    "plt.xlabel(\"Predicted Label\")\n",
    "plt.ylabel(\"True Label\")\n",
    "plt.title(\"Confusion Matrix for Gradient boost model on all features\")\n",
    "plt.show()"
   ]
  },
  {
   "cell_type": "markdown",
   "metadata": {},
   "source": [
    "### **Adaptive Boosting Classifier"
   ]
  },
  {
   "cell_type": "code",
   "execution_count": 35,
   "metadata": {},
   "outputs": [
    {
     "name": "stderr",
     "output_type": "stream",
     "text": [
      "c:\\Users\\ladyj\\anaconda3\\envs\\erdos_spring_2025\\Lib\\site-packages\\sklearn\\ensemble\\_weight_boosting.py:527: FutureWarning: The SAMME.R algorithm (the default) is deprecated and will be removed in 1.6. Use the SAMME algorithm to circumvent this warning.\n",
      "  warnings.warn(\n",
      "c:\\Users\\ladyj\\anaconda3\\envs\\erdos_spring_2025\\Lib\\site-packages\\sklearn\\ensemble\\_weight_boosting.py:527: FutureWarning: The SAMME.R algorithm (the default) is deprecated and will be removed in 1.6. Use the SAMME algorithm to circumvent this warning.\n",
      "  warnings.warn(\n",
      "c:\\Users\\ladyj\\anaconda3\\envs\\erdos_spring_2025\\Lib\\site-packages\\sklearn\\metrics\\_classification.py:1531: UndefinedMetricWarning: Recall is ill-defined and being set to 0.0 due to no true samples. Use `zero_division` parameter to control this behavior.\n",
      "  _warn_prf(average, modifier, f\"{metric.capitalize()} is\", len(result))\n",
      "c:\\Users\\ladyj\\anaconda3\\envs\\erdos_spring_2025\\Lib\\site-packages\\sklearn\\ensemble\\_weight_boosting.py:527: FutureWarning: The SAMME.R algorithm (the default) is deprecated and will be removed in 1.6. Use the SAMME algorithm to circumvent this warning.\n",
      "  warnings.warn(\n",
      "c:\\Users\\ladyj\\anaconda3\\envs\\erdos_spring_2025\\Lib\\site-packages\\sklearn\\ensemble\\_weight_boosting.py:527: FutureWarning: The SAMME.R algorithm (the default) is deprecated and will be removed in 1.6. Use the SAMME algorithm to circumvent this warning.\n",
      "  warnings.warn(\n",
      "c:\\Users\\ladyj\\anaconda3\\envs\\erdos_spring_2025\\Lib\\site-packages\\sklearn\\metrics\\_classification.py:1531: UndefinedMetricWarning: Recall is ill-defined and being set to 0.0 due to no true samples. Use `zero_division` parameter to control this behavior.\n",
      "  _warn_prf(average, modifier, f\"{metric.capitalize()} is\", len(result))\n",
      "c:\\Users\\ladyj\\anaconda3\\envs\\erdos_spring_2025\\Lib\\site-packages\\sklearn\\ensemble\\_weight_boosting.py:527: FutureWarning: The SAMME.R algorithm (the default) is deprecated and will be removed in 1.6. Use the SAMME algorithm to circumvent this warning.\n",
      "  warnings.warn(\n",
      "c:\\Users\\ladyj\\anaconda3\\envs\\erdos_spring_2025\\Lib\\site-packages\\sklearn\\ensemble\\_weight_boosting.py:527: FutureWarning: The SAMME.R algorithm (the default) is deprecated and will be removed in 1.6. Use the SAMME algorithm to circumvent this warning.\n",
      "  warnings.warn(\n",
      "c:\\Users\\ladyj\\anaconda3\\envs\\erdos_spring_2025\\Lib\\site-packages\\sklearn\\ensemble\\_weight_boosting.py:527: FutureWarning: The SAMME.R algorithm (the default) is deprecated and will be removed in 1.6. Use the SAMME algorithm to circumvent this warning.\n",
      "  warnings.warn(\n",
      "c:\\Users\\ladyj\\anaconda3\\envs\\erdos_spring_2025\\Lib\\site-packages\\sklearn\\metrics\\_classification.py:1531: UndefinedMetricWarning: Recall is ill-defined and being set to 0.0 due to no true samples. Use `zero_division` parameter to control this behavior.\n",
      "  _warn_prf(average, modifier, f\"{metric.capitalize()} is\", len(result))\n",
      "c:\\Users\\ladyj\\anaconda3\\envs\\erdos_spring_2025\\Lib\\site-packages\\sklearn\\ensemble\\_weight_boosting.py:527: FutureWarning: The SAMME.R algorithm (the default) is deprecated and will be removed in 1.6. Use the SAMME algorithm to circumvent this warning.\n",
      "  warnings.warn(\n"
     ]
    },
    {
     "data": {
      "application/vnd.microsoft.datawrangler.viewer.v0+json": {
       "columns": [
        {
         "name": "index",
         "rawType": "object",
         "type": "string"
        },
        {
         "name": "all_features",
         "rawType": "float64",
         "type": "float"
        },
        {
         "name": "demo",
         "rawType": "float64",
         "type": "float"
        },
        {
         "name": "lifestyle",
         "rawType": "float64",
         "type": "float"
        },
        {
         "name": "medic",
         "rawType": "float64",
         "type": "float"
        },
        {
         "name": "clinical",
         "rawType": "float64",
         "type": "float"
        },
        {
         "name": "cognitive",
         "rawType": "float64",
         "type": "float"
        },
        {
         "name": "symptoms",
         "rawType": "float64",
         "type": "float"
        },
        {
         "name": "no_cognitive",
         "rawType": "float64",
         "type": "float"
        }
       ],
       "conversionMethod": "pd.DataFrame",
       "ref": "f393b8cf-1ae1-42e0-820a-17c182ffa169",
       "rows": [
        [
         "Accuracy Score",
         "0.8754578754578755",
         "0.717948717948718",
         "0.684981684981685",
         "0.717948717948718",
         "0.7106227106227107",
         "0.9377289377289377",
         "0.717948717948718",
         "0.6556776556776557"
        ],
        [
         "Precision Score",
         "0.7922077922077922",
         "0.0",
         "0.0",
         "0.0",
         "0.05194805194805195",
         "0.8571428571428571",
         "0.0",
         "0.03896103896103896"
        ],
        [
         "Recall Score",
         "0.7721518987341772",
         "0.0",
         "0.0",
         "0.0",
         "0.4",
         "0.9166666666666666",
         "0.0",
         "0.13043478260869565"
        ],
        [
         "F1 Score",
         "0.782051282051282",
         "0.0",
         "0.0",
         "0.0",
         "0.09195402298850575",
         "0.8859060402684564",
         "0.0",
         "0.06"
        ],
        [
         "MSE",
         "0.12454212454212454",
         "0.28205128205128205",
         "0.315018315018315",
         "0.28205128205128205",
         "0.2893772893772894",
         "0.06227106227106227",
         "0.28205128205128205",
         "0.3443223443223443"
        ]
       ],
       "shape": {
        "columns": 8,
        "rows": 5
       }
      },
      "text/html": [
       "<div>\n",
       "<style scoped>\n",
       "    .dataframe tbody tr th:only-of-type {\n",
       "        vertical-align: middle;\n",
       "    }\n",
       "\n",
       "    .dataframe tbody tr th {\n",
       "        vertical-align: top;\n",
       "    }\n",
       "\n",
       "    .dataframe thead th {\n",
       "        text-align: right;\n",
       "    }\n",
       "</style>\n",
       "<table border=\"1\" class=\"dataframe\">\n",
       "  <thead>\n",
       "    <tr style=\"text-align: right;\">\n",
       "      <th></th>\n",
       "      <th>all_features</th>\n",
       "      <th>demo</th>\n",
       "      <th>lifestyle</th>\n",
       "      <th>medic</th>\n",
       "      <th>clinical</th>\n",
       "      <th>cognitive</th>\n",
       "      <th>symptoms</th>\n",
       "      <th>no_cognitive</th>\n",
       "    </tr>\n",
       "  </thead>\n",
       "  <tbody>\n",
       "    <tr>\n",
       "      <th>Accuracy Score</th>\n",
       "      <td>0.875458</td>\n",
       "      <td>0.717949</td>\n",
       "      <td>0.684982</td>\n",
       "      <td>0.717949</td>\n",
       "      <td>0.710623</td>\n",
       "      <td>0.937729</td>\n",
       "      <td>0.717949</td>\n",
       "      <td>0.655678</td>\n",
       "    </tr>\n",
       "    <tr>\n",
       "      <th>Precision Score</th>\n",
       "      <td>0.792208</td>\n",
       "      <td>0.000000</td>\n",
       "      <td>0.000000</td>\n",
       "      <td>0.000000</td>\n",
       "      <td>0.051948</td>\n",
       "      <td>0.857143</td>\n",
       "      <td>0.000000</td>\n",
       "      <td>0.038961</td>\n",
       "    </tr>\n",
       "    <tr>\n",
       "      <th>Recall Score</th>\n",
       "      <td>0.772152</td>\n",
       "      <td>0.000000</td>\n",
       "      <td>0.000000</td>\n",
       "      <td>0.000000</td>\n",
       "      <td>0.400000</td>\n",
       "      <td>0.916667</td>\n",
       "      <td>0.000000</td>\n",
       "      <td>0.130435</td>\n",
       "    </tr>\n",
       "    <tr>\n",
       "      <th>F1 Score</th>\n",
       "      <td>0.782051</td>\n",
       "      <td>0.000000</td>\n",
       "      <td>0.000000</td>\n",
       "      <td>0.000000</td>\n",
       "      <td>0.091954</td>\n",
       "      <td>0.885906</td>\n",
       "      <td>0.000000</td>\n",
       "      <td>0.060000</td>\n",
       "    </tr>\n",
       "    <tr>\n",
       "      <th>MSE</th>\n",
       "      <td>0.124542</td>\n",
       "      <td>0.282051</td>\n",
       "      <td>0.315018</td>\n",
       "      <td>0.282051</td>\n",
       "      <td>0.289377</td>\n",
       "      <td>0.062271</td>\n",
       "      <td>0.282051</td>\n",
       "      <td>0.344322</td>\n",
       "    </tr>\n",
       "  </tbody>\n",
       "</table>\n",
       "</div>"
      ],
      "text/plain": [
       "                 all_features      demo  lifestyle     medic  clinical  \\\n",
       "Accuracy Score       0.875458  0.717949   0.684982  0.717949  0.710623   \n",
       "Precision Score      0.792208  0.000000   0.000000  0.000000  0.051948   \n",
       "Recall Score         0.772152  0.000000   0.000000  0.000000  0.400000   \n",
       "F1 Score             0.782051  0.000000   0.000000  0.000000  0.091954   \n",
       "MSE                  0.124542  0.282051   0.315018  0.282051  0.289377   \n",
       "\n",
       "                 cognitive  symptoms  no_cognitive  \n",
       "Accuracy Score    0.937729  0.717949      0.655678  \n",
       "Precision Score   0.857143  0.000000      0.038961  \n",
       "Recall Score      0.916667  0.000000      0.130435  \n",
       "F1 Score          0.885906  0.000000      0.060000  \n",
       "MSE               0.062271  0.282051      0.344322  "
      ]
     },
     "execution_count": 35,
     "metadata": {},
     "output_type": "execute_result"
    }
   ],
   "source": [
    "adaboost_pipe = Pipeline([('scale', StandardScaler()), ('gbc', AdaBoostClassifier(random_state=42))])\n",
    "adaboost_accu_score = {}\n",
    "adaboost_conf_matrix = {}\n",
    "\n",
    "for key in subcategory_dict:\n",
    "    item = subcategory_dict[key]\n",
    "    adaboost_pipe.fit(df_train[item[:-1]], df_train.Diagnosis)\n",
    "    pred = adaboost_pipe.predict(df_test[item[:-1]])\n",
    "\n",
    "    adaboost_accu_score[key] = [accuracy_score(pred, df_test.Diagnosis),\n",
    "                           precision_score(pred, df_test.Diagnosis, zero_division=1),\n",
    "                           recall_score(pred, df_test.Diagnosis),\n",
    "                           f1_score(pred, df_test.Diagnosis),\n",
    "                           mean_squared_error(pred, df_test.Diagnosis)]\n",
    "    adaboost_conf_matrix[key] = confusion_matrix(pred, df_test.Diagnosis)\n",
    "\n",
    "adaboost_accu_score_df = pd.DataFrame(adaboost_accu_score, index=['Accuracy Score', 'Precision Score', 'Recall Score', 'F1 Score', 'MSE'])\n",
    "adaboost_accu_score_df\n"
   ]
  },
  {
   "cell_type": "code",
   "execution_count": 36,
   "metadata": {},
   "outputs": [
    {
     "data": {
      "image/png": "[encoded data removed]",
      "text/plain": [
       "<Figure size 640x480 with 2 Axes>"
      ]
     },
     "metadata": {},
     "output_type": "display_data"
    }
   ],
   "source": [
    "#Plotting confusion matrix\n",
    "sns.heatmap(adaboost_conf_matrix[\"all_features\"], annot=True, fmt=\"d\", cmap=\"Blues\", xticklabels=['No Alzheimers', 'Alzheimers'], yticklabels=['No Alzheimers', 'Alzheimers'])\n",
    "plt.xlabel(\"Predicted Label\")\n",
    "plt.ylabel(\"True Label\")\n",
    "plt.title(\"Confusion Matrix for Adaboost classification model on all features\")\n",
    "plt.show()"
   ]
  },
  {
   "cell_type": "markdown",
   "metadata": {},
   "source": [
    "### **Random Forest Classifier**"
   ]
  },
  {
   "cell_type": "code",
   "execution_count": 37,
   "metadata": {},
   "outputs": [
    {
     "data": {
      "application/vnd.microsoft.datawrangler.viewer.v0+json": {
       "columns": [
        {
         "name": "index",
         "rawType": "object",
         "type": "string"
        },
        {
         "name": "all_features",
         "rawType": "float64",
         "type": "float"
        },
        {
         "name": "demo",
         "rawType": "float64",
         "type": "float"
        },
        {
         "name": "lifestyle",
         "rawType": "float64",
         "type": "float"
        },
        {
         "name": "medic",
         "rawType": "float64",
         "type": "float"
        },
        {
         "name": "clinical",
         "rawType": "float64",
         "type": "float"
        },
        {
         "name": "cognitive",
         "rawType": "float64",
         "type": "float"
        },
        {
         "name": "symptoms",
         "rawType": "float64",
         "type": "float"
        },
        {
         "name": "no_cognitive",
         "rawType": "float64",
         "type": "float"
        }
       ],
       "conversionMethod": "pd.DataFrame",
       "ref": "62264b74-ae17-4192-9864-6d9044ca7356",
       "rows": [
        [
         "Accuracy Score",
         "0.9047619047619048",
         "0.6227106227106227",
         "0.7106227106227107",
         "0.6959706959706959",
         "0.6923076923076923",
         "0.9487179487179487",
         "0.7142857142857143",
         "0.7142857142857143"
        ],
        [
         "Precision Score",
         "0.6883116883116883",
         "0.16883116883116883",
         "0.07792207792207792",
         "0.03896103896103896",
         "0.06493506493506493",
         "0.8701298701298701",
         "0.0",
         "0.0"
        ],
        [
         "Recall Score",
         "0.9636363636363636",
         "0.25",
         "0.42857142857142855",
         "0.25",
         "0.29411764705882354",
         "0.9436619718309859",
         "0.0",
         "0.0"
        ],
        [
         "F1 Score",
         "0.803030303030303",
         "0.20155038759689922",
         "0.13186813186813187",
         "0.06741573033707865",
         "0.10638297872340426",
         "0.9054054054054054",
         "0.0",
         "0.0"
        ],
        [
         "MSE",
         "0.09523809523809523",
         "0.3772893772893773",
         "0.2893772893772894",
         "0.304029304029304",
         "0.3076923076923077",
         "0.05128205128205128",
         "0.2857142857142857",
         "0.2857142857142857"
        ]
       ],
       "shape": {
        "columns": 8,
        "rows": 5
       }
      },
      "text/html": [
       "<div>\n",
       "<style scoped>\n",
       "    .dataframe tbody tr th:only-of-type {\n",
       "        vertical-align: middle;\n",
       "    }\n",
       "\n",
       "    .dataframe tbody tr th {\n",
       "        vertical-align: top;\n",
       "    }\n",
       "\n",
       "    .dataframe thead th {\n",
       "        text-align: right;\n",
       "    }\n",
       "</style>\n",
       "<table border=\"1\" class=\"dataframe\">\n",
       "  <thead>\n",
       "    <tr style=\"text-align: right;\">\n",
       "      <th></th>\n",
       "      <th>all_features</th>\n",
       "      <th>demo</th>\n",
       "      <th>lifestyle</th>\n",
       "      <th>medic</th>\n",
       "      <th>clinical</th>\n",
       "      <th>cognitive</th>\n",
       "      <th>symptoms</th>\n",
       "      <th>no_cognitive</th>\n",
       "    </tr>\n",
       "  </thead>\n",
       "  <tbody>\n",
       "    <tr>\n",
       "      <th>Accuracy Score</th>\n",
       "      <td>0.904762</td>\n",
       "      <td>0.622711</td>\n",
       "      <td>0.710623</td>\n",
       "      <td>0.695971</td>\n",
       "      <td>0.692308</td>\n",
       "      <td>0.948718</td>\n",
       "      <td>0.714286</td>\n",
       "      <td>0.714286</td>\n",
       "    </tr>\n",
       "    <tr>\n",
       "      <th>Precision Score</th>\n",
       "      <td>0.688312</td>\n",
       "      <td>0.168831</td>\n",
       "      <td>0.077922</td>\n",
       "      <td>0.038961</td>\n",
       "      <td>0.064935</td>\n",
       "      <td>0.870130</td>\n",
       "      <td>0.000000</td>\n",
       "      <td>0.000000</td>\n",
       "    </tr>\n",
       "    <tr>\n",
       "      <th>Recall Score</th>\n",
       "      <td>0.963636</td>\n",
       "      <td>0.250000</td>\n",
       "      <td>0.428571</td>\n",
       "      <td>0.250000</td>\n",
       "      <td>0.294118</td>\n",
       "      <td>0.943662</td>\n",
       "      <td>0.000000</td>\n",
       "      <td>0.000000</td>\n",
       "    </tr>\n",
       "    <tr>\n",
       "      <th>F1 Score</th>\n",
       "      <td>0.803030</td>\n",
       "      <td>0.201550</td>\n",
       "      <td>0.131868</td>\n",
       "      <td>0.067416</td>\n",
       "      <td>0.106383</td>\n",
       "      <td>0.905405</td>\n",
       "      <td>0.000000</td>\n",
       "      <td>0.000000</td>\n",
       "    </tr>\n",
       "    <tr>\n",
       "      <th>MSE</th>\n",
       "      <td>0.095238</td>\n",
       "      <td>0.377289</td>\n",
       "      <td>0.289377</td>\n",
       "      <td>0.304029</td>\n",
       "      <td>0.307692</td>\n",
       "      <td>0.051282</td>\n",
       "      <td>0.285714</td>\n",
       "      <td>0.285714</td>\n",
       "    </tr>\n",
       "  </tbody>\n",
       "</table>\n",
       "</div>"
      ],
      "text/plain": [
       "                 all_features      demo  lifestyle     medic  clinical  \\\n",
       "Accuracy Score       0.904762  0.622711   0.710623  0.695971  0.692308   \n",
       "Precision Score      0.688312  0.168831   0.077922  0.038961  0.064935   \n",
       "Recall Score         0.963636  0.250000   0.428571  0.250000  0.294118   \n",
       "F1 Score             0.803030  0.201550   0.131868  0.067416  0.106383   \n",
       "MSE                  0.095238  0.377289   0.289377  0.304029  0.307692   \n",
       "\n",
       "                 cognitive  symptoms  no_cognitive  \n",
       "Accuracy Score    0.948718  0.714286      0.714286  \n",
       "Precision Score   0.870130  0.000000      0.000000  \n",
       "Recall Score      0.943662  0.000000      0.000000  \n",
       "F1 Score          0.905405  0.000000      0.000000  \n",
       "MSE               0.051282  0.285714      0.285714  "
      ]
     },
     "execution_count": 37,
     "metadata": {},
     "output_type": "execute_result"
    }
   ],
   "source": [
    "rfc_pipe = Pipeline([('scale', StandardScaler()), ('gbc', RandomForestClassifier(random_state=42))])\n",
    "rfc_accu_score = {}\n",
    "rfc_conf_matrix = {}\n",
    "\n",
    "for key in subcategory_dict:\n",
    "    item = subcategory_dict[key]\n",
    "    rfc_pipe.fit(df_train[item[:-1]], df_train.Diagnosis)\n",
    "    pred = rfc_pipe.predict(df_test[item[:-1]])\n",
    "\n",
    "    rfc_accu_score[key] = [accuracy_score(pred, df_test.Diagnosis),\n",
    "                           precision_score(pred, df_test.Diagnosis, zero_division=1),\n",
    "                           recall_score(pred, df_test.Diagnosis),\n",
    "                           f1_score(pred, df_test.Diagnosis),\n",
    "                           mean_squared_error(pred, df_test.Diagnosis)]\n",
    "    rfc_conf_matrix[key] = confusion_matrix(pred, df_test.Diagnosis)\n",
    "\n",
    "rfc_accu_score_df = pd.DataFrame(rfc_accu_score, index=['Accuracy Score', 'Precision Score', 'Recall Score', 'F1 Score', 'MSE'])\n",
    "rfc_accu_score_df"
   ]
  },
  {
   "cell_type": "code",
   "execution_count": 38,
   "metadata": {},
   "outputs": [
    {
     "data": {
      "image/png": "[encoded data removed]",
      "text/plain": [
       "<Figure size 640x480 with 2 Axes>"
      ]
     },
     "metadata": {},
     "output_type": "display_data"
    }
   ],
   "source": [
    "#Plotting confusion matrix\n",
    "sns.heatmap(rfc_conf_matrix[\"all_features\"], annot=True, fmt=\"d\", cmap=\"Blues\", xticklabels=['No Alzheimers', 'Alzheimers'], yticklabels=['No Alzheimers', 'Alzheimers'])\n",
    "plt.xlabel(\"Predicted Label\")\n",
    "plt.ylabel(\"True Label\")\n",
    "plt.title(\"Confusion Matrix for RandomForest classification model on all features\")\n",
    "plt.show()"
   ]
  },
  {
   "cell_type": "markdown",
   "metadata": {},
   "source": [
    "### **XGBoost**"
   ]
  },
  {
   "cell_type": "code",
   "execution_count": 39,
   "metadata": {},
   "outputs": [
    {
     "name": "stderr",
     "output_type": "stream",
     "text": [
      "c:\\Users\\ladyj\\anaconda3\\envs\\erdos_spring_2025\\Lib\\site-packages\\sklearn\\metrics\\_classification.py:1531: UndefinedMetricWarning: Recall is ill-defined and being set to 0.0 due to no true samples. Use `zero_division` parameter to control this behavior.\n",
      "  _warn_prf(average, modifier, f\"{metric.capitalize()} is\", len(result))\n"
     ]
    },
    {
     "data": {
      "application/vnd.microsoft.datawrangler.viewer.v0+json": {
       "columns": [
        {
         "name": "index",
         "rawType": "object",
         "type": "string"
        },
        {
         "name": "all_features",
         "rawType": "float64",
         "type": "float"
        },
        {
         "name": "demo",
         "rawType": "float64",
         "type": "float"
        },
        {
         "name": "lifestyle",
         "rawType": "float64",
         "type": "float"
        },
        {
         "name": "medic",
         "rawType": "float64",
         "type": "float"
        },
        {
         "name": "clinical",
         "rawType": "float64",
         "type": "float"
        },
        {
         "name": "cognitive",
         "rawType": "float64",
         "type": "float"
        },
        {
         "name": "symptoms",
         "rawType": "float64",
         "type": "float"
        },
        {
         "name": "no_cognitive",
         "rawType": "float64",
         "type": "float"
        }
       ],
       "conversionMethod": "pd.DataFrame",
       "ref": "e06b70af-c53a-4bf7-86a8-05d528e63adf",
       "rows": [
        [
         "Accuracy Score",
         "0.9560439560439561",
         "0.6813186813186813",
         "0.6593406593406593",
         "0.6959706959706959",
         "0.6263736263736264",
         "0.9413919413919414",
         "0.717948717948718",
         "0.6886446886446886"
        ],
        [
         "Precision Score",
         "0.8831168831168831",
         "0.15584415584415584",
         "0.18181818181818182",
         "0.03896103896103896",
         "0.12987012987012986",
         "0.8701298701298701",
         "0.0",
         "0.16883116883116883"
        ],
        [
         "Recall Score",
         "0.9577464788732394",
         "0.35294117647058826",
         "0.3181818181818182",
         "0.25",
         "0.2222222222222222",
         "0.9178082191780822",
         "0.0",
         "0.38235294117647056"
        ],
        [
         "F1 Score",
         "0.918918918918919",
         "0.21621621621621623",
         "0.23140495867768596",
         "0.06741573033707865",
         "0.16393442622950818",
         "0.8933333333333333",
         "0.0",
         "0.23423423423423423"
        ],
        [
         "MSE",
         "0.04395604395604396",
         "0.31868131868131866",
         "0.34065934065934067",
         "0.304029304029304",
         "0.37362637362637363",
         "0.05860805860805861",
         "0.28205128205128205",
         "0.31135531135531136"
        ]
       ],
       "shape": {
        "columns": 8,
        "rows": 5
       }
      },
      "text/html": [
       "<div>\n",
       "<style scoped>\n",
       "    .dataframe tbody tr th:only-of-type {\n",
       "        vertical-align: middle;\n",
       "    }\n",
       "\n",
       "    .dataframe tbody tr th {\n",
       "        vertical-align: top;\n",
       "    }\n",
       "\n",
       "    .dataframe thead th {\n",
       "        text-align: right;\n",
       "    }\n",
       "</style>\n",
       "<table border=\"1\" class=\"dataframe\">\n",
       "  <thead>\n",
       "    <tr style=\"text-align: right;\">\n",
       "      <th></th>\n",
       "      <th>all_features</th>\n",
       "      <th>demo</th>\n",
       "      <th>lifestyle</th>\n",
       "      <th>medic</th>\n",
       "      <th>clinical</th>\n",
       "      <th>cognitive</th>\n",
       "      <th>symptoms</th>\n",
       "      <th>no_cognitive</th>\n",
       "    </tr>\n",
       "  </thead>\n",
       "  <tbody>\n",
       "    <tr>\n",
       "      <th>Accuracy Score</th>\n",
       "      <td>0.956044</td>\n",
       "      <td>0.681319</td>\n",
       "      <td>0.659341</td>\n",
       "      <td>0.695971</td>\n",
       "      <td>0.626374</td>\n",
       "      <td>0.941392</td>\n",
       "      <td>0.717949</td>\n",
       "      <td>0.688645</td>\n",
       "    </tr>\n",
       "    <tr>\n",
       "      <th>Precision Score</th>\n",
       "      <td>0.883117</td>\n",
       "      <td>0.155844</td>\n",
       "      <td>0.181818</td>\n",
       "      <td>0.038961</td>\n",
       "      <td>0.129870</td>\n",
       "      <td>0.870130</td>\n",
       "      <td>0.000000</td>\n",
       "      <td>0.168831</td>\n",
       "    </tr>\n",
       "    <tr>\n",
       "      <th>Recall Score</th>\n",
       "      <td>0.957746</td>\n",
       "      <td>0.352941</td>\n",
       "      <td>0.318182</td>\n",
       "      <td>0.250000</td>\n",
       "      <td>0.222222</td>\n",
       "      <td>0.917808</td>\n",
       "      <td>0.000000</td>\n",
       "      <td>0.382353</td>\n",
       "    </tr>\n",
       "    <tr>\n",
       "      <th>F1 Score</th>\n",
       "      <td>0.918919</td>\n",
       "      <td>0.216216</td>\n",
       "      <td>0.231405</td>\n",
       "      <td>0.067416</td>\n",
       "      <td>0.163934</td>\n",
       "      <td>0.893333</td>\n",
       "      <td>0.000000</td>\n",
       "      <td>0.234234</td>\n",
       "    </tr>\n",
       "    <tr>\n",
       "      <th>MSE</th>\n",
       "      <td>0.043956</td>\n",
       "      <td>0.318681</td>\n",
       "      <td>0.340659</td>\n",
       "      <td>0.304029</td>\n",
       "      <td>0.373626</td>\n",
       "      <td>0.058608</td>\n",
       "      <td>0.282051</td>\n",
       "      <td>0.311355</td>\n",
       "    </tr>\n",
       "  </tbody>\n",
       "</table>\n",
       "</div>"
      ],
      "text/plain": [
       "                 all_features      demo  lifestyle     medic  clinical  \\\n",
       "Accuracy Score       0.956044  0.681319   0.659341  0.695971  0.626374   \n",
       "Precision Score      0.883117  0.155844   0.181818  0.038961  0.129870   \n",
       "Recall Score         0.957746  0.352941   0.318182  0.250000  0.222222   \n",
       "F1 Score             0.918919  0.216216   0.231405  0.067416  0.163934   \n",
       "MSE                  0.043956  0.318681   0.340659  0.304029  0.373626   \n",
       "\n",
       "                 cognitive  symptoms  no_cognitive  \n",
       "Accuracy Score    0.941392  0.717949      0.688645  \n",
       "Precision Score   0.870130  0.000000      0.168831  \n",
       "Recall Score      0.917808  0.000000      0.382353  \n",
       "F1 Score          0.893333  0.000000      0.234234  \n",
       "MSE               0.058608  0.282051      0.311355  "
      ]
     },
     "execution_count": 39,
     "metadata": {},
     "output_type": "execute_result"
    }
   ],
   "source": [
    "xgbc_pipe = Pipeline([('scale', StandardScaler()), ('gbc', XGBClassifier(random_state=42))])\n",
    "xgbc_accu_score = {}\n",
    "xgbc_conf_matrix = {}\n",
    "\n",
    "for key in subcategory_dict:\n",
    "    item = subcategory_dict[key]\n",
    "    xgbc_pipe.fit(df_train[item[:-1]], df_train.Diagnosis)\n",
    "    pred = xgbc_pipe.predict(df_test[item[:-1]])\n",
    "\n",
    "    xgbc_accu_score[key] = [accuracy_score(pred, df_test.Diagnosis),\n",
    "                           precision_score(pred, df_test.Diagnosis, zero_division=1),\n",
    "                           recall_score(pred, df_test.Diagnosis),\n",
    "                           f1_score(pred, df_test.Diagnosis),\n",
    "                           mean_squared_error(pred, df_test.Diagnosis)]\n",
    "    xgbc_conf_matrix[key] = confusion_matrix(pred, df_test.Diagnosis)\n",
    "\n",
    "xgbc_accu_score_df = pd.DataFrame(xgbc_accu_score, index=['Accuracy Score', 'Precision Score', 'Recall Score', 'F1 Score', 'MSE'])\n",
    "xgbc_accu_score_df"
   ]
  },
  {
   "cell_type": "code",
   "execution_count": 41,
   "metadata": {},
   "outputs": [
    {
     "data": {
      "image/png": "[encoded data removed]",
      "text/plain": [
       "<Figure size 640x480 with 2 Axes>"
      ]
     },
     "metadata": {},
     "output_type": "display_data"
    }
   ],
   "source": [
    "#Plotting confusion matrix\n",
    "sns.heatmap(xgbc_conf_matrix[\"all_features\"], annot=True, fmt=\"d\", cmap=\"Blues\", xticklabels=['No Alzheimers', 'Alzheimers'], yticklabels=['No Alzheimers', 'Alzheimers'])\n",
    "plt.xlabel(\"Predicted Label\")\n",
    "plt.ylabel(\"True Label\")\n",
    "plt.title(\"Confusion Matrix for XGBoost classification model on all features\")\n",
    "plt.show()"
   ]
  }
 ],
 "metadata": {
  "kernelspec": {
   "display_name": "erdos_spring_2025",
   "language": "python",
   "name": "python3"
  },
  "language_info": {
   "codemirror_mode": {
    "name": "ipython",
    "version": 3
   },
   "file_extension": ".py",
   "mimetype": "text/x-python",
   "name": "python",
   "nbconvert_exporter": "python",
   "pygments_lexer": "ipython3",
   "version": "3.12.8"
  }
 },
 "nbformat": 4,
 "nbformat_minor": 2
}
