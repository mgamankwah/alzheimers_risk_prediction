{
 "cells": [
  {
   "cell_type": "markdown",
   "metadata": {},
   "source": [
    "Date:  03/17//2025      \n",
    "Author:  Mercy Amankwah      \n",
    "Purpose:  Initial Model Exploration for the Kaggle Alzheimers' dataset. "
   ]
  },
  {
   "cell_type": "code",
   "execution_count": 1,
   "metadata": {},
   "outputs": [],
   "source": [
    "#data handling and plotting libraries\n",
    "import numpy as np\n",
    "import matplotlib.pyplot as plt\n",
    "import pandas as pd \n",
    "import seaborn as sns\n",
    "## Spliting the training dataset\n",
    "from sklearn.model_selection import train_test_split"
   ]
  },
  {
   "cell_type": "code",
   "execution_count": 2,
   "metadata": {},
   "outputs": [],
   "source": [
    "#load and split data\n",
    "df_train = pd.read_csv(\"../data/kaggle_train.csv\") \n",
    "df_train_xgb = df_train.drop(columns=['DoctorInCharge'])\n",
    "y = df_train_xgb.Diagnosis\n",
    "X = df_train_xgb.drop(columns=['Diagnosis'])\n",
    "X_train, X_val, y_train, y_val = train_test_split(X, y, test_size=0.2, random_state=42)\n"
   ]
  },
  {
   "cell_type": "markdown",
   "metadata": {},
   "source": [
    "## **Introduction**\n",
    "The models we explore in this notebook are: \n",
    "1. Logistic Regression\n",
    "2. Gradient Boosting classifier\n",
    "3. Adaptive Boosting classifier\n",
    "4. Random Forest classifier\n",
    "5. Extreme Gradient Boosting (XGBoost) classifier"
   ]
  },
  {
   "cell_type": "code",
   "execution_count": 3,
   "metadata": {},
   "outputs": [],
   "source": [
    "#importing libraries for models to explore and error metrics\n",
    "from sklearn.linear_model import LogisticRegression\n",
    "from sklearn.ensemble import GradientBoostingClassifier\n",
    "from sklearn.ensemble import AdaBoostClassifier\n",
    "from sklearn.ensemble import RandomForestClassifier\n",
    "from xgboost import XGBClassifier\n",
    "from sklearn.metrics import mean_squared_error\n",
    "from sklearn.metrics import accuracy_score\n",
    "from sklearn.metrics import f1_score, classification_report\n",
    "\n",
    "\n",
    "mse = {}\n",
    "accuracy = {}\n",
    "f1 = {}\n",
    "models  = {\n",
    "   # 'lr' : LogisticRegression(max_iter = 200),\n",
    "    'gbc' : GradientBoostingClassifier(),\n",
    "    'xgbc' : XGBClassifier(),\n",
    "    'rfc'  :  RandomForestClassifier(random_state=42),\n",
    "    'adbc' : AdaBoostClassifier()\n",
    "}"
   ]
  },
  {
   "cell_type": "markdown",
   "metadata": {},
   "source": [
    "### **Comparing across models for all features**"
   ]
  },
  {
   "cell_type": "code",
   "execution_count": 4,
   "metadata": {},
   "outputs": [],
   "source": [
    "for name, model in models.items():\n",
    "    model.fit(X_train,y_train)\n",
    "    y_pred = model.predict(X_val)\n",
    "    mse[name] = mean_squared_error(y_val,y_pred)\n",
    "    accuracy[name] = accuracy_score(y_val, y_pred)\n",
    "    #f1[name] = f1_score(y_val, y_pred, average = 'weighted')\n",
    "\n"
   ]
  },
  {
   "cell_type": "code",
   "execution_count": 5,
   "metadata": {},
   "outputs": [
    {
     "name": "stdout",
     "output_type": "stream",
     "text": [
      "mean squared errors:\n",
      " {'gbc': 0.0377906976744186, 'xgbc': 0.0436046511627907, 'rfc': 0.055232558139534885, 'adbc': 0.07267441860465117} \n",
      "\n",
      " accuracies\n",
      ": {'gbc': 0.9622093023255814, 'xgbc': 0.9563953488372093, 'rfc': 0.9447674418604651, 'adbc': 0.9273255813953488}\n"
     ]
    }
   ],
   "source": [
    "print('mean squared errors:\\n',mse,'\\n\\n accuracies\\n:', accuracy)#, '\\n\\n F1 scores:\\n', f1)\n",
    "#print(f\"mean squared erros: {mse:.4f}\")"
   ]
  },
  {
   "cell_type": "code",
   "execution_count": 6,
   "metadata": {},
   "outputs": [],
   "source": [
    "from sklearn.preprocessing import StandardScaler\n",
    "\n",
    "# prepare standardize\n",
    "scaler = StandardScaler()\n",
    "scaler.fit(X)\n",
    "\n",
    "# standardize data\n",
    "X = scaler.transform(X)\n",
    "X_scale_tr, X_scale_val, y_scale_tr, y_scale_val = train_test_split(X, y, test_size=0.2, random_state=42)\n",
    "\n"
   ]
  },
  {
   "cell_type": "code",
   "execution_count": 7,
   "metadata": {},
   "outputs": [],
   "source": [
    "mse_sc = {}\n",
    "accuracy_sc = {}\n",
    "f1_sc = {}\n",
    "models  = {\n",
    "    #'lr' : LogisticRegression(max_iter = 200),\n",
    "    'gbc' : GradientBoostingClassifier(),\n",
    "    'xgbc' : XGBClassifier(),\n",
    "    'rfc'  :  RandomForestClassifier(random_state=42),\n",
    "    'adbc' : AdaBoostClassifier()\n",
    "}"
   ]
  },
  {
   "cell_type": "code",
   "execution_count": 8,
   "metadata": {},
   "outputs": [],
   "source": [
    "for name, model in models.items():\n",
    "    model.fit(X_scale_tr,y_scale_tr)\n",
    "    y_pred = model.predict(X_scale_val)\n",
    "    mse_sc[name] = mean_squared_error(y_scale_val,y_pred)\n",
    "    accuracy_sc[name] = accuracy_score(y_scale_val, y_pred)\n",
    "    #f1[name] = f1_score(y_val, y_pred, average = 'weighted')\n",
    "\n"
   ]
  },
  {
   "cell_type": "code",
   "execution_count": 9,
   "metadata": {},
   "outputs": [
    {
     "name": "stdout",
     "output_type": "stream",
     "text": [
      "mean squared errors:\n",
      " {'gbc': 0.0377906976744186, 'xgbc': 0.0436046511627907, 'rfc': 0.055232558139534885, 'adbc': 0.07267441860465117} \n",
      "\n",
      " accuracies\n",
      ": {'gbc': 0.9622093023255814, 'xgbc': 0.9563953488372093, 'rfc': 0.9447674418604651, 'adbc': 0.9273255813953488}\n"
     ]
    }
   ],
   "source": [
    "print('mean squared errors:\\n',mse_sc,'\\n\\n accuracies\\n:', accuracy_sc)#, '\\n\\n F1 scores:\\n', f1)\n",
    "    #f1[name] = f1_score(y_val, y_pred, average = 'weighted')\n"
   ]
  },
  {
   "cell_type": "markdown",
   "metadata": {},
   "source": [
    "**I seem to be having problems with the logistic regression model so I'll explore that below**"
   ]
  },
  {
   "cell_type": "code",
   "execution_count": 10,
   "metadata": {},
   "outputs": [
    {
     "name": "stdout",
     "output_type": "stream",
     "text": [
      "mse:  0.13953488372093023 accuracy:  0.8604651162790697\n"
     ]
    }
   ],
   "source": [
    "lr_model = LogisticRegression()\n",
    "lr_model.fit(X_scale_tr,y_scale_tr)\n",
    "lr_pred = lr_model.predict(X_scale_val)\n",
    "lr_mse_sc = mean_squared_error(y_scale_val, lr_pred)\n",
    "lr_acc_sc = accuracy_score(y_scale_val,lr_pred)\n",
    "print('mse: ', lr_mse_sc, 'accuracy: ', lr_acc_sc)"
   ]
  },
  {
   "cell_type": "markdown",
   "metadata": {},
   "source": [
    "## **Comparing Model performance across various Subcategories of the features**"
   ]
  },
  {
   "cell_type": "code",
   "execution_count": 11,
   "metadata": {},
   "outputs": [],
   "source": [
    "#relevant packages\n",
    "\n",
    "from sklearn.pipeline import Pipeline\n",
    "from sklearn.preprocessing import StandardScaler\n",
    "from sklearn.metrics import accuracy_score, precision_score, recall_score, f1_score, confusion_matrix"
   ]
  },
  {
   "cell_type": "code",
   "execution_count": 12,
   "metadata": {},
   "outputs": [],
   "source": [
    "## Reading the traning and testing datasets\n",
    "df = pd.read_csv(\"../data/kaggle_train.csv\")\n",
    "\n",
    "## Dropping redundant columns\n",
    "df = df.drop(columns = ['DoctorInCharge' , 'PatientID' ])"
   ]
  },
  {
   "cell_type": "code",
   "execution_count": 13,
   "metadata": {},
   "outputs": [],
   "source": [
    "## Seperating features into subcategories\n",
    "\n",
    "all_features = [   'Age', 'Gender', 'Ethnicity', 'EducationLevel', 'BMI',\n",
    "               'Smoking', 'AlcoholConsumption', 'PhysicalActivity', 'DietQuality',\n",
    "               'SleepQuality', 'FamilyHistoryAlzheimers', 'CardiovascularDisease',\n",
    "               'Diabetes', 'Depression', 'HeadInjury', 'Hypertension', 'SystolicBP',\n",
    "               'DiastolicBP', 'CholesterolTotal', 'CholesterolLDL', 'CholesterolHDL',\n",
    "               'CholesterolTriglycerides', 'MMSE', 'FunctionalAssessment',\n",
    "               'MemoryComplaints', 'BehavioralProblems', 'ADL', 'Confusion',\n",
    "               'Disorientation', 'PersonalityChanges', 'DifficultyCompletingTasks',\n",
    "               'Forgetfulness' , 'Diagnosis']\n",
    "demo_features = ['Age', 'Gender', 'Ethnicity','EducationLevel','Diagnosis']\n",
    "life_style_features = ['BMI','Smoking', 'AlcoholConsumption', 'PhysicalActivity', 'DietQuality', 'SleepQuality','Diagnosis']\n",
    "medic_hist_features = ['FamilyHistoryAlzheimers', 'CardiovascularDisease','Diabetes', 'Depression', 'HeadInjury', 'Hypertension','Diagnosis']\n",
    "clinical_features = ['SystolicBP','DiastolicBP', 'CholesterolTotal', 'CholesterolLDL', 'CholesterolHDL','CholesterolTriglycerides','Diagnosis']\n",
    "cognitive_features = ['MMSE', 'FunctionalAssessment','MemoryComplaints', 'BehavioralProblems', 'ADL','Diagnosis']\n",
    "symptoms_features = ['Confusion','Disorientation', 'PersonalityChanges', 'DifficultyCompletingTasks','Forgetfulness','Diagnosis']\n",
    "\n",
    "no_cognitive = [item for item in all_features if item not in cognitive_features]\n",
    "no_cognitive.append('Diagnosis')\n",
    "\n",
    "subcategory_dict = {'all_features' : all_features,'demo':demo_features ,'lifestyle': life_style_features , 'medic' : medic_hist_features , \n",
    "                    'clinical':clinical_features , 'cognitive': cognitive_features , 'symptoms': symptoms_features , 'no_cognitive': no_cognitive}"
   ]
  },
  {
   "cell_type": "code",
   "execution_count": 14,
   "metadata": {},
   "outputs": [],
   "source": [
    "## Splitting the training data to get validation data\n",
    "df_train, df_test = train_test_split(df, random_state= 123 , shuffle= True,test_size=0.2, stratify=df['Diagnosis'])"
   ]
  },
  {
   "cell_type": "markdown",
   "metadata": {},
   "source": [
    "### **Logistic Regression**"
   ]
  },
  {
   "cell_type": "code",
   "execution_count": 15,
   "metadata": {},
   "outputs": [
    {
     "name": "stderr",
     "output_type": "stream",
     "text": [
      "c:\\Users\\Mercy\\.conda\\envs\\erdos_spring_2025\\Lib\\site-packages\\sklearn\\metrics\\_classification.py:1565: UndefinedMetricWarning: Recall is ill-defined and being set to 0.0 due to no true samples. Use `zero_division` parameter to control this behavior.\n",
      "  _warn_prf(average, modifier, f\"{metric.capitalize()} is\", len(result))\n",
      "c:\\Users\\Mercy\\.conda\\envs\\erdos_spring_2025\\Lib\\site-packages\\sklearn\\metrics\\_classification.py:1565: UndefinedMetricWarning: Recall is ill-defined and being set to 0.0 due to no true samples. Use `zero_division` parameter to control this behavior.\n",
      "  _warn_prf(average, modifier, f\"{metric.capitalize()} is\", len(result))\n",
      "c:\\Users\\Mercy\\.conda\\envs\\erdos_spring_2025\\Lib\\site-packages\\sklearn\\metrics\\_classification.py:1565: UndefinedMetricWarning: Recall is ill-defined and being set to 0.0 due to no true samples. Use `zero_division` parameter to control this behavior.\n",
      "  _warn_prf(average, modifier, f\"{metric.capitalize()} is\", len(result))\n",
      "c:\\Users\\Mercy\\.conda\\envs\\erdos_spring_2025\\Lib\\site-packages\\sklearn\\metrics\\_classification.py:1565: UndefinedMetricWarning: Recall is ill-defined and being set to 0.0 due to no true samples. Use `zero_division` parameter to control this behavior.\n",
      "  _warn_prf(average, modifier, f\"{metric.capitalize()} is\", len(result))\n",
      "c:\\Users\\Mercy\\.conda\\envs\\erdos_spring_2025\\Lib\\site-packages\\sklearn\\metrics\\_classification.py:1565: UndefinedMetricWarning: Recall is ill-defined and being set to 0.0 due to no true samples. Use `zero_division` parameter to control this behavior.\n",
      "  _warn_prf(average, modifier, f\"{metric.capitalize()} is\", len(result))\n"
     ]
    },
    {
     "data": {
      "application/vnd.microsoft.datawrangler.viewer.v0+json": {
       "columns": [
        {
         "name": "index",
         "rawType": "object",
         "type": "string"
        },
        {
         "name": "all_features",
         "rawType": "float64",
         "type": "float"
        },
        {
         "name": "demo",
         "rawType": "float64",
         "type": "float"
        },
        {
         "name": "lifestyle",
         "rawType": "float64",
         "type": "float"
        },
        {
         "name": "medic",
         "rawType": "float64",
         "type": "float"
        },
        {
         "name": "clinical",
         "rawType": "float64",
         "type": "float"
        },
        {
         "name": "cognitive",
         "rawType": "float64",
         "type": "float"
        },
        {
         "name": "symptoms",
         "rawType": "float64",
         "type": "float"
        },
        {
         "name": "no_cognitive",
         "rawType": "float64",
         "type": "float"
        }
       ],
       "conversionMethod": "pd.DataFrame",
       "ref": "bdb06d7f-78e6-4eae-88dd-80d59d720f07",
       "rows": [
        [
         "Accuracy Score",
         "0.8604651162790697",
         "0.6482558139534884",
         "0.6482558139534884",
         "0.6482558139534884",
         "0.6482558139534884",
         "0.8546511627906976",
         "0.6482558139534884",
         "0.6453488372093024"
        ],
        [
         "Precision Score",
         "0.7603305785123967",
         "0.0",
         "0.0",
         "0.0",
         "0.0",
         "0.743801652892562",
         "0.0",
         "0.0"
        ],
        [
         "Recall Score",
         "0.8288288288288288",
         "0.0",
         "0.0",
         "0.0",
         "0.0",
         "0.8256880733944955",
         "0.0",
         "0.0"
        ],
        [
         "F1 Score",
         "0.7931034482758621",
         "0.0",
         "0.0",
         "0.0",
         "0.0",
         "0.782608695652174",
         "0.0",
         "0.0"
        ],
        [
         "MSE",
         "0.13953488372093023",
         "0.35174418604651164",
         "0.35174418604651164",
         "0.35174418604651164",
         "0.35174418604651164",
         "0.14534883720930233",
         "0.35174418604651164",
         "0.3546511627906977"
        ]
       ],
       "shape": {
        "columns": 8,
        "rows": 5
       }
      },
      "text/html": [
       "<div>\n",
       "<style scoped>\n",
       "    .dataframe tbody tr th:only-of-type {\n",
       "        vertical-align: middle;\n",
       "    }\n",
       "\n",
       "    .dataframe tbody tr th {\n",
       "        vertical-align: top;\n",
       "    }\n",
       "\n",
       "    .dataframe thead th {\n",
       "        text-align: right;\n",
       "    }\n",
       "</style>\n",
       "<table border=\"1\" class=\"dataframe\">\n",
       "  <thead>\n",
       "    <tr style=\"text-align: right;\">\n",
       "      <th></th>\n",
       "      <th>all_features</th>\n",
       "      <th>demo</th>\n",
       "      <th>lifestyle</th>\n",
       "      <th>medic</th>\n",
       "      <th>clinical</th>\n",
       "      <th>cognitive</th>\n",
       "      <th>symptoms</th>\n",
       "      <th>no_cognitive</th>\n",
       "    </tr>\n",
       "  </thead>\n",
       "  <tbody>\n",
       "    <tr>\n",
       "      <th>Accuracy Score</th>\n",
       "      <td>0.860465</td>\n",
       "      <td>0.648256</td>\n",
       "      <td>0.648256</td>\n",
       "      <td>0.648256</td>\n",
       "      <td>0.648256</td>\n",
       "      <td>0.854651</td>\n",
       "      <td>0.648256</td>\n",
       "      <td>0.645349</td>\n",
       "    </tr>\n",
       "    <tr>\n",
       "      <th>Precision Score</th>\n",
       "      <td>0.760331</td>\n",
       "      <td>0.000000</td>\n",
       "      <td>0.000000</td>\n",
       "      <td>0.000000</td>\n",
       "      <td>0.000000</td>\n",
       "      <td>0.743802</td>\n",
       "      <td>0.000000</td>\n",
       "      <td>0.000000</td>\n",
       "    </tr>\n",
       "    <tr>\n",
       "      <th>Recall Score</th>\n",
       "      <td>0.828829</td>\n",
       "      <td>0.000000</td>\n",
       "      <td>0.000000</td>\n",
       "      <td>0.000000</td>\n",
       "      <td>0.000000</td>\n",
       "      <td>0.825688</td>\n",
       "      <td>0.000000</td>\n",
       "      <td>0.000000</td>\n",
       "    </tr>\n",
       "    <tr>\n",
       "      <th>F1 Score</th>\n",
       "      <td>0.793103</td>\n",
       "      <td>0.000000</td>\n",
       "      <td>0.000000</td>\n",
       "      <td>0.000000</td>\n",
       "      <td>0.000000</td>\n",
       "      <td>0.782609</td>\n",
       "      <td>0.000000</td>\n",
       "      <td>0.000000</td>\n",
       "    </tr>\n",
       "    <tr>\n",
       "      <th>MSE</th>\n",
       "      <td>0.139535</td>\n",
       "      <td>0.351744</td>\n",
       "      <td>0.351744</td>\n",
       "      <td>0.351744</td>\n",
       "      <td>0.351744</td>\n",
       "      <td>0.145349</td>\n",
       "      <td>0.351744</td>\n",
       "      <td>0.354651</td>\n",
       "    </tr>\n",
       "  </tbody>\n",
       "</table>\n",
       "</div>"
      ],
      "text/plain": [
       "                 all_features      demo  lifestyle     medic  clinical  \\\n",
       "Accuracy Score       0.860465  0.648256   0.648256  0.648256  0.648256   \n",
       "Precision Score      0.760331  0.000000   0.000000  0.000000  0.000000   \n",
       "Recall Score         0.828829  0.000000   0.000000  0.000000  0.000000   \n",
       "F1 Score             0.793103  0.000000   0.000000  0.000000  0.000000   \n",
       "MSE                  0.139535  0.351744   0.351744  0.351744  0.351744   \n",
       "\n",
       "                 cognitive  symptoms  no_cognitive  \n",
       "Accuracy Score    0.854651  0.648256      0.645349  \n",
       "Precision Score   0.743802  0.000000      0.000000  \n",
       "Recall Score      0.825688  0.000000      0.000000  \n",
       "F1 Score          0.782609  0.000000      0.000000  \n",
       "MSE               0.145349  0.351744      0.354651  "
      ]
     },
     "execution_count": 15,
     "metadata": {},
     "output_type": "execute_result"
    }
   ],
   "source": [
    "lr_pipe = Pipeline([('scale', StandardScaler()), ('lr', LogisticRegression(random_state=42))])\n",
    "\n",
    "lr_acc_score = {}\n",
    "lr_conf_matrix = {} #confusion matrix\n",
    "\n",
    "for key in subcategory_dict:\n",
    "    item = subcategory_dict[key]\n",
    "    lr_pipe.fit(df_train[item[:-1]], df_train.Diagnosis)\n",
    "    pred = lr_pipe.predict(df_test[item[:-1]])\n",
    "\n",
    "    lr_acc_score[key] = [accuracy_score(pred, df_test.Diagnosis),\n",
    "                           precision_score(pred, df_test.Diagnosis, zero_division=1),\n",
    "                           recall_score(pred, df_test.Diagnosis),\n",
    "                           f1_score(pred, df_test.Diagnosis),\n",
    "                           mean_squared_error(pred, df_test.Diagnosis)]\n",
    "    lr_conf_matrix[key] = confusion_matrix(pred, df_test.Diagnosis)\n",
    "    \n",
    "    \n",
    "lr_acc_score_df = pd.DataFrame(lr_acc_score, index=['Accuracy Score', 'Precision Score', 'Recall Score', 'F1 Score', 'MSE'])\n",
    "#lr_conf_matrix_df = pd.DataFrame(lr_conf_matrix, index = [])\n",
    "lr_acc_score_df\n",
    "\n"
   ]
  },
  {
   "cell_type": "code",
   "execution_count": 31,
   "metadata": {},
   "outputs": [
    {
     "data": {
      "text/plain": [
       "'\\n#plt.show()\\n\\nplt.subplots(2,int(len(lr_conf_matrix)/2), figsize=(20,5))\\nfor ind, key in enumerate(lr_conf_matrix):\\n    if ind<=3:\\n        plt.subplot(1,len(lr_conf_matrix),ind+1)\\n    else:\\n        plt.subplot(2,int(len(lr_conf_matrix)/2),ind+1)\\n    sns.heatmap(lr_conf_matrix[key], annot=True, fmt=\"d\", cmap=\"Blues\", xticklabels=[\\'No Alzheimers\\', \\'Alzheimers\\'], yticklabels=[\\'No Alzheimers\\', \\'Alzheimers\\'])\\n    plt.xlabel(\"Predicted Label\")\\n    plt.ylabel(\"True Label\")\\n    plt.title(\"Confusion Matrix\")\\nplt.show()\\n\\n'"
      ]
     },
     "execution_count": 31,
     "metadata": {},
     "output_type": "execute_result"
    }
   ],
   "source": [
    "'''\n",
    "\n",
    "#plt.subplots(1,3, figsize=(14,5))\n",
    "\n",
    "#plt.subplot(1,3,1)\n",
    "#sns.heatmap(lr_conf_matrix[\"all_features\"], annot=True, fmt=\"d\", cmap=\"Blues\", xticklabels=['No Alzheimers', 'Alzheimers'], yticklabels=['No Alzheimers', 'Alzheimers'])\n",
    "\n",
    "'''\n",
    "'''\n",
    "plt.subplot(1,3,2)\n",
    "sns.heatmap(lr_conf_matrix[\"demo\"], annot=True, fmt=\"d\", cmap=\"Blues\", xticklabels=['No Alzheimers', 'Alzheimers'], yticklabels=['No Alzheimers', 'Alzheimers'])\n",
    "\n",
    "plt.subplot(1,3,3)\n",
    "sns.heatmap(lr_conf_matrix[\"lifestyle\"], annot=True, fmt=\"d\", cmap=\"Blues\", xticklabels=['No Alzheimers', 'Alzheimers'], yticklabels=['No Alzheimers', 'Alzheimers'])\n",
    "'''\n",
    "\n",
    "'''\n",
    "#plt.show()\n",
    "\n",
    "plt.subplots(2,int(len(lr_conf_matrix)/2), figsize=(20,5))\n",
    "for ind, key in enumerate(lr_conf_matrix):\n",
    "    if ind<=3:\n",
    "        plt.subplot(1,len(lr_conf_matrix),ind+1)\n",
    "    else:\n",
    "        plt.subplot(2,int(len(lr_conf_matrix)/2),ind+1)\n",
    "    sns.heatmap(lr_conf_matrix[key], annot=True, fmt=\"d\", cmap=\"Blues\", xticklabels=['No Alzheimers', 'Alzheimers'], yticklabels=['No Alzheimers', 'Alzheimers'])\n",
    "    plt.xlabel(\"Predicted Label\")\n",
    "    plt.ylabel(\"True Label\")\n",
    "    plt.title(\"Confusion Matrix\")\n",
    "plt.show()\n",
    "\n",
    "'''\n"
   ]
  },
  {
   "cell_type": "code",
   "execution_count": 29,
   "metadata": {},
   "outputs": [
    {
     "data": {
      "image/png": "[encoded data removed]",
      "text/plain": [
       "<Figure size 640x480 with 2 Axes>"
      ]
     },
     "metadata": {},
     "output_type": "display_data"
    }
   ],
   "source": [
    "sns.heatmap(lr_conf_matrix[\"all_features\"], annot=True, fmt=\"d\", cmap=\"Blues\", xticklabels=['No Alzheimers', 'Alzheimers'], yticklabels=['No Alzheimers', 'Alzheimers'])\n",
    "plt.xlabel(\"Predicted Label\")\n",
    "plt.ylabel(\"True Label\")\n",
    "plt.title(\"Confusion Matrix for linear regression model on all features\")\n",
    "plt.show()\n"
   ]
  },
  {
   "cell_type": "markdown",
   "metadata": {},
   "source": [
    "### **Gradient Boosting Classifier**"
   ]
  },
  {
   "cell_type": "code",
   "execution_count": 17,
   "metadata": {},
   "outputs": [
    {
     "data": {
      "application/vnd.microsoft.datawrangler.viewer.v0+json": {
       "columns": [
        {
         "name": "index",
         "rawType": "object",
         "type": "string"
        },
        {
         "name": "all_features",
         "rawType": "float64",
         "type": "float"
        },
        {
         "name": "demo",
         "rawType": "float64",
         "type": "float"
        },
        {
         "name": "lifestyle",
         "rawType": "float64",
         "type": "float"
        },
        {
         "name": "medic",
         "rawType": "float64",
         "type": "float"
        },
        {
         "name": "clinical",
         "rawType": "float64",
         "type": "float"
        },
        {
         "name": "cognitive",
         "rawType": "float64",
         "type": "float"
        },
        {
         "name": "symptoms",
         "rawType": "float64",
         "type": "float"
        },
        {
         "name": "no_cognitive",
         "rawType": "float64",
         "type": "float"
        }
       ],
       "conversionMethod": "pd.DataFrame",
       "ref": "ebc08381-9907-44ae-a6c6-3f53834cf16e",
       "rows": [
        [
         "Accuracy Score",
         "0.9505813953488372",
         "0.6482558139534884",
         "0.6395348837209303",
         "0.6482558139534884",
         "0.625",
         "0.9534883720930233",
         "0.6395348837209303",
         "0.6337209302325582"
        ],
        [
         "Precision Score",
         "0.9256198347107438",
         "0.06611570247933884",
         "0.06611570247933884",
         "0.024793388429752067",
         "0.12396694214876033",
         "0.9173553719008265",
         "0.008264462809917356",
         "0.09917355371900827"
        ],
        [
         "Recall Score",
         "0.9333333333333333",
         "0.5",
         "0.42105263157894735",
         "0.5",
         "0.39473684210526316",
         "0.9487179487179487",
         "0.2",
         "0.41379310344827586"
        ],
        [
         "F1 Score",
         "0.9294605809128631",
         "0.11678832116788321",
         "0.11428571428571428",
         "0.047244094488188976",
         "0.18867924528301888",
         "0.9327731092436975",
         "0.015873015873015872",
         "0.16"
        ],
        [
         "MSE",
         "0.04941860465116279",
         "0.35174418604651164",
         "0.36046511627906974",
         "0.35174418604651164",
         "0.375",
         "0.046511627906976744",
         "0.36046511627906974",
         "0.36627906976744184"
        ]
       ],
       "shape": {
        "columns": 8,
        "rows": 5
       }
      },
      "text/html": [
       "<div>\n",
       "<style scoped>\n",
       "    .dataframe tbody tr th:only-of-type {\n",
       "        vertical-align: middle;\n",
       "    }\n",
       "\n",
       "    .dataframe tbody tr th {\n",
       "        vertical-align: top;\n",
       "    }\n",
       "\n",
       "    .dataframe thead th {\n",
       "        text-align: right;\n",
       "    }\n",
       "</style>\n",
       "<table border=\"1\" class=\"dataframe\">\n",
       "  <thead>\n",
       "    <tr style=\"text-align: right;\">\n",
       "      <th></th>\n",
       "      <th>all_features</th>\n",
       "      <th>demo</th>\n",
       "      <th>lifestyle</th>\n",
       "      <th>medic</th>\n",
       "      <th>clinical</th>\n",
       "      <th>cognitive</th>\n",
       "      <th>symptoms</th>\n",
       "      <th>no_cognitive</th>\n",
       "    </tr>\n",
       "  </thead>\n",
       "  <tbody>\n",
       "    <tr>\n",
       "      <th>Accuracy Score</th>\n",
       "      <td>0.950581</td>\n",
       "      <td>0.648256</td>\n",
       "      <td>0.639535</td>\n",
       "      <td>0.648256</td>\n",
       "      <td>0.625000</td>\n",
       "      <td>0.953488</td>\n",
       "      <td>0.639535</td>\n",
       "      <td>0.633721</td>\n",
       "    </tr>\n",
       "    <tr>\n",
       "      <th>Precision Score</th>\n",
       "      <td>0.925620</td>\n",
       "      <td>0.066116</td>\n",
       "      <td>0.066116</td>\n",
       "      <td>0.024793</td>\n",
       "      <td>0.123967</td>\n",
       "      <td>0.917355</td>\n",
       "      <td>0.008264</td>\n",
       "      <td>0.099174</td>\n",
       "    </tr>\n",
       "    <tr>\n",
       "      <th>Recall Score</th>\n",
       "      <td>0.933333</td>\n",
       "      <td>0.500000</td>\n",
       "      <td>0.421053</td>\n",
       "      <td>0.500000</td>\n",
       "      <td>0.394737</td>\n",
       "      <td>0.948718</td>\n",
       "      <td>0.200000</td>\n",
       "      <td>0.413793</td>\n",
       "    </tr>\n",
       "    <tr>\n",
       "      <th>F1 Score</th>\n",
       "      <td>0.929461</td>\n",
       "      <td>0.116788</td>\n",
       "      <td>0.114286</td>\n",
       "      <td>0.047244</td>\n",
       "      <td>0.188679</td>\n",
       "      <td>0.932773</td>\n",
       "      <td>0.015873</td>\n",
       "      <td>0.160000</td>\n",
       "    </tr>\n",
       "    <tr>\n",
       "      <th>MSE</th>\n",
       "      <td>0.049419</td>\n",
       "      <td>0.351744</td>\n",
       "      <td>0.360465</td>\n",
       "      <td>0.351744</td>\n",
       "      <td>0.375000</td>\n",
       "      <td>0.046512</td>\n",
       "      <td>0.360465</td>\n",
       "      <td>0.366279</td>\n",
       "    </tr>\n",
       "  </tbody>\n",
       "</table>\n",
       "</div>"
      ],
      "text/plain": [
       "                 all_features      demo  lifestyle     medic  clinical  \\\n",
       "Accuracy Score       0.950581  0.648256   0.639535  0.648256  0.625000   \n",
       "Precision Score      0.925620  0.066116   0.066116  0.024793  0.123967   \n",
       "Recall Score         0.933333  0.500000   0.421053  0.500000  0.394737   \n",
       "F1 Score             0.929461  0.116788   0.114286  0.047244  0.188679   \n",
       "MSE                  0.049419  0.351744   0.360465  0.351744  0.375000   \n",
       "\n",
       "                 cognitive  symptoms  no_cognitive  \n",
       "Accuracy Score    0.953488  0.639535      0.633721  \n",
       "Precision Score   0.917355  0.008264      0.099174  \n",
       "Recall Score      0.948718  0.200000      0.413793  \n",
       "F1 Score          0.932773  0.015873      0.160000  \n",
       "MSE               0.046512  0.360465      0.366279  "
      ]
     },
     "execution_count": 17,
     "metadata": {},
     "output_type": "execute_result"
    }
   ],
   "source": [
    "gbc_pipe = Pipeline([('scale', StandardScaler()), ('gbc', GradientBoostingClassifier(random_state=42))])\n",
    "\n",
    "gbc_accu_score = {}\n",
    "gbc_conf_matrix = {}\n",
    "\n",
    "for key in subcategory_dict:\n",
    "    item = subcategory_dict[key]\n",
    "    gbc_pipe.fit(df_train[item[:-1]], df_train.Diagnosis)\n",
    "    pred = gbc_pipe.predict(df_test[item[:-1]])\n",
    "\n",
    "    gbc_accu_score[key] = [accuracy_score(pred, df_test.Diagnosis),\n",
    "                           precision_score(pred, df_test.Diagnosis, zero_division=1),\n",
    "                           recall_score(pred, df_test.Diagnosis),\n",
    "                           f1_score(pred, df_test.Diagnosis),\n",
    "                           mean_squared_error(pred, df_test.Diagnosis)]\n",
    "    gbc_conf_matrix[key] = confusion_matrix(pred, df_test.Diagnosis)\n",
    "\n",
    "gbc_accu_score_df = pd.DataFrame(gbc_accu_score, index=['Accuracy Score', 'Precision Score', 'Recall Score', 'F1 Score', 'MSE'])\n",
    "gbc_accu_score_df\n"
   ]
  },
  {
   "cell_type": "code",
   "execution_count": 35,
   "metadata": {},
   "outputs": [
    {
     "data": {
      "image/png": "[encoded data removed]",
      "text/plain": [
       "<Figure size 640x480 with 2 Axes>"
      ]
     },
     "metadata": {},
     "output_type": "display_data"
    }
   ],
   "source": [
    "sns.heatmap(gbc_conf_matrix[\"all_features\"], annot=True, fmt=\"d\", cmap=\"Blues\", xticklabels=['No Alzheimers', 'Alzheimers'], yticklabels=['No Alzheimers', 'Alzheimers'])\n",
    "plt.xlabel(\"Predicted Label\")\n",
    "plt.ylabel(\"True Label\")\n",
    "plt.title(\"Confusion Matrix for Gradient boost model on all features\")\n",
    "plt.show()"
   ]
  },
  {
   "cell_type": "markdown",
   "metadata": {},
   "source": [
    "### **Adaptive Boosting Classifier**"
   ]
  },
  {
   "cell_type": "code",
   "execution_count": 45,
   "metadata": {},
   "outputs": [
    {
     "name": "stderr",
     "output_type": "stream",
     "text": [
      "c:\\Users\\Mercy\\.conda\\envs\\erdos_spring_2025\\Lib\\site-packages\\sklearn\\metrics\\_classification.py:1565: UndefinedMetricWarning: Recall is ill-defined and being set to 0.0 due to no true samples. Use `zero_division` parameter to control this behavior.\n",
      "  _warn_prf(average, modifier, f\"{metric.capitalize()} is\", len(result))\n",
      "c:\\Users\\Mercy\\.conda\\envs\\erdos_spring_2025\\Lib\\site-packages\\sklearn\\metrics\\_classification.py:1565: UndefinedMetricWarning: Recall is ill-defined and being set to 0.0 due to no true samples. Use `zero_division` parameter to control this behavior.\n",
      "  _warn_prf(average, modifier, f\"{metric.capitalize()} is\", len(result))\n",
      "c:\\Users\\Mercy\\.conda\\envs\\erdos_spring_2025\\Lib\\site-packages\\sklearn\\metrics\\_classification.py:1565: UndefinedMetricWarning: Recall is ill-defined and being set to 0.0 due to no true samples. Use `zero_division` parameter to control this behavior.\n",
      "  _warn_prf(average, modifier, f\"{metric.capitalize()} is\", len(result))\n",
      "c:\\Users\\Mercy\\.conda\\envs\\erdos_spring_2025\\Lib\\site-packages\\sklearn\\metrics\\_classification.py:1565: UndefinedMetricWarning: Recall is ill-defined and being set to 0.0 due to no true samples. Use `zero_division` parameter to control this behavior.\n",
      "  _warn_prf(average, modifier, f\"{metric.capitalize()} is\", len(result))\n",
      "c:\\Users\\Mercy\\.conda\\envs\\erdos_spring_2025\\Lib\\site-packages\\sklearn\\metrics\\_classification.py:1565: UndefinedMetricWarning: Recall is ill-defined and being set to 0.0 due to no true samples. Use `zero_division` parameter to control this behavior.\n",
      "  _warn_prf(average, modifier, f\"{metric.capitalize()} is\", len(result))\n",
      "c:\\Users\\Mercy\\.conda\\envs\\erdos_spring_2025\\Lib\\site-packages\\sklearn\\metrics\\_classification.py:1565: UndefinedMetricWarning: Recall is ill-defined and being set to 0.0 due to no true samples. Use `zero_division` parameter to control this behavior.\n",
      "  _warn_prf(average, modifier, f\"{metric.capitalize()} is\", len(result))\n"
     ]
    },
    {
     "data": {
      "application/vnd.microsoft.datawrangler.viewer.v0+json": {
       "columns": [
        {
         "name": "index",
         "rawType": "object",
         "type": "string"
        },
        {
         "name": "all_features",
         "rawType": "float64",
         "type": "float"
        },
        {
         "name": "demo",
         "rawType": "float64",
         "type": "float"
        },
        {
         "name": "lifestyle",
         "rawType": "float64",
         "type": "float"
        },
        {
         "name": "medic",
         "rawType": "float64",
         "type": "float"
        },
        {
         "name": "clinical",
         "rawType": "float64",
         "type": "float"
        },
        {
         "name": "cognitive",
         "rawType": "float64",
         "type": "float"
        },
        {
         "name": "symptoms",
         "rawType": "float64",
         "type": "float"
        },
        {
         "name": "no_cognitive",
         "rawType": "float64",
         "type": "float"
        }
       ],
       "conversionMethod": "pd.DataFrame",
       "ref": "cad917f9-60f3-4a28-8440-55f8930eadf5",
       "rows": [
        [
         "Accuracy Score",
         "0.9244186046511628",
         "0.6482558139534884",
         "0.6482558139534884",
         "0.6482558139534884",
         "0.6482558139534884",
         "0.936046511627907",
         "0.6482558139534884",
         "0.6482558139534884"
        ],
        [
         "Precision Score",
         "0.8677685950413223",
         "0.0",
         "0.0",
         "0.0",
         "0.0",
         "0.9090909090909091",
         "0.0",
         "0.0"
        ],
        [
         "Recall Score",
         "0.9130434782608695",
         "0.0",
         "0.0",
         "0.0",
         "0.0",
         "0.9090909090909091",
         "0.0",
         "0.0"
        ],
        [
         "F1 Score",
         "0.8898305084745762",
         "0.0",
         "0.0",
         "0.0",
         "0.0",
         "0.9090909090909091",
         "0.0",
         "0.0"
        ],
        [
         "MSE",
         "0.0755813953488372",
         "0.35174418604651164",
         "0.35174418604651164",
         "0.35174418604651164",
         "0.35174418604651164",
         "0.06395348837209303",
         "0.35174418604651164",
         "0.35174418604651164"
        ]
       ],
       "shape": {
        "columns": 8,
        "rows": 5
       }
      },
      "text/html": [
       "<div>\n",
       "<style scoped>\n",
       "    .dataframe tbody tr th:only-of-type {\n",
       "        vertical-align: middle;\n",
       "    }\n",
       "\n",
       "    .dataframe tbody tr th {\n",
       "        vertical-align: top;\n",
       "    }\n",
       "\n",
       "    .dataframe thead th {\n",
       "        text-align: right;\n",
       "    }\n",
       "</style>\n",
       "<table border=\"1\" class=\"dataframe\">\n",
       "  <thead>\n",
       "    <tr style=\"text-align: right;\">\n",
       "      <th></th>\n",
       "      <th>all_features</th>\n",
       "      <th>demo</th>\n",
       "      <th>lifestyle</th>\n",
       "      <th>medic</th>\n",
       "      <th>clinical</th>\n",
       "      <th>cognitive</th>\n",
       "      <th>symptoms</th>\n",
       "      <th>no_cognitive</th>\n",
       "    </tr>\n",
       "  </thead>\n",
       "  <tbody>\n",
       "    <tr>\n",
       "      <th>Accuracy Score</th>\n",
       "      <td>0.924419</td>\n",
       "      <td>0.648256</td>\n",
       "      <td>0.648256</td>\n",
       "      <td>0.648256</td>\n",
       "      <td>0.648256</td>\n",
       "      <td>0.936047</td>\n",
       "      <td>0.648256</td>\n",
       "      <td>0.648256</td>\n",
       "    </tr>\n",
       "    <tr>\n",
       "      <th>Precision Score</th>\n",
       "      <td>0.867769</td>\n",
       "      <td>0.000000</td>\n",
       "      <td>0.000000</td>\n",
       "      <td>0.000000</td>\n",
       "      <td>0.000000</td>\n",
       "      <td>0.909091</td>\n",
       "      <td>0.000000</td>\n",
       "      <td>0.000000</td>\n",
       "    </tr>\n",
       "    <tr>\n",
       "      <th>Recall Score</th>\n",
       "      <td>0.913043</td>\n",
       "      <td>0.000000</td>\n",
       "      <td>0.000000</td>\n",
       "      <td>0.000000</td>\n",
       "      <td>0.000000</td>\n",
       "      <td>0.909091</td>\n",
       "      <td>0.000000</td>\n",
       "      <td>0.000000</td>\n",
       "    </tr>\n",
       "    <tr>\n",
       "      <th>F1 Score</th>\n",
       "      <td>0.889831</td>\n",
       "      <td>0.000000</td>\n",
       "      <td>0.000000</td>\n",
       "      <td>0.000000</td>\n",
       "      <td>0.000000</td>\n",
       "      <td>0.909091</td>\n",
       "      <td>0.000000</td>\n",
       "      <td>0.000000</td>\n",
       "    </tr>\n",
       "    <tr>\n",
       "      <th>MSE</th>\n",
       "      <td>0.075581</td>\n",
       "      <td>0.351744</td>\n",
       "      <td>0.351744</td>\n",
       "      <td>0.351744</td>\n",
       "      <td>0.351744</td>\n",
       "      <td>0.063953</td>\n",
       "      <td>0.351744</td>\n",
       "      <td>0.351744</td>\n",
       "    </tr>\n",
       "  </tbody>\n",
       "</table>\n",
       "</div>"
      ],
      "text/plain": [
       "                 all_features      demo  lifestyle     medic  clinical  \\\n",
       "Accuracy Score       0.924419  0.648256   0.648256  0.648256  0.648256   \n",
       "Precision Score      0.867769  0.000000   0.000000  0.000000  0.000000   \n",
       "Recall Score         0.913043  0.000000   0.000000  0.000000  0.000000   \n",
       "F1 Score             0.889831  0.000000   0.000000  0.000000  0.000000   \n",
       "MSE                  0.075581  0.351744   0.351744  0.351744  0.351744   \n",
       "\n",
       "                 cognitive  symptoms  no_cognitive  \n",
       "Accuracy Score    0.936047  0.648256      0.648256  \n",
       "Precision Score   0.909091  0.000000      0.000000  \n",
       "Recall Score      0.909091  0.000000      0.000000  \n",
       "F1 Score          0.909091  0.000000      0.000000  \n",
       "MSE               0.063953  0.351744      0.351744  "
      ]
     },
     "execution_count": 45,
     "metadata": {},
     "output_type": "execute_result"
    }
   ],
   "source": [
    "adaboost_pipe = Pipeline([('scale', StandardScaler()), ('gbc', AdaBoostClassifier(random_state=42))])\n",
    "adaboost_accu_score = {}\n",
    "adaboost_conf_matrix = {}\n",
    "\n",
    "for key in subcategory_dict:\n",
    "    item = subcategory_dict[key]\n",
    "    adaboost_pipe.fit(df_train[item[:-1]], df_train.Diagnosis)\n",
    "    pred = adaboost_pipe.predict(df_test[item[:-1]])\n",
    "\n",
    "    adaboost_accu_score[key] = [accuracy_score(pred, df_test.Diagnosis),\n",
    "                           precision_score(pred, df_test.Diagnosis, zero_division=1),\n",
    "                           recall_score(pred, df_test.Diagnosis),\n",
    "                           f1_score(pred, df_test.Diagnosis),\n",
    "                           mean_squared_error(pred, df_test.Diagnosis)]\n",
    "    adaboost_conf_matrix[key] = confusion_matrix(pred, df_test.Diagnosis)\n",
    "\n",
    "adaboost_accu_score_df = pd.DataFrame(adaboost_accu_score, index=['Accuracy Score', 'Precision Score', 'Recall Score', 'F1 Score', 'MSE'])\n",
    "adaboost_accu_score_df\n"
   ]
  },
  {
   "cell_type": "code",
   "execution_count": 46,
   "metadata": {},
   "outputs": [
    {
     "data": {
      "image/png": "[encoded data removed]",
      "text/plain": [
       "<Figure size 640x480 with 2 Axes>"
      ]
     },
     "metadata": {},
     "output_type": "display_data"
    }
   ],
   "source": [
    "#Plotting confusion matrix\n",
    "sns.heatmap(adaboost_conf_matrix[\"all_features\"], annot=True, fmt=\"d\", cmap=\"Blues\", xticklabels=['No Alzheimers', 'Alzheimers'], yticklabels=['No Alzheimers', 'Alzheimers'])\n",
    "plt.xlabel(\"Predicted Label\")\n",
    "plt.ylabel(\"True Label\")\n",
    "plt.title(\"Confusion Matrix for Adaboost classification model on all features\")\n",
    "plt.show()"
   ]
  },
  {
   "cell_type": "markdown",
   "metadata": {},
   "source": [
    "### **Random Forest Classifier**"
   ]
  },
  {
   "cell_type": "code",
   "execution_count": 47,
   "metadata": {},
   "outputs": [
    {
     "data": {
      "application/vnd.microsoft.datawrangler.viewer.v0+json": {
       "columns": [
        {
         "name": "index",
         "rawType": "object",
         "type": "string"
        },
        {
         "name": "all_features",
         "rawType": "float64",
         "type": "float"
        },
        {
         "name": "demo",
         "rawType": "float64",
         "type": "float"
        },
        {
         "name": "lifestyle",
         "rawType": "float64",
         "type": "float"
        },
        {
         "name": "medic",
         "rawType": "float64",
         "type": "float"
        },
        {
         "name": "clinical",
         "rawType": "float64",
         "type": "float"
        },
        {
         "name": "cognitive",
         "rawType": "float64",
         "type": "float"
        },
        {
         "name": "symptoms",
         "rawType": "float64",
         "type": "float"
        },
        {
         "name": "no_cognitive",
         "rawType": "float64",
         "type": "float"
        }
       ],
       "conversionMethod": "pd.DataFrame",
       "ref": "8b2ffdd7-0d9d-41fd-b884-2bfb7716ce0a",
       "rows": [
        [
         "Accuracy Score",
         "0.936046511627907",
         "0.5087209302325582",
         "0.6075581395348837",
         "0.6482558139534884",
         "0.6104651162790697",
         "0.9563953488372093",
         "0.6395348837209303",
         "0.6511627906976745"
        ],
        [
         "Precision Score",
         "0.8512396694214877",
         "0.2975206611570248",
         "0.0743801652892562",
         "0.024793388429752067",
         "0.08264462809917356",
         "0.9090909090909091",
         "0.008264462809917356",
         "0.049586776859504134"
        ],
        [
         "Recall Score",
         "0.9626168224299065",
         "0.3",
         "0.28125",
         "0.5",
         "0.30303030303030304",
         "0.9649122807017544",
         "0.2",
         "0.5454545454545454"
        ],
        [
         "F1 Score",
         "0.9035087719298246",
         "0.2987551867219917",
         "0.11764705882352941",
         "0.047244094488188976",
         "0.12987012987012986",
         "0.9361702127659575",
         "0.015873015873015872",
         "0.09090909090909091"
        ],
        [
         "MSE",
         "0.06395348837209303",
         "0.49127906976744184",
         "0.39244186046511625",
         "0.35174418604651164",
         "0.38953488372093026",
         "0.0436046511627907",
         "0.36046511627906974",
         "0.3488372093023256"
        ]
       ],
       "shape": {
        "columns": 8,
        "rows": 5
       }
      },
      "text/html": [
       "<div>\n",
       "<style scoped>\n",
       "    .dataframe tbody tr th:only-of-type {\n",
       "        vertical-align: middle;\n",
       "    }\n",
       "\n",
       "    .dataframe tbody tr th {\n",
       "        vertical-align: top;\n",
       "    }\n",
       "\n",
       "    .dataframe thead th {\n",
       "        text-align: right;\n",
       "    }\n",
       "</style>\n",
       "<table border=\"1\" class=\"dataframe\">\n",
       "  <thead>\n",
       "    <tr style=\"text-align: right;\">\n",
       "      <th></th>\n",
       "      <th>all_features</th>\n",
       "      <th>demo</th>\n",
       "      <th>lifestyle</th>\n",
       "      <th>medic</th>\n",
       "      <th>clinical</th>\n",
       "      <th>cognitive</th>\n",
       "      <th>symptoms</th>\n",
       "      <th>no_cognitive</th>\n",
       "    </tr>\n",
       "  </thead>\n",
       "  <tbody>\n",
       "    <tr>\n",
       "      <th>Accuracy Score</th>\n",
       "      <td>0.936047</td>\n",
       "      <td>0.508721</td>\n",
       "      <td>0.607558</td>\n",
       "      <td>0.648256</td>\n",
       "      <td>0.610465</td>\n",
       "      <td>0.956395</td>\n",
       "      <td>0.639535</td>\n",
       "      <td>0.651163</td>\n",
       "    </tr>\n",
       "    <tr>\n",
       "      <th>Precision Score</th>\n",
       "      <td>0.851240</td>\n",
       "      <td>0.297521</td>\n",
       "      <td>0.074380</td>\n",
       "      <td>0.024793</td>\n",
       "      <td>0.082645</td>\n",
       "      <td>0.909091</td>\n",
       "      <td>0.008264</td>\n",
       "      <td>0.049587</td>\n",
       "    </tr>\n",
       "    <tr>\n",
       "      <th>Recall Score</th>\n",
       "      <td>0.962617</td>\n",
       "      <td>0.300000</td>\n",
       "      <td>0.281250</td>\n",
       "      <td>0.500000</td>\n",
       "      <td>0.303030</td>\n",
       "      <td>0.964912</td>\n",
       "      <td>0.200000</td>\n",
       "      <td>0.545455</td>\n",
       "    </tr>\n",
       "    <tr>\n",
       "      <th>F1 Score</th>\n",
       "      <td>0.903509</td>\n",
       "      <td>0.298755</td>\n",
       "      <td>0.117647</td>\n",
       "      <td>0.047244</td>\n",
       "      <td>0.129870</td>\n",
       "      <td>0.936170</td>\n",
       "      <td>0.015873</td>\n",
       "      <td>0.090909</td>\n",
       "    </tr>\n",
       "    <tr>\n",
       "      <th>MSE</th>\n",
       "      <td>0.063953</td>\n",
       "      <td>0.491279</td>\n",
       "      <td>0.392442</td>\n",
       "      <td>0.351744</td>\n",
       "      <td>0.389535</td>\n",
       "      <td>0.043605</td>\n",
       "      <td>0.360465</td>\n",
       "      <td>0.348837</td>\n",
       "    </tr>\n",
       "  </tbody>\n",
       "</table>\n",
       "</div>"
      ],
      "text/plain": [
       "                 all_features      demo  lifestyle     medic  clinical  \\\n",
       "Accuracy Score       0.936047  0.508721   0.607558  0.648256  0.610465   \n",
       "Precision Score      0.851240  0.297521   0.074380  0.024793  0.082645   \n",
       "Recall Score         0.962617  0.300000   0.281250  0.500000  0.303030   \n",
       "F1 Score             0.903509  0.298755   0.117647  0.047244  0.129870   \n",
       "MSE                  0.063953  0.491279   0.392442  0.351744  0.389535   \n",
       "\n",
       "                 cognitive  symptoms  no_cognitive  \n",
       "Accuracy Score    0.956395  0.639535      0.651163  \n",
       "Precision Score   0.909091  0.008264      0.049587  \n",
       "Recall Score      0.964912  0.200000      0.545455  \n",
       "F1 Score          0.936170  0.015873      0.090909  \n",
       "MSE               0.043605  0.360465      0.348837  "
      ]
     },
     "execution_count": 47,
     "metadata": {},
     "output_type": "execute_result"
    }
   ],
   "source": [
    "rfc_pipe = Pipeline([('scale', StandardScaler()), ('gbc', RandomForestClassifier(random_state=42))])\n",
    "rfc_accu_score = {}\n",
    "rfc_conf_matrix = {}\n",
    "\n",
    "for key in subcategory_dict:\n",
    "    item = subcategory_dict[key]\n",
    "    rfc_pipe.fit(df_train[item[:-1]], df_train.Diagnosis)\n",
    "    pred = rfc_pipe.predict(df_test[item[:-1]])\n",
    "\n",
    "    rfc_accu_score[key] = [accuracy_score(pred, df_test.Diagnosis),\n",
    "                           precision_score(pred, df_test.Diagnosis, zero_division=1),\n",
    "                           recall_score(pred, df_test.Diagnosis),\n",
    "                           f1_score(pred, df_test.Diagnosis),\n",
    "                           mean_squared_error(pred, df_test.Diagnosis)]\n",
    "    rfc_conf_matrix[key] = confusion_matrix(pred, df_test.Diagnosis)\n",
    "\n",
    "rfc_accu_score_df = pd.DataFrame(rfc_accu_score, index=['Accuracy Score', 'Precision Score', 'Recall Score', 'F1 Score', 'MSE'])\n",
    "rfc_accu_score_df"
   ]
  },
  {
   "cell_type": "code",
   "execution_count": 48,
   "metadata": {},
   "outputs": [
    {
     "data": {
      "image/png": "[encoded data removed]",
      "text/plain": [
       "<Figure size 640x480 with 2 Axes>"
      ]
     },
     "metadata": {},
     "output_type": "display_data"
    }
   ],
   "source": [
    "#Plotting confusion matrix\n",
    "sns.heatmap(rfc_conf_matrix[\"all_features\"], annot=True, fmt=\"d\", cmap=\"Blues\", xticklabels=['No Alzheimers', 'Alzheimers'], yticklabels=['No Alzheimers', 'Alzheimers'])\n",
    "plt.xlabel(\"Predicted Label\")\n",
    "plt.ylabel(\"True Label\")\n",
    "plt.title(\"Confusion Matrix for RandomForest classification model on all features\")\n",
    "plt.show()"
   ]
  },
  {
   "cell_type": "markdown",
   "metadata": {},
   "source": [
    "### **XGBoost**"
   ]
  },
  {
   "cell_type": "code",
   "execution_count": 50,
   "metadata": {},
   "outputs": [
    {
     "data": {
      "application/vnd.microsoft.datawrangler.viewer.v0+json": {
       "columns": [
        {
         "name": "index",
         "rawType": "object",
         "type": "string"
        },
        {
         "name": "all_features",
         "rawType": "float64",
         "type": "float"
        },
        {
         "name": "demo",
         "rawType": "float64",
         "type": "float"
        },
        {
         "name": "lifestyle",
         "rawType": "float64",
         "type": "float"
        },
        {
         "name": "medic",
         "rawType": "float64",
         "type": "float"
        },
        {
         "name": "clinical",
         "rawType": "float64",
         "type": "float"
        },
        {
         "name": "cognitive",
         "rawType": "float64",
         "type": "float"
        },
        {
         "name": "symptoms",
         "rawType": "float64",
         "type": "float"
        },
        {
         "name": "no_cognitive",
         "rawType": "float64",
         "type": "float"
        }
       ],
       "conversionMethod": "pd.DataFrame",
       "ref": "f9c7dfaa-7f93-464a-bb13-63f11752aa09",
       "rows": [
        [
         "Accuracy Score",
         "0.9505813953488372",
         "0.5523255813953488",
         "0.6191860465116279",
         "0.6453488372093024",
         "0.5959302325581395",
         "0.9534883720930233",
         "0.6395348837209303",
         "0.6191860465116279"
        ],
        [
         "Precision Score",
         "0.8925619834710744",
         "0.2809917355371901",
         "0.2644628099173554",
         "0.04132231404958678",
         "0.2809917355371901",
         "0.9090909090909091",
         "0.008264462809917356",
         "0.1652892561983471"
        ],
        [
         "Recall Score",
         "0.9642857142857143",
         "0.33663366336633666",
         "0.43243243243243246",
         "0.45454545454545453",
         "0.3953488372093023",
         "0.9565217391304348",
         "0.2",
         "0.4"
        ],
        [
         "F1 Score",
         "0.927038626609442",
         "0.3063063063063063",
         "0.3282051282051282",
         "0.07575757575757576",
         "0.3285024154589372",
         "0.9322033898305084",
         "0.015873015873015872",
         "0.23391812865497075"
        ],
        [
         "MSE",
         "0.04941860465116279",
         "0.4476744186046512",
         "0.3808139534883721",
         "0.3546511627906977",
         "0.40406976744186046",
         "0.046511627906976744",
         "0.36046511627906974",
         "0.3808139534883721"
        ]
       ],
       "shape": {
        "columns": 8,
        "rows": 5
       }
      },
      "text/html": [
       "<div>\n",
       "<style scoped>\n",
       "    .dataframe tbody tr th:only-of-type {\n",
       "        vertical-align: middle;\n",
       "    }\n",
       "\n",
       "    .dataframe tbody tr th {\n",
       "        vertical-align: top;\n",
       "    }\n",
       "\n",
       "    .dataframe thead th {\n",
       "        text-align: right;\n",
       "    }\n",
       "</style>\n",
       "<table border=\"1\" class=\"dataframe\">\n",
       "  <thead>\n",
       "    <tr style=\"text-align: right;\">\n",
       "      <th></th>\n",
       "      <th>all_features</th>\n",
       "      <th>demo</th>\n",
       "      <th>lifestyle</th>\n",
       "      <th>medic</th>\n",
       "      <th>clinical</th>\n",
       "      <th>cognitive</th>\n",
       "      <th>symptoms</th>\n",
       "      <th>no_cognitive</th>\n",
       "    </tr>\n",
       "  </thead>\n",
       "  <tbody>\n",
       "    <tr>\n",
       "      <th>Accuracy Score</th>\n",
       "      <td>0.950581</td>\n",
       "      <td>0.552326</td>\n",
       "      <td>0.619186</td>\n",
       "      <td>0.645349</td>\n",
       "      <td>0.595930</td>\n",
       "      <td>0.953488</td>\n",
       "      <td>0.639535</td>\n",
       "      <td>0.619186</td>\n",
       "    </tr>\n",
       "    <tr>\n",
       "      <th>Precision Score</th>\n",
       "      <td>0.892562</td>\n",
       "      <td>0.280992</td>\n",
       "      <td>0.264463</td>\n",
       "      <td>0.041322</td>\n",
       "      <td>0.280992</td>\n",
       "      <td>0.909091</td>\n",
       "      <td>0.008264</td>\n",
       "      <td>0.165289</td>\n",
       "    </tr>\n",
       "    <tr>\n",
       "      <th>Recall Score</th>\n",
       "      <td>0.964286</td>\n",
       "      <td>0.336634</td>\n",
       "      <td>0.432432</td>\n",
       "      <td>0.454545</td>\n",
       "      <td>0.395349</td>\n",
       "      <td>0.956522</td>\n",
       "      <td>0.200000</td>\n",
       "      <td>0.400000</td>\n",
       "    </tr>\n",
       "    <tr>\n",
       "      <th>F1 Score</th>\n",
       "      <td>0.927039</td>\n",
       "      <td>0.306306</td>\n",
       "      <td>0.328205</td>\n",
       "      <td>0.075758</td>\n",
       "      <td>0.328502</td>\n",
       "      <td>0.932203</td>\n",
       "      <td>0.015873</td>\n",
       "      <td>0.233918</td>\n",
       "    </tr>\n",
       "    <tr>\n",
       "      <th>MSE</th>\n",
       "      <td>0.049419</td>\n",
       "      <td>0.447674</td>\n",
       "      <td>0.380814</td>\n",
       "      <td>0.354651</td>\n",
       "      <td>0.404070</td>\n",
       "      <td>0.046512</td>\n",
       "      <td>0.360465</td>\n",
       "      <td>0.380814</td>\n",
       "    </tr>\n",
       "  </tbody>\n",
       "</table>\n",
       "</div>"
      ],
      "text/plain": [
       "                 all_features      demo  lifestyle     medic  clinical  \\\n",
       "Accuracy Score       0.950581  0.552326   0.619186  0.645349  0.595930   \n",
       "Precision Score      0.892562  0.280992   0.264463  0.041322  0.280992   \n",
       "Recall Score         0.964286  0.336634   0.432432  0.454545  0.395349   \n",
       "F1 Score             0.927039  0.306306   0.328205  0.075758  0.328502   \n",
       "MSE                  0.049419  0.447674   0.380814  0.354651  0.404070   \n",
       "\n",
       "                 cognitive  symptoms  no_cognitive  \n",
       "Accuracy Score    0.953488  0.639535      0.619186  \n",
       "Precision Score   0.909091  0.008264      0.165289  \n",
       "Recall Score      0.956522  0.200000      0.400000  \n",
       "F1 Score          0.932203  0.015873      0.233918  \n",
       "MSE               0.046512  0.360465      0.380814  "
      ]
     },
     "execution_count": 50,
     "metadata": {},
     "output_type": "execute_result"
    }
   ],
   "source": [
    "xgbc_pipe = Pipeline([('scale', StandardScaler()), ('gbc', XGBClassifier(random_state=42))])\n",
    "xgbc_accu_score = {}\n",
    "xgbc_conf_matrix = {}\n",
    "\n",
    "for key in subcategory_dict:\n",
    "    item = subcategory_dict[key]\n",
    "    xgbc_pipe.fit(df_train[item[:-1]], df_train.Diagnosis)\n",
    "    pred = xgbc_pipe.predict(df_test[item[:-1]])\n",
    "\n",
    "    xgbc_accu_score[key] = [accuracy_score(pred, df_test.Diagnosis),\n",
    "                           precision_score(pred, df_test.Diagnosis, zero_division=1),\n",
    "                           recall_score(pred, df_test.Diagnosis),\n",
    "                           f1_score(pred, df_test.Diagnosis),\n",
    "                           mean_squared_error(pred, df_test.Diagnosis)]\n",
    "    xgbc_conf_matrix[key] = confusion_matrix(pred, df_test.Diagnosis)\n",
    "\n",
    "xgbc_accu_score_df = pd.DataFrame(xgbc_accu_score, index=['Accuracy Score', 'Precision Score', 'Recall Score', 'F1 Score', 'MSE'])\n",
    "xgbc_accu_score_df"
   ]
  },
  {
   "cell_type": "code",
   "execution_count": 51,
   "metadata": {},
   "outputs": [
    {
     "data": {
      "image/png": "[encoded data removed]",
      "text/plain": [
       "<Figure size 640x480 with 2 Axes>"
      ]
     },
     "metadata": {},
     "output_type": "display_data"
    }
   ],
   "source": [
    "#Plotting confusion matrix\n",
    "sns.heatmap(xgbc_conf_matrix[\"all_features\"], annot=True, fmt=\"d\", cmap=\"Blues\", xticklabels=['No Alzheimers', 'Alzheimers'], yticklabels=['No Alzheimers', 'Alzheimers'])\n",
    "plt.xlabel(\"Predicted Label\")\n",
    "plt.ylabel(\"True Label\")\n",
    "plt.title(\"Confusion Matrix for XGBoost classification model on all features\")\n",
    "plt.show()"
   ]
  }
 ],
 "metadata": {
  "kernelspec": {
   "display_name": "Python 3",
   "language": "python",
   "name": "python3"
  },
  "language_info": {
   "codemirror_mode": {
    "name": "ipython",
    "version": 3
   },
   "file_extension": ".py",
   "mimetype": "text/x-python",
   "name": "python",
   "nbconvert_exporter": "python",
   "pygments_lexer": "ipython3",
   "version": "3.12.9"
  }
 },
 "nbformat": 4,
 "nbformat_minor": 2
}
