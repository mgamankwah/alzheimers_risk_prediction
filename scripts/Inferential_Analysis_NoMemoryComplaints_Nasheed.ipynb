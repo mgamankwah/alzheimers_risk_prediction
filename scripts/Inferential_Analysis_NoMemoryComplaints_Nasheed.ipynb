{
 "cells": [
  {
   "cell_type": "markdown",
   "id": "bbfa4bdf-90c7-485c-89ac-535f74f7f81b",
   "metadata": {},
   "source": [
    "Date: 04/13/2025\n",
    "\n",
    "Author: Nasheed Jafri\n",
    "\n",
    "Purpose: Modeling risk of Alzheimer's as probabilities instead of raw classification"
   ]
  },
  {
   "cell_type": "markdown",
   "id": "ee902bb6-608e-41ad-ae76-a587fe39f171",
   "metadata": {},
   "source": [
    "# Introduction\n",
    "\n",
    "In this notebook, we move beyond predictive modeling and turn our attention to understanding patterns and relationships within the data through inferential analysis. Specifically, we explore how the presence or absence of certain clinical and behavioral features affects the likelihood of an Alzheimer's diagnosis. The main goal would be early detection, so we only consider the subset of patients who exhibit no memory complaints.\n",
    "\n",
    "Rather than training a model, our goal here is to derive interpretable, data-driven insights by computing conditional probabilities — such as:\n",
    "\n",
    "- What is the probability of having Alzheimer’s, given that a patient exhibits behavioral problems?\n",
    "- How does the risk change if a patient reports low MMSE performance?\n",
    "\n",
    "This analysis allows us to:\n",
    "\n",
    "- Quantify the individual contribution of key symptoms to Alzheimer’s risk,\n",
    "- Gain transparency into the dataset beyond black-box models,\n",
    "- Support hypothesis generation and guide clinical focus areas.\n",
    "\n",
    "By grounding our findings in conditional probability and visual inspection, we aim to enhance interpretability and foster more informed, feature-specific reasoning in the context of Alzheimer’s disease."
   ]
  },
  {
   "cell_type": "markdown",
   "id": "a87f4ce9-4334-4ac6-8102-85725af79a2c",
   "metadata": {},
   "source": [
    "# Inferential Analysis for patients with no memory complaints"
   ]
  },
  {
   "cell_type": "code",
   "execution_count": 3,
   "id": "93d30bac-c6f2-4b54-baf6-639ad641f755",
   "metadata": {},
   "outputs": [],
   "source": [
    "import pandas as pd\n",
    "import numpy as np\n",
    "\n",
    "import matplotlib.pyplot as plt\n",
    "import seaborn as sns\n",
    "from seaborn import set_style\n",
    "\n",
    "set_style(\"whitegrid\")\n",
    "\n",
    "from sklearn.pipeline import Pipeline\n",
    "from sklearn.preprocessing import StandardScaler\n",
    "from sklearn.tree import DecisionTreeClassifier\n",
    "from sklearn.ensemble import AdaBoostClassifier\n",
    "from xgboost import XGBClassifier\n",
    "from sklearn.metrics import accuracy_score, precision_score, recall_score, f1_score, mean_squared_error, confusion_matrix\n",
    "from sklearn.model_selection import train_test_split, cross_val_score\n",
    "\n",
    "from sklearn.calibration import CalibratedClassifierCV, calibration_curve\n",
    "from sklearn.metrics import brier_score_loss, roc_auc_score, RocCurveDisplay"
   ]
  },
  {
   "cell_type": "code",
   "execution_count": 5,
   "id": "ae865d3e-3cba-4f85-bf01-dc9cd0137bf8",
   "metadata": {},
   "outputs": [],
   "source": [
    "df = pd.read_csv(\"/Users/nasheedjafri/Downloads/data/kaggle_train.csv\")\n",
    "df = df.drop(columns = ['DoctorInCharge' , 'PatientID' ])\n",
    "df = df.loc[df.MemoryComplaints == 0]\n",
    "df_train, df_test = train_test_split(df, random_state= 123 , shuffle= True,\n",
    "                                     test_size=0.2, stratify=df['Diagnosis'])"
   ]
  },
  {
   "cell_type": "code",
   "execution_count": 7,
   "id": "b331eac8-4069-4c61-a831-9a8c576e5e50",
   "metadata": {},
   "outputs": [],
   "source": [
    "## Seperating features into subcategories\n",
    "\n",
    "all_features = ['Age', 'Gender', 'Ethnicity', 'EducationLevel', 'BMI',\n",
    "               'Smoking', 'AlcoholConsumption', 'PhysicalActivity', 'DietQuality',\n",
    "               'SleepQuality', 'FamilyHistoryAlzheimers', 'CardiovascularDisease',\n",
    "               'Diabetes', 'Depression', 'HeadInjury', 'Hypertension', 'SystolicBP',\n",
    "               'DiastolicBP', 'CholesterolTotal', 'CholesterolLDL', 'CholesterolHDL',\n",
    "               'CholesterolTriglycerides', 'MMSE', 'FunctionalAssessment',\n",
    "               'MemoryComplaints', 'BehavioralProblems', 'ADL', 'Confusion',\n",
    "               'Disorientation', 'PersonalityChanges', 'DifficultyCompletingTasks',\n",
    "               'Forgetfulness' , 'Diagnosis']\n",
    "demo_features = ['Age', 'Gender', 'Ethnicity','EducationLevel','Diagnosis']\n",
    "life_style_features = ['BMI','Smoking', 'AlcoholConsumption', 'PhysicalActivity', 'DietQuality', 'SleepQuality','Diagnosis']\n",
    "medic_hist_features = ['FamilyHistoryAlzheimers', 'CardiovascularDisease','Diabetes', 'Depression', 'HeadInjury', 'Hypertension','Diagnosis']\n",
    "clinical_features = ['SystolicBP','DiastolicBP', 'CholesterolTotal', 'CholesterolLDL', 'CholesterolHDL','CholesterolTriglycerides','Diagnosis']\n",
    "cognitive_features = ['MMSE', 'FunctionalAssessment','MemoryComplaints', 'BehavioralProblems', 'ADL','Diagnosis']\n",
    "symptoms_features = ['Confusion','Disorientation', 'PersonalityChanges', 'DifficultyCompletingTasks','Forgetfulness','Diagnosis']\n",
    "\n",
    "no_cognitive = [item for item in all_features if item not in cognitive_features]\n",
    "no_cognitive.append('Diagnosis')\n",
    "\n",
    "subcategory_dict = {'all_features' : all_features,'demo':demo_features ,'lifestyle': life_style_features , 'medic' : medic_hist_features , \n",
    "                    'clinical':clinical_features , 'cognitive': cognitive_features , 'symptoms': symptoms_features , 'no_cognitive': no_cognitive}\n"
   ]
  },
  {
   "cell_type": "code",
   "execution_count": 9,
   "id": "ac34b3d4-c5a0-44c9-9d16-d47b8cb2d170",
   "metadata": {},
   "outputs": [
    {
     "data": {
      "text/html": [
       "<style>#sk-container-id-1 {color: black;}#sk-container-id-1 pre{padding: 0;}#sk-container-id-1 div.sk-toggleable {background-color: white;}#sk-container-id-1 label.sk-toggleable__label {cursor: pointer;display: block;width: 100%;margin-bottom: 0;padding: 0.3em;box-sizing: border-box;text-align: center;}#sk-container-id-1 label.sk-toggleable__label-arrow:before {content: \"▸\";float: left;margin-right: 0.25em;color: #696969;}#sk-container-id-1 label.sk-toggleable__label-arrow:hover:before {color: black;}#sk-container-id-1 div.sk-estimator:hover label.sk-toggleable__label-arrow:before {color: black;}#sk-container-id-1 div.sk-toggleable__content {max-height: 0;max-width: 0;overflow: hidden;text-align: left;background-color: #f0f8ff;}#sk-container-id-1 div.sk-toggleable__content pre {margin: 0.2em;color: black;border-radius: 0.25em;background-color: #f0f8ff;}#sk-container-id-1 input.sk-toggleable__control:checked~div.sk-toggleable__content {max-height: 200px;max-width: 100%;overflow: auto;}#sk-container-id-1 input.sk-toggleable__control:checked~label.sk-toggleable__label-arrow:before {content: \"▾\";}#sk-container-id-1 div.sk-estimator input.sk-toggleable__control:checked~label.sk-toggleable__label {background-color: #d4ebff;}#sk-container-id-1 div.sk-label input.sk-toggleable__control:checked~label.sk-toggleable__label {background-color: #d4ebff;}#sk-container-id-1 input.sk-hidden--visually {border: 0;clip: rect(1px 1px 1px 1px);clip: rect(1px, 1px, 1px, 1px);height: 1px;margin: -1px;overflow: hidden;padding: 0;position: absolute;width: 1px;}#sk-container-id-1 div.sk-estimator {font-family: monospace;background-color: #f0f8ff;border: 1px dotted black;border-radius: 0.25em;box-sizing: border-box;margin-bottom: 0.5em;}#sk-container-id-1 div.sk-estimator:hover {background-color: #d4ebff;}#sk-container-id-1 div.sk-parallel-item::after {content: \"\";width: 100%;border-bottom: 1px solid gray;flex-grow: 1;}#sk-container-id-1 div.sk-label:hover label.sk-toggleable__label {background-color: #d4ebff;}#sk-container-id-1 div.sk-serial::before {content: \"\";position: absolute;border-left: 1px solid gray;box-sizing: border-box;top: 0;bottom: 0;left: 50%;z-index: 0;}#sk-container-id-1 div.sk-serial {display: flex;flex-direction: column;align-items: center;background-color: white;padding-right: 0.2em;padding-left: 0.2em;position: relative;}#sk-container-id-1 div.sk-item {position: relative;z-index: 1;}#sk-container-id-1 div.sk-parallel {display: flex;align-items: stretch;justify-content: center;background-color: white;position: relative;}#sk-container-id-1 div.sk-item::before, #sk-container-id-1 div.sk-parallel-item::before {content: \"\";position: absolute;border-left: 1px solid gray;box-sizing: border-box;top: 0;bottom: 0;left: 50%;z-index: -1;}#sk-container-id-1 div.sk-parallel-item {display: flex;flex-direction: column;z-index: 1;position: relative;background-color: white;}#sk-container-id-1 div.sk-parallel-item:first-child::after {align-self: flex-end;width: 50%;}#sk-container-id-1 div.sk-parallel-item:last-child::after {align-self: flex-start;width: 50%;}#sk-container-id-1 div.sk-parallel-item:only-child::after {width: 0;}#sk-container-id-1 div.sk-dashed-wrapped {border: 1px dashed gray;margin: 0 0.4em 0.5em 0.4em;box-sizing: border-box;padding-bottom: 0.4em;background-color: white;}#sk-container-id-1 div.sk-label label {font-family: monospace;font-weight: bold;display: inline-block;line-height: 1.2em;}#sk-container-id-1 div.sk-label-container {text-align: center;}#sk-container-id-1 div.sk-container {/* jupyter's `normalize.less` sets `[hidden] { display: none; }` but bootstrap.min.css set `[hidden] { display: none !important; }` so we also need the `!important` here to be able to override the default hidden behavior on the sphinx rendered scikit-learn.org. See: https://github.com/scikit-learn/scikit-learn/issues/21755 */display: inline-block !important;position: relative;}#sk-container-id-1 div.sk-text-repr-fallback {display: none;}</style><div id=\"sk-container-id-1\" class=\"sk-top-container\"><div class=\"sk-text-repr-fallback\"><pre>XGBClassifier(base_score=None, booster=None, callbacks=None,\n",
       "              colsample_bylevel=None, colsample_bynode=None,\n",
       "              colsample_bytree=0.6024713590870578, device=None,\n",
       "              early_stopping_rounds=None, enable_categorical=False,\n",
       "              eval_metric=&#x27;error&#x27;, feature_types=None, feature_weights=None,\n",
       "              gamma=3, grow_policy=None, importance_type=None,\n",
       "              interaction_constraints=None, learning_rate=0.2936557853809352,\n",
       "              max_bin=None, max_cat_threshold=None, max_cat_to_onehot=None,\n",
       "              max_delta_step=None, max_depth=4, max_leaves=None,\n",
       "              min_child_weight=2, missing=nan, monotone_constraints=None,\n",
       "              multi_strategy=None, n_estimators=342, n_jobs=None,\n",
       "              num_parallel_tree=None, ...)</pre><b>In a Jupyter environment, please rerun this cell to show the HTML representation or trust the notebook. <br />On GitHub, the HTML representation is unable to render, please try loading this page with nbviewer.org.</b></div><div class=\"sk-container\" hidden><div class=\"sk-item\"><div class=\"sk-estimator sk-toggleable\"><input class=\"sk-toggleable__control sk-hidden--visually\" id=\"sk-estimator-id-1\" type=\"checkbox\" checked><label for=\"sk-estimator-id-1\" class=\"sk-toggleable__label sk-toggleable__label-arrow\">XGBClassifier</label><div class=\"sk-toggleable__content\"><pre>XGBClassifier(base_score=None, booster=None, callbacks=None,\n",
       "              colsample_bylevel=None, colsample_bynode=None,\n",
       "              colsample_bytree=0.6024713590870578, device=None,\n",
       "              early_stopping_rounds=None, enable_categorical=False,\n",
       "              eval_metric=&#x27;error&#x27;, feature_types=None, feature_weights=None,\n",
       "              gamma=3, grow_policy=None, importance_type=None,\n",
       "              interaction_constraints=None, learning_rate=0.2936557853809352,\n",
       "              max_bin=None, max_cat_threshold=None, max_cat_to_onehot=None,\n",
       "              max_delta_step=None, max_depth=4, max_leaves=None,\n",
       "              min_child_weight=2, missing=nan, monotone_constraints=None,\n",
       "              multi_strategy=None, n_estimators=342, n_jobs=None,\n",
       "              num_parallel_tree=None, ...)</pre></div></div></div></div></div>"
      ],
      "text/plain": [
       "XGBClassifier(base_score=None, booster=None, callbacks=None,\n",
       "              colsample_bylevel=None, colsample_bynode=None,\n",
       "              colsample_bytree=0.6024713590870578, device=None,\n",
       "              early_stopping_rounds=None, enable_categorical=False,\n",
       "              eval_metric='error', feature_types=None, feature_weights=None,\n",
       "              gamma=3, grow_policy=None, importance_type=None,\n",
       "              interaction_constraints=None, learning_rate=0.2936557853809352,\n",
       "              max_bin=None, max_cat_threshold=None, max_cat_to_onehot=None,\n",
       "              max_delta_step=None, max_depth=4, max_leaves=None,\n",
       "              min_child_weight=2, missing=nan, monotone_constraints=None,\n",
       "              multi_strategy=None, n_estimators=342, n_jobs=None,\n",
       "              num_parallel_tree=None, ...)"
      ]
     },
     "execution_count": 9,
     "metadata": {},
     "output_type": "execute_result"
    }
   ],
   "source": [
    "model_tuned_params = {\n",
    "    'n_estimators': 342,\n",
    "    'learning_rate': 0.2936557853809352,\n",
    "    'max_depth': 4,\n",
    "    'min_child_weight': 2,\n",
    "    'gamma': 3,\n",
    "    'subsample': 0.9505333790576483,\n",
    "    'colsample_bytree': 0.6024713590870578,\n",
    "    'reg_alpha': 0.22059934204998982,\n",
    "    'reg_lambda': 0.8737784998045829,\n",
    "    'scale_pos_weight': 1,\n",
    "    'eval_metric': 'error'\n",
    "}\n",
    "\n",
    "model_tuned_ = XGBClassifier(**model_tuned_params, random_state=123)\n",
    "model_tuned_.fit(df_train[all_features[:-1]], df_train.Diagnosis)"
   ]
  },
  {
   "cell_type": "code",
   "execution_count": 11,
   "id": "45c412a1-0c72-4798-8d67-5bc15d8637a2",
   "metadata": {},
   "outputs": [
    {
     "data": {
      "text/html": [
       "<style>#sk-container-id-2 {color: black;}#sk-container-id-2 pre{padding: 0;}#sk-container-id-2 div.sk-toggleable {background-color: white;}#sk-container-id-2 label.sk-toggleable__label {cursor: pointer;display: block;width: 100%;margin-bottom: 0;padding: 0.3em;box-sizing: border-box;text-align: center;}#sk-container-id-2 label.sk-toggleable__label-arrow:before {content: \"▸\";float: left;margin-right: 0.25em;color: #696969;}#sk-container-id-2 label.sk-toggleable__label-arrow:hover:before {color: black;}#sk-container-id-2 div.sk-estimator:hover label.sk-toggleable__label-arrow:before {color: black;}#sk-container-id-2 div.sk-toggleable__content {max-height: 0;max-width: 0;overflow: hidden;text-align: left;background-color: #f0f8ff;}#sk-container-id-2 div.sk-toggleable__content pre {margin: 0.2em;color: black;border-radius: 0.25em;background-color: #f0f8ff;}#sk-container-id-2 input.sk-toggleable__control:checked~div.sk-toggleable__content {max-height: 200px;max-width: 100%;overflow: auto;}#sk-container-id-2 input.sk-toggleable__control:checked~label.sk-toggleable__label-arrow:before {content: \"▾\";}#sk-container-id-2 div.sk-estimator input.sk-toggleable__control:checked~label.sk-toggleable__label {background-color: #d4ebff;}#sk-container-id-2 div.sk-label input.sk-toggleable__control:checked~label.sk-toggleable__label {background-color: #d4ebff;}#sk-container-id-2 input.sk-hidden--visually {border: 0;clip: rect(1px 1px 1px 1px);clip: rect(1px, 1px, 1px, 1px);height: 1px;margin: -1px;overflow: hidden;padding: 0;position: absolute;width: 1px;}#sk-container-id-2 div.sk-estimator {font-family: monospace;background-color: #f0f8ff;border: 1px dotted black;border-radius: 0.25em;box-sizing: border-box;margin-bottom: 0.5em;}#sk-container-id-2 div.sk-estimator:hover {background-color: #d4ebff;}#sk-container-id-2 div.sk-parallel-item::after {content: \"\";width: 100%;border-bottom: 1px solid gray;flex-grow: 1;}#sk-container-id-2 div.sk-label:hover label.sk-toggleable__label {background-color: #d4ebff;}#sk-container-id-2 div.sk-serial::before {content: \"\";position: absolute;border-left: 1px solid gray;box-sizing: border-box;top: 0;bottom: 0;left: 50%;z-index: 0;}#sk-container-id-2 div.sk-serial {display: flex;flex-direction: column;align-items: center;background-color: white;padding-right: 0.2em;padding-left: 0.2em;position: relative;}#sk-container-id-2 div.sk-item {position: relative;z-index: 1;}#sk-container-id-2 div.sk-parallel {display: flex;align-items: stretch;justify-content: center;background-color: white;position: relative;}#sk-container-id-2 div.sk-item::before, #sk-container-id-2 div.sk-parallel-item::before {content: \"\";position: absolute;border-left: 1px solid gray;box-sizing: border-box;top: 0;bottom: 0;left: 50%;z-index: -1;}#sk-container-id-2 div.sk-parallel-item {display: flex;flex-direction: column;z-index: 1;position: relative;background-color: white;}#sk-container-id-2 div.sk-parallel-item:first-child::after {align-self: flex-end;width: 50%;}#sk-container-id-2 div.sk-parallel-item:last-child::after {align-self: flex-start;width: 50%;}#sk-container-id-2 div.sk-parallel-item:only-child::after {width: 0;}#sk-container-id-2 div.sk-dashed-wrapped {border: 1px dashed gray;margin: 0 0.4em 0.5em 0.4em;box-sizing: border-box;padding-bottom: 0.4em;background-color: white;}#sk-container-id-2 div.sk-label label {font-family: monospace;font-weight: bold;display: inline-block;line-height: 1.2em;}#sk-container-id-2 div.sk-label-container {text-align: center;}#sk-container-id-2 div.sk-container {/* jupyter's `normalize.less` sets `[hidden] { display: none; }` but bootstrap.min.css set `[hidden] { display: none !important; }` so we also need the `!important` here to be able to override the default hidden behavior on the sphinx rendered scikit-learn.org. See: https://github.com/scikit-learn/scikit-learn/issues/21755 */display: inline-block !important;position: relative;}#sk-container-id-2 div.sk-text-repr-fallback {display: none;}</style><div id=\"sk-container-id-2\" class=\"sk-top-container\"><div class=\"sk-text-repr-fallback\"><pre>CalibratedClassifierCV(cv=5,\n",
       "                       estimator=XGBClassifier(base_score=None, booster=None,\n",
       "                                               callbacks=None,\n",
       "                                               colsample_bylevel=None,\n",
       "                                               colsample_bynode=None,\n",
       "                                               colsample_bytree=0.6024713590870578,\n",
       "                                               device=None,\n",
       "                                               early_stopping_rounds=None,\n",
       "                                               enable_categorical=False,\n",
       "                                               eval_metric=&#x27;error&#x27;,\n",
       "                                               feature_types=None,\n",
       "                                               feature_weights=None, gamma=3,\n",
       "                                               grow_policy=None,\n",
       "                                               importance_type=None,\n",
       "                                               interaction_constraints=None,\n",
       "                                               learning_rate=0.2936557853809352,\n",
       "                                               max_bin=None,\n",
       "                                               max_cat_threshold=None,\n",
       "                                               max_cat_to_onehot=None,\n",
       "                                               max_delta_step=None, max_depth=4,\n",
       "                                               max_leaves=None,\n",
       "                                               min_child_weight=2, missing=nan,\n",
       "                                               monotone_constraints=None,\n",
       "                                               multi_strategy=None,\n",
       "                                               n_estimators=342, n_jobs=None,\n",
       "                                               num_parallel_tree=None, ...),\n",
       "                       method=&#x27;isotonic&#x27;)</pre><b>In a Jupyter environment, please rerun this cell to show the HTML representation or trust the notebook. <br />On GitHub, the HTML representation is unable to render, please try loading this page with nbviewer.org.</b></div><div class=\"sk-container\" hidden><div class=\"sk-item sk-dashed-wrapped\"><div class=\"sk-label-container\"><div class=\"sk-label sk-toggleable\"><input class=\"sk-toggleable__control sk-hidden--visually\" id=\"sk-estimator-id-2\" type=\"checkbox\" ><label for=\"sk-estimator-id-2\" class=\"sk-toggleable__label sk-toggleable__label-arrow\">CalibratedClassifierCV</label><div class=\"sk-toggleable__content\"><pre>CalibratedClassifierCV(cv=5,\n",
       "                       estimator=XGBClassifier(base_score=None, booster=None,\n",
       "                                               callbacks=None,\n",
       "                                               colsample_bylevel=None,\n",
       "                                               colsample_bynode=None,\n",
       "                                               colsample_bytree=0.6024713590870578,\n",
       "                                               device=None,\n",
       "                                               early_stopping_rounds=None,\n",
       "                                               enable_categorical=False,\n",
       "                                               eval_metric=&#x27;error&#x27;,\n",
       "                                               feature_types=None,\n",
       "                                               feature_weights=None, gamma=3,\n",
       "                                               grow_policy=None,\n",
       "                                               importance_type=None,\n",
       "                                               interaction_constraints=None,\n",
       "                                               learning_rate=0.2936557853809352,\n",
       "                                               max_bin=None,\n",
       "                                               max_cat_threshold=None,\n",
       "                                               max_cat_to_onehot=None,\n",
       "                                               max_delta_step=None, max_depth=4,\n",
       "                                               max_leaves=None,\n",
       "                                               min_child_weight=2, missing=nan,\n",
       "                                               monotone_constraints=None,\n",
       "                                               multi_strategy=None,\n",
       "                                               n_estimators=342, n_jobs=None,\n",
       "                                               num_parallel_tree=None, ...),\n",
       "                       method=&#x27;isotonic&#x27;)</pre></div></div></div><div class=\"sk-parallel\"><div class=\"sk-parallel-item\"><div class=\"sk-item\"><div class=\"sk-label-container\"><div class=\"sk-label sk-toggleable\"><input class=\"sk-toggleable__control sk-hidden--visually\" id=\"sk-estimator-id-3\" type=\"checkbox\" ><label for=\"sk-estimator-id-3\" class=\"sk-toggleable__label sk-toggleable__label-arrow\">estimator: XGBClassifier</label><div class=\"sk-toggleable__content\"><pre>XGBClassifier(base_score=None, booster=None, callbacks=None,\n",
       "              colsample_bylevel=None, colsample_bynode=None,\n",
       "              colsample_bytree=0.6024713590870578, device=None,\n",
       "              early_stopping_rounds=None, enable_categorical=False,\n",
       "              eval_metric=&#x27;error&#x27;, feature_types=None, feature_weights=None,\n",
       "              gamma=3, grow_policy=None, importance_type=None,\n",
       "              interaction_constraints=None, learning_rate=0.2936557853809352,\n",
       "              max_bin=None, max_cat_threshold=None, max_cat_to_onehot=None,\n",
       "              max_delta_step=None, max_depth=4, max_leaves=None,\n",
       "              min_child_weight=2, missing=nan, monotone_constraints=None,\n",
       "              multi_strategy=None, n_estimators=342, n_jobs=None,\n",
       "              num_parallel_tree=None, ...)</pre></div></div></div><div class=\"sk-serial\"><div class=\"sk-item\"><div class=\"sk-estimator sk-toggleable\"><input class=\"sk-toggleable__control sk-hidden--visually\" id=\"sk-estimator-id-4\" type=\"checkbox\" ><label for=\"sk-estimator-id-4\" class=\"sk-toggleable__label sk-toggleable__label-arrow\">XGBClassifier</label><div class=\"sk-toggleable__content\"><pre>XGBClassifier(base_score=None, booster=None, callbacks=None,\n",
       "              colsample_bylevel=None, colsample_bynode=None,\n",
       "              colsample_bytree=0.6024713590870578, device=None,\n",
       "              early_stopping_rounds=None, enable_categorical=False,\n",
       "              eval_metric=&#x27;error&#x27;, feature_types=None, feature_weights=None,\n",
       "              gamma=3, grow_policy=None, importance_type=None,\n",
       "              interaction_constraints=None, learning_rate=0.2936557853809352,\n",
       "              max_bin=None, max_cat_threshold=None, max_cat_to_onehot=None,\n",
       "              max_delta_step=None, max_depth=4, max_leaves=None,\n",
       "              min_child_weight=2, missing=nan, monotone_constraints=None,\n",
       "              multi_strategy=None, n_estimators=342, n_jobs=None,\n",
       "              num_parallel_tree=None, ...)</pre></div></div></div></div></div></div></div></div></div></div>"
      ],
      "text/plain": [
       "CalibratedClassifierCV(cv=5,\n",
       "                       estimator=XGBClassifier(base_score=None, booster=None,\n",
       "                                               callbacks=None,\n",
       "                                               colsample_bylevel=None,\n",
       "                                               colsample_bynode=None,\n",
       "                                               colsample_bytree=0.6024713590870578,\n",
       "                                               device=None,\n",
       "                                               early_stopping_rounds=None,\n",
       "                                               enable_categorical=False,\n",
       "                                               eval_metric='error',\n",
       "                                               feature_types=None,\n",
       "                                               feature_weights=None, gamma=3,\n",
       "                                               grow_policy=None,\n",
       "                                               importance_type=None,\n",
       "                                               interaction_constraints=None,\n",
       "                                               learning_rate=0.2936557853809352,\n",
       "                                               max_bin=None,\n",
       "                                               max_cat_threshold=None,\n",
       "                                               max_cat_to_onehot=None,\n",
       "                                               max_delta_step=None, max_depth=4,\n",
       "                                               max_leaves=None,\n",
       "                                               min_child_weight=2, missing=nan,\n",
       "                                               monotone_constraints=None,\n",
       "                                               multi_strategy=None,\n",
       "                                               n_estimators=342, n_jobs=None,\n",
       "                                               num_parallel_tree=None, ...),\n",
       "                       method='isotonic')"
      ]
     },
     "execution_count": 11,
     "metadata": {},
     "output_type": "execute_result"
    }
   ],
   "source": [
    "# Isotonic calibration pipeline\n",
    "calibrated_model_isotonic = CalibratedClassifierCV(estimator=model_tuned_, method='isotonic', cv=5)\n",
    "calibrated_model_isotonic.fit(df_train[all_features[:-1]], df_train.Diagnosis)"
   ]
  },
  {
   "cell_type": "code",
   "execution_count": 13,
   "id": "8952268f-5c0e-4b9b-ad3a-cb3d89f9fa10",
   "metadata": {},
   "outputs": [
    {
     "data": {
      "text/html": [
       "<div>\n",
       "<style scoped>\n",
       "    .dataframe tbody tr th:only-of-type {\n",
       "        vertical-align: middle;\n",
       "    }\n",
       "\n",
       "    .dataframe tbody tr th {\n",
       "        vertical-align: top;\n",
       "    }\n",
       "\n",
       "    .dataframe thead th {\n",
       "        text-align: right;\n",
       "    }\n",
       "</style>\n",
       "<table border=\"1\" class=\"dataframe\">\n",
       "  <thead>\n",
       "    <tr style=\"text-align: right;\">\n",
       "      <th></th>\n",
       "      <th>Diagnosis</th>\n",
       "      <th>alzheimers_risk</th>\n",
       "    </tr>\n",
       "  </thead>\n",
       "  <tbody>\n",
       "    <tr>\n",
       "      <th>1684</th>\n",
       "      <td>1</td>\n",
       "      <td>0.027583</td>\n",
       "    </tr>\n",
       "    <tr>\n",
       "      <th>1323</th>\n",
       "      <td>1</td>\n",
       "      <td>0.806522</td>\n",
       "    </tr>\n",
       "    <tr>\n",
       "      <th>157</th>\n",
       "      <td>0</td>\n",
       "      <td>0.032324</td>\n",
       "    </tr>\n",
       "    <tr>\n",
       "      <th>863</th>\n",
       "      <td>1</td>\n",
       "      <td>0.766112</td>\n",
       "    </tr>\n",
       "    <tr>\n",
       "      <th>975</th>\n",
       "      <td>1</td>\n",
       "      <td>0.961542</td>\n",
       "    </tr>\n",
       "  </tbody>\n",
       "</table>\n",
       "</div>"
      ],
      "text/plain": [
       "      Diagnosis  alzheimers_risk\n",
       "1684          1         0.027583\n",
       "1323          1         0.806522\n",
       "157           0         0.032324\n",
       "863           1         0.766112\n",
       "975           1         0.961542"
      ]
     },
     "execution_count": 13,
     "metadata": {},
     "output_type": "execute_result"
    }
   ],
   "source": [
    "# Predict calibrated probabilities on the test set\n",
    "calibrated_probs_isotonic = calibrated_model_isotonic.predict_proba(df_test[all_features[:-1]])[:, 1]  # Probability of class 1 (Alzheimer’s)\n",
    "\n",
    "# Add to test dataframe for inspection\n",
    "df_test['alzheimers_risk'] = calibrated_probs_isotonic\n",
    "df_test[['Diagnosis', 'alzheimers_risk']].head()"
   ]
  },
  {
   "cell_type": "code",
   "execution_count": 15,
   "id": "b8318b4e-da21-4097-9e2a-e1b809d997f4",
   "metadata": {},
   "outputs": [],
   "source": [
    "def assign_risk_group(prob):\n",
    "    if prob < 0.33:\n",
    "        return 'Low'\n",
    "    elif prob < 0.66:\n",
    "        return 'Medium'\n",
    "    else:\n",
    "        return 'High'"
   ]
  },
  {
   "cell_type": "code",
   "execution_count": 17,
   "id": "df5bb9c4-3f6c-4edd-b8d3-56ab7e86a898",
   "metadata": {},
   "outputs": [
    {
     "data": {
      "text/html": [
       "<div>\n",
       "<style scoped>\n",
       "    .dataframe tbody tr th:only-of-type {\n",
       "        vertical-align: middle;\n",
       "    }\n",
       "\n",
       "    .dataframe tbody tr th {\n",
       "        vertical-align: top;\n",
       "    }\n",
       "\n",
       "    .dataframe thead th {\n",
       "        text-align: right;\n",
       "    }\n",
       "</style>\n",
       "<table border=\"1\" class=\"dataframe\">\n",
       "  <thead>\n",
       "    <tr style=\"text-align: right;\">\n",
       "      <th></th>\n",
       "      <th>Diagnosis</th>\n",
       "      <th>alzheimers_risk</th>\n",
       "      <th>risk_group</th>\n",
       "    </tr>\n",
       "  </thead>\n",
       "  <tbody>\n",
       "    <tr>\n",
       "      <th>1684</th>\n",
       "      <td>1</td>\n",
       "      <td>0.027583</td>\n",
       "      <td>Low</td>\n",
       "    </tr>\n",
       "    <tr>\n",
       "      <th>1323</th>\n",
       "      <td>1</td>\n",
       "      <td>0.806522</td>\n",
       "      <td>High</td>\n",
       "    </tr>\n",
       "    <tr>\n",
       "      <th>157</th>\n",
       "      <td>0</td>\n",
       "      <td>0.032324</td>\n",
       "      <td>Low</td>\n",
       "    </tr>\n",
       "    <tr>\n",
       "      <th>863</th>\n",
       "      <td>1</td>\n",
       "      <td>0.766112</td>\n",
       "      <td>High</td>\n",
       "    </tr>\n",
       "    <tr>\n",
       "      <th>975</th>\n",
       "      <td>1</td>\n",
       "      <td>0.961542</td>\n",
       "      <td>High</td>\n",
       "    </tr>\n",
       "  </tbody>\n",
       "</table>\n",
       "</div>"
      ],
      "text/plain": [
       "      Diagnosis  alzheimers_risk risk_group\n",
       "1684          1         0.027583        Low\n",
       "1323          1         0.806522       High\n",
       "157           0         0.032324        Low\n",
       "863           1         0.766112       High\n",
       "975           1         0.961542       High"
      ]
     },
     "execution_count": 17,
     "metadata": {},
     "output_type": "execute_result"
    }
   ],
   "source": [
    "# Apply to the test set\n",
    "df_test['risk_group'] = df_test['alzheimers_risk'].apply(assign_risk_group)\n",
    "df_test[['Diagnosis', 'alzheimers_risk', 'risk_group']].head()"
   ]
  },
  {
   "cell_type": "code",
   "execution_count": 20,
   "id": "f6660626-456d-40c0-831a-72e5663058e9",
   "metadata": {},
   "outputs": [],
   "source": [
    "important_features = ['MMSE', 'FunctionalAssessment', 'ADL', 'BehavioralProblems']"
   ]
  },
  {
   "cell_type": "markdown",
   "id": "d23e5872-aca8-435f-bf93-7b8bbe8c9ed5",
   "metadata": {},
   "source": [
    "Of these, only BehavioralProblems is a binary feature."
   ]
  },
  {
   "cell_type": "markdown",
   "id": "f5ae913f-d6a6-4d55-8882-3bbb1666ccb2",
   "metadata": {},
   "source": [
    "## Behavioral Problems"
   ]
  },
  {
   "cell_type": "code",
   "execution_count": 24,
   "id": "03356200-e01c-4a27-9a67-ed16f38740cc",
   "metadata": {},
   "outputs": [
    {
     "name": "stdout",
     "output_type": "stream",
     "text": [
      "\n",
      "--- Conditional Alzheimer’s Probability: BehavioralProblems ---\n"
     ]
    },
    {
     "data": {
      "text/html": [
       "<div>\n",
       "<style scoped>\n",
       "    .dataframe tbody tr th:only-of-type {\n",
       "        vertical-align: middle;\n",
       "    }\n",
       "\n",
       "    .dataframe tbody tr th {\n",
       "        vertical-align: top;\n",
       "    }\n",
       "\n",
       "    .dataframe thead th {\n",
       "        text-align: right;\n",
       "    }\n",
       "</style>\n",
       "<table border=\"1\" class=\"dataframe\">\n",
       "  <thead>\n",
       "    <tr style=\"text-align: right;\">\n",
       "      <th>Diagnosis</th>\n",
       "      <th>0</th>\n",
       "      <th>1</th>\n",
       "    </tr>\n",
       "    <tr>\n",
       "      <th>BehavioralProblems</th>\n",
       "      <th></th>\n",
       "      <th></th>\n",
       "    </tr>\n",
       "  </thead>\n",
       "  <tbody>\n",
       "    <tr>\n",
       "      <th>0</th>\n",
       "      <td>0.769</td>\n",
       "      <td>0.231</td>\n",
       "    </tr>\n",
       "    <tr>\n",
       "      <th>1</th>\n",
       "      <td>0.410</td>\n",
       "      <td>0.590</td>\n",
       "    </tr>\n",
       "  </tbody>\n",
       "</table>\n",
       "</div>"
      ],
      "text/plain": [
       "Diagnosis               0      1\n",
       "BehavioralProblems              \n",
       "0                   0.769  0.231\n",
       "1                   0.410  0.590"
      ]
     },
     "metadata": {},
     "output_type": "display_data"
    }
   ],
   "source": [
    "# Using empirical proportions (frequencies) of actual diagnosis outcomes within each group of the binary feature\n",
    "\n",
    "binary_features = ['BehavioralProblems']\n",
    "\n",
    "for feature in binary_features:\n",
    "    print(f\"\\n--- Conditional Alzheimer’s Probability: {feature} ---\")\n",
    "    display(pd.crosstab(df_test[feature], df_test['Diagnosis'], normalize='index').round(3))"
   ]
  },
  {
   "cell_type": "markdown",
   "id": "dd14314a-bbc2-4684-b4de-77ab27465b1a",
   "metadata": {},
   "source": [
    "**Interpretation:** The above tables show $P(\\text{Diagnosis}|\\text{BehavioralProblems})$.\n",
    "\n",
    "- Patients who report behavioral problems have more than double the Alzheimer’s risk (59.0%) compared to those who don’t (23.1%). This aligns strongly with clinical expectations — behavioral problems are often one of the early indicators for patients with no memory complaints."
   ]
  },
  {
   "cell_type": "code",
   "execution_count": 27,
   "id": "59c069fd-3d65-4135-bbd0-ec6d496f05cd",
   "metadata": {},
   "outputs": [
    {
     "name": "stdout",
     "output_type": "stream",
     "text": [
      "\n",
      "--- Average Calibrated Risk by BehavioralProblems ---\n"
     ]
    },
    {
     "data": {
      "text/plain": [
       "BehavioralProblems\n",
       "0    0.229\n",
       "1    0.532\n",
       "Name: alzheimers_risk, dtype: float64"
      ]
     },
     "metadata": {},
     "output_type": "display_data"
    }
   ],
   "source": [
    "# Using calibrated risk of Alzheimer's\n",
    "\n",
    "for feature in binary_features:\n",
    "    print(f\"\\n--- Average Calibrated Risk by {feature} ---\")\n",
    "    display(df_test.groupby(feature)['alzheimers_risk'].mean().round(3))"
   ]
  },
  {
   "cell_type": "markdown",
   "id": "30ae703d-8f7c-47e4-b96d-b390c4881334",
   "metadata": {},
   "source": [
    "**Interpretation:** The above tables show $\\mathbb{E}[\\text{Modeled Risk of Alzheimer's}|\\text{BehavioralProblems}]$.\n",
    "\n",
    "- Our calibrated model gives an expected Alzheimer's risk of 53.2% for patients who report behavioral problems, which is again more than twice as compared to those who don’t (22.9%). \n",
    "\n",
    "The results are fairly close to the ones observed using frequentist proportions. This shows that our calibrated model is well-aligned with the empirical truth, which is desirable in medical contexts like Alzheimer's early detection.\n"
   ]
  },
  {
   "cell_type": "code",
   "execution_count": 30,
   "id": "10188554-7d6f-401f-bd9c-6f764bf9c72a",
   "metadata": {},
   "outputs": [
    {
     "name": "stderr",
     "output_type": "stream",
     "text": [
      "/var/folders/8l/7v02b0mj1798rggrw61wc88m0000gn/T/ipykernel_34425/316344594.py:3: FutureWarning: \n",
      "\n",
      "Passing `palette` without assigning `hue` is deprecated and will be removed in v0.14.0. Assign the `x` variable to `hue` and set `legend=False` for the same effect.\n",
      "\n",
      "  sns.barplot(\n"
     ]
    },
    {
     "data": {
      "image/png": "[encoded data removed]",
      "text/plain": [
       "<Figure size 500x400 with 1 Axes>"
      ]
     },
     "metadata": {},
     "output_type": "display_data"
    }
   ],
   "source": [
    "for feature in binary_features:\n",
    "    plt.figure(figsize=(5, 4))\n",
    "    sns.barplot(\n",
    "        data=df_test,\n",
    "        x=feature,\n",
    "        y='alzheimers_risk',\n",
    "        estimator='mean',\n",
    "        errorbar=None,\n",
    "        palette='viridis'\n",
    "    )\n",
    "    plt.title(f'Average Calibrated Risk by {feature}')\n",
    "    plt.xlabel(f'{feature} (0 = Absent, 1 = Present)')\n",
    "    plt.ylabel('Mean Predicted Alzheimer’s Risk')\n",
    "    plt.ylim(0, 1)\n",
    "    plt.xticks([0, 1], ['Absent', 'Present'])\n",
    "    plt.grid(True, linestyle='--', alpha=0.6)\n",
    "    plt.tight_layout()\n",
    "    plt.show()"
   ]
  },
  {
   "cell_type": "markdown",
   "id": "4b8cbc4e-25fa-4cd7-9837-01313095d24f",
   "metadata": {},
   "source": [
    "## Continuous Features"
   ]
  },
  {
   "cell_type": "code",
   "execution_count": 32,
   "id": "4eea8c04-d1b2-4f42-9ad7-60566ff1b36f",
   "metadata": {},
   "outputs": [
    {
     "name": "stdout",
     "output_type": "stream",
     "text": [
      "\n",
      "📊 MMSE — Empirical vs Calibrated Risk\n"
     ]
    },
    {
     "name": "stderr",
     "output_type": "stream",
     "text": [
      "/var/folders/8l/7v02b0mj1798rggrw61wc88m0000gn/T/ipykernel_34425/1488104045.py:23: FutureWarning: The default of observed=False is deprecated and will be changed to True in a future version of pandas. Pass observed=False to retain current behavior or observed=True to adopt the future default and silence this warning.\n",
      "  model = df_test.groupby(bin_col)['alzheimers_risk'].mean().rename('Model')\n"
     ]
    },
    {
     "data": {
      "text/html": [
       "<div>\n",
       "<style scoped>\n",
       "    .dataframe tbody tr th:only-of-type {\n",
       "        vertical-align: middle;\n",
       "    }\n",
       "\n",
       "    .dataframe tbody tr th {\n",
       "        vertical-align: top;\n",
       "    }\n",
       "\n",
       "    .dataframe thead th {\n",
       "        text-align: right;\n",
       "    }\n",
       "</style>\n",
       "<table border=\"1\" class=\"dataframe\">\n",
       "  <thead>\n",
       "    <tr style=\"text-align: right;\">\n",
       "      <th></th>\n",
       "      <th>Empirical</th>\n",
       "      <th>Model</th>\n",
       "    </tr>\n",
       "    <tr>\n",
       "      <th>MMSE_bin</th>\n",
       "      <th></th>\n",
       "      <th></th>\n",
       "    </tr>\n",
       "  </thead>\n",
       "  <tbody>\n",
       "    <tr>\n",
       "      <th>Low</th>\n",
       "      <td>0.352</td>\n",
       "      <td>0.331</td>\n",
       "    </tr>\n",
       "    <tr>\n",
       "      <th>Medium</th>\n",
       "      <td>0.341</td>\n",
       "      <td>0.344</td>\n",
       "    </tr>\n",
       "    <tr>\n",
       "      <th>High</th>\n",
       "      <td>0.154</td>\n",
       "      <td>0.142</td>\n",
       "    </tr>\n",
       "  </tbody>\n",
       "</table>\n",
       "</div>"
      ],
      "text/plain": [
       "          Empirical  Model\n",
       "MMSE_bin                  \n",
       "Low           0.352  0.331\n",
       "Medium        0.341  0.344\n",
       "High          0.154  0.142"
      ]
     },
     "metadata": {},
     "output_type": "display_data"
    },
    {
     "name": "stdout",
     "output_type": "stream",
     "text": [
      "\n",
      "📊 FunctionalAssessment — Empirical vs Calibrated Risk\n"
     ]
    },
    {
     "name": "stderr",
     "output_type": "stream",
     "text": [
      "/var/folders/8l/7v02b0mj1798rggrw61wc88m0000gn/T/ipykernel_34425/1488104045.py:23: FutureWarning: The default of observed=False is deprecated and will be changed to True in a future version of pandas. Pass observed=False to retain current behavior or observed=True to adopt the future default and silence this warning.\n",
      "  model = df_test.groupby(bin_col)['alzheimers_risk'].mean().rename('Model')\n"
     ]
    },
    {
     "data": {
      "text/html": [
       "<div>\n",
       "<style scoped>\n",
       "    .dataframe tbody tr th:only-of-type {\n",
       "        vertical-align: middle;\n",
       "    }\n",
       "\n",
       "    .dataframe tbody tr th {\n",
       "        vertical-align: top;\n",
       "    }\n",
       "\n",
       "    .dataframe thead th {\n",
       "        text-align: right;\n",
       "    }\n",
       "</style>\n",
       "<table border=\"1\" class=\"dataframe\">\n",
       "  <thead>\n",
       "    <tr style=\"text-align: right;\">\n",
       "      <th></th>\n",
       "      <th>Empirical</th>\n",
       "      <th>Model</th>\n",
       "    </tr>\n",
       "    <tr>\n",
       "      <th>FA_bin</th>\n",
       "      <th></th>\n",
       "      <th></th>\n",
       "    </tr>\n",
       "  </thead>\n",
       "  <tbody>\n",
       "    <tr>\n",
       "      <th>Low</th>\n",
       "      <td>0.527</td>\n",
       "      <td>0.524</td>\n",
       "    </tr>\n",
       "    <tr>\n",
       "      <th>Medium</th>\n",
       "      <td>0.242</td>\n",
       "      <td>0.224</td>\n",
       "    </tr>\n",
       "    <tr>\n",
       "      <th>High</th>\n",
       "      <td>0.077</td>\n",
       "      <td>0.070</td>\n",
       "    </tr>\n",
       "  </tbody>\n",
       "</table>\n",
       "</div>"
      ],
      "text/plain": [
       "        Empirical  Model\n",
       "FA_bin                  \n",
       "Low         0.527  0.524\n",
       "Medium      0.242  0.224\n",
       "High        0.077  0.070"
      ]
     },
     "metadata": {},
     "output_type": "display_data"
    },
    {
     "name": "stdout",
     "output_type": "stream",
     "text": [
      "\n",
      "📊 ADL — Empirical vs Calibrated Risk\n"
     ]
    },
    {
     "name": "stderr",
     "output_type": "stream",
     "text": [
      "/var/folders/8l/7v02b0mj1798rggrw61wc88m0000gn/T/ipykernel_34425/1488104045.py:23: FutureWarning: The default of observed=False is deprecated and will be changed to True in a future version of pandas. Pass observed=False to retain current behavior or observed=True to adopt the future default and silence this warning.\n",
      "  model = df_test.groupby(bin_col)['alzheimers_risk'].mean().rename('Model')\n"
     ]
    },
    {
     "data": {
      "text/html": [
       "<div>\n",
       "<style scoped>\n",
       "    .dataframe tbody tr th:only-of-type {\n",
       "        vertical-align: middle;\n",
       "    }\n",
       "\n",
       "    .dataframe tbody tr th {\n",
       "        vertical-align: top;\n",
       "    }\n",
       "\n",
       "    .dataframe thead th {\n",
       "        text-align: right;\n",
       "    }\n",
       "</style>\n",
       "<table border=\"1\" class=\"dataframe\">\n",
       "  <thead>\n",
       "    <tr style=\"text-align: right;\">\n",
       "      <th></th>\n",
       "      <th>Empirical</th>\n",
       "      <th>Model</th>\n",
       "    </tr>\n",
       "    <tr>\n",
       "      <th>ADL_bin</th>\n",
       "      <th></th>\n",
       "      <th></th>\n",
       "    </tr>\n",
       "  </thead>\n",
       "  <tbody>\n",
       "    <tr>\n",
       "      <th>Low</th>\n",
       "      <td>0.451</td>\n",
       "      <td>0.453</td>\n",
       "    </tr>\n",
       "    <tr>\n",
       "      <th>Medium</th>\n",
       "      <td>0.286</td>\n",
       "      <td>0.273</td>\n",
       "    </tr>\n",
       "    <tr>\n",
       "      <th>High</th>\n",
       "      <td>0.110</td>\n",
       "      <td>0.091</td>\n",
       "    </tr>\n",
       "  </tbody>\n",
       "</table>\n",
       "</div>"
      ],
      "text/plain": [
       "         Empirical  Model\n",
       "ADL_bin                  \n",
       "Low          0.451  0.453\n",
       "Medium       0.286  0.273\n",
       "High         0.110  0.091"
      ]
     },
     "metadata": {},
     "output_type": "display_data"
    },
    {
     "name": "stdout",
     "output_type": "stream",
     "text": [
      "\n",
      "📊 SystolicBP — Empirical vs Calibrated Risk\n"
     ]
    },
    {
     "name": "stderr",
     "output_type": "stream",
     "text": [
      "/var/folders/8l/7v02b0mj1798rggrw61wc88m0000gn/T/ipykernel_34425/1488104045.py:23: FutureWarning: The default of observed=False is deprecated and will be changed to True in a future version of pandas. Pass observed=False to retain current behavior or observed=True to adopt the future default and silence this warning.\n",
      "  model = df_test.groupby(bin_col)['alzheimers_risk'].mean().rename('Model')\n"
     ]
    },
    {
     "data": {
      "text/html": [
       "<div>\n",
       "<style scoped>\n",
       "    .dataframe tbody tr th:only-of-type {\n",
       "        vertical-align: middle;\n",
       "    }\n",
       "\n",
       "    .dataframe tbody tr th {\n",
       "        vertical-align: top;\n",
       "    }\n",
       "\n",
       "    .dataframe thead th {\n",
       "        text-align: right;\n",
       "    }\n",
       "</style>\n",
       "<table border=\"1\" class=\"dataframe\">\n",
       "  <thead>\n",
       "    <tr style=\"text-align: right;\">\n",
       "      <th></th>\n",
       "      <th>Empirical</th>\n",
       "      <th>Model</th>\n",
       "    </tr>\n",
       "    <tr>\n",
       "      <th>SystolicBP_bin</th>\n",
       "      <th></th>\n",
       "      <th></th>\n",
       "    </tr>\n",
       "  </thead>\n",
       "  <tbody>\n",
       "    <tr>\n",
       "      <th>Low</th>\n",
       "      <td>0.261</td>\n",
       "      <td>0.259</td>\n",
       "    </tr>\n",
       "    <tr>\n",
       "      <th>Medium</th>\n",
       "      <td>0.256</td>\n",
       "      <td>0.243</td>\n",
       "    </tr>\n",
       "    <tr>\n",
       "      <th>High</th>\n",
       "      <td>0.330</td>\n",
       "      <td>0.315</td>\n",
       "    </tr>\n",
       "  </tbody>\n",
       "</table>\n",
       "</div>"
      ],
      "text/plain": [
       "                Empirical  Model\n",
       "SystolicBP_bin                  \n",
       "Low                 0.261  0.259\n",
       "Medium              0.256  0.243\n",
       "High                0.330  0.315"
      ]
     },
     "metadata": {},
     "output_type": "display_data"
    }
   ],
   "source": [
    "# Define binned columns\n",
    "binned_features = {\n",
    "    'MMSE': 'MMSE_bin',\n",
    "    'FunctionalAssessment': 'FA_bin',\n",
    "    'ADL': 'ADL_bin',\n",
    "    'SystolicBP': 'SystolicBP_bin'\n",
    "}\n",
    "\n",
    "# Create quantile-based bins\n",
    "df_test['MMSE_bin'] = pd.qcut(df_test['MMSE'], q=3, labels=['Low', 'Medium', 'High'])\n",
    "df_test['FA_bin'] = pd.qcut(df_test['FunctionalAssessment'], q=3, labels=['Low', 'Medium', 'High'])\n",
    "df_test['ADL_bin'] = pd.qcut(df_test['ADL'], q=3, labels=['Low', 'Medium', 'High'])\n",
    "df_test['SystolicBP_bin'] = pd.qcut(df_test['SystolicBP'], q=3, labels=['Low', 'Medium', 'High'])\n",
    "\n",
    "# Loop through features and show both empirical and model-based risk\n",
    "for feature, bin_col in binned_features.items():\n",
    "    print(f\"\\n📊 {feature} — Empirical vs Calibrated Risk\")\n",
    "    \n",
    "    # Empirical: observed diagnosis proportion (Diagnosis = 1)\n",
    "    empirical = pd.crosstab(df_test[bin_col], df_test['Diagnosis'], normalize='index')[1].rename('Empirical')\n",
    "    \n",
    "    # Model-based: mean predicted risk\n",
    "    model = df_test.groupby(bin_col)['alzheimers_risk'].mean().rename('Model')\n",
    "\n",
    "    comparison = pd.concat([empirical, model], axis=1).round(3)\n",
    "    display(comparison)"
   ]
  },
  {
   "cell_type": "markdown",
   "id": "4d259044-45fb-4247-82af-decb5f2ce39c",
   "metadata": {},
   "source": [
    "**Interpretation for the effect of MMSE (Mini-Mental State Examination) on Alzheimer's risk:**\n",
    "\n",
    "- Patients in the High MMSE group (i.e., higher cognitive function) have the lowest Alzheimer’s risk both empirically and by the model — as expected.\n",
    "- The model is extremely well-calibrated here. It not only matches the pattern, but also the exact risk levels almost perfectly.\n",
    " \n",
    "**Interpretation for the effect of Functional Assessment on Alzheimer's risk:**\n",
    "\n",
    "- Strong, clear decreasing trend — lower FA (i.e., more impairment) → higher Alzheimer’s risk.\n",
    "- Here too, the model is extremely well-calibrated. \n",
    "- Suggests FA is a robust and reliable predictor in our model and in real-world patient data.\n",
    "\n",
    "**Interpretation for the effect of ADL (Activities of Daily Living) on Alzheimer's risk:**\n",
    "\n",
    "- Again, a clear inverse relationship — more difficulty with daily tasks (lower ADL score) → higher risk of Alzheimer’s.\n",
    "- Model risk aligns nearly identically with empirical risk.\n",
    "- Confirms that functional independence is a strong marker of cognitive decline in this population.\n",
    "\n",
    "**Interpretation for the effect of SystolicBP on Alzheimer's risk:**\n",
    "\n",
    "- Unlike MMSE, FA, or ADL, this doesn’t show a strong monotonic trend.\n",
    "- High SystolicBP levels are associated with the highest Alzheimer’s risk, both empirically and in model predictions, but the risk doesn't vary significantly from the other two groups (Low SystolicBP and Medium SystolicBP).\n",
    "- The model captures the general shape of the trend, though with slightly less separation between bins than in the empirical data.\n",
    "\n",
    "This is not surprising, as SystolicBP was the least important feature among the features we considered for patients witth no memory complaints."
   ]
  },
  {
   "cell_type": "code",
   "execution_count": 35,
   "id": "5a6fb34f-1214-40f3-91fc-c7e047112a08",
   "metadata": {},
   "outputs": [
    {
     "name": "stdout",
     "output_type": "stream",
     "text": [
      "\n",
      "MMSE_bin value counts:\n",
      "MMSE_bin\n",
      "Low       91\n",
      "Medium    91\n",
      "High      91\n",
      "Name: count, dtype: int64\n",
      "\n",
      "FA_bin value counts:\n",
      "FA_bin\n",
      "Low       91\n",
      "Medium    91\n",
      "High      91\n",
      "Name: count, dtype: int64\n",
      "\n",
      "ADL_bin value counts:\n",
      "ADL_bin\n",
      "Low       91\n",
      "Medium    91\n",
      "High      91\n",
      "Name: count, dtype: int64\n",
      "\n",
      "SystolicBP_bin value counts:\n",
      "SystolicBP_bin\n",
      "Low       92\n",
      "High      91\n",
      "Medium    90\n",
      "Name: count, dtype: int64\n"
     ]
    }
   ],
   "source": [
    "# Check if the bins are balanced\n",
    "\n",
    "for col in ['MMSE_bin', 'FA_bin', 'ADL_bin', 'SystolicBP_bin']:\n",
    "    print(f\"\\n{col} value counts:\")\n",
    "    print(df_test[col].value_counts(dropna=False))"
   ]
  },
  {
   "cell_type": "markdown",
   "id": "6c99d7c8-06a7-465d-bc84-510a54279603",
   "metadata": {},
   "source": [
    "## Compare averages of features across risk groups"
   ]
  },
  {
   "cell_type": "code",
   "execution_count": 49,
   "id": "c1520b68-373f-4d6a-b28b-286aefe4987d",
   "metadata": {},
   "outputs": [
    {
     "data": {
      "text/html": [
       "<div>\n",
       "<style scoped>\n",
       "    .dataframe tbody tr th:only-of-type {\n",
       "        vertical-align: middle;\n",
       "    }\n",
       "\n",
       "    .dataframe tbody tr th {\n",
       "        vertical-align: top;\n",
       "    }\n",
       "\n",
       "    .dataframe thead th {\n",
       "        text-align: right;\n",
       "    }\n",
       "</style>\n",
       "<table border=\"1\" class=\"dataframe\">\n",
       "  <thead>\n",
       "    <tr style=\"text-align: right;\">\n",
       "      <th></th>\n",
       "      <th>MMSE</th>\n",
       "      <th>FunctionalAssessment</th>\n",
       "      <th>ADL</th>\n",
       "    </tr>\n",
       "    <tr>\n",
       "      <th>risk_group</th>\n",
       "      <th></th>\n",
       "      <th></th>\n",
       "      <th></th>\n",
       "    </tr>\n",
       "  </thead>\n",
       "  <tbody>\n",
       "    <tr>\n",
       "      <th>High</th>\n",
       "      <td>10.70</td>\n",
       "      <td>2.77</td>\n",
       "      <td>3.27</td>\n",
       "    </tr>\n",
       "    <tr>\n",
       "      <th>Low</th>\n",
       "      <td>15.32</td>\n",
       "      <td>5.62</td>\n",
       "      <td>5.66</td>\n",
       "    </tr>\n",
       "    <tr>\n",
       "      <th>Medium</th>\n",
       "      <td>16.35</td>\n",
       "      <td>4.96</td>\n",
       "      <td>1.58</td>\n",
       "    </tr>\n",
       "  </tbody>\n",
       "</table>\n",
       "</div>"
      ],
      "text/plain": [
       "             MMSE  FunctionalAssessment   ADL\n",
       "risk_group                                   \n",
       "High        10.70                  2.77  3.27\n",
       "Low         15.32                  5.62  5.66\n",
       "Medium      16.35                  4.96  1.58"
      ]
     },
     "execution_count": 49,
     "metadata": {},
     "output_type": "execute_result"
    }
   ],
   "source": [
    "df_test.groupby('risk_group')[['MMSE', 'FunctionalAssessment', 'ADL']].mean().round(2)"
   ]
  },
  {
   "cell_type": "code",
   "execution_count": 51,
   "id": "d3208291-3996-43bb-91eb-9f911ca9d72e",
   "metadata": {},
   "outputs": [
    {
     "data": {
      "text/html": [
       "<div>\n",
       "<style scoped>\n",
       "    .dataframe tbody tr th:only-of-type {\n",
       "        vertical-align: middle;\n",
       "    }\n",
       "\n",
       "    .dataframe tbody tr th {\n",
       "        vertical-align: top;\n",
       "    }\n",
       "\n",
       "    .dataframe thead th {\n",
       "        text-align: right;\n",
       "    }\n",
       "</style>\n",
       "<table border=\"1\" class=\"dataframe\">\n",
       "  <thead>\n",
       "    <tr style=\"text-align: right;\">\n",
       "      <th></th>\n",
       "      <th>BehavioralProblems</th>\n",
       "    </tr>\n",
       "    <tr>\n",
       "      <th>risk_group</th>\n",
       "      <th></th>\n",
       "    </tr>\n",
       "  </thead>\n",
       "  <tbody>\n",
       "    <tr>\n",
       "      <th>High</th>\n",
       "      <td>0.32</td>\n",
       "    </tr>\n",
       "    <tr>\n",
       "      <th>Low</th>\n",
       "      <td>0.08</td>\n",
       "    </tr>\n",
       "    <tr>\n",
       "      <th>Medium</th>\n",
       "      <td>0.00</td>\n",
       "    </tr>\n",
       "  </tbody>\n",
       "</table>\n",
       "</div>"
      ],
      "text/plain": [
       "            BehavioralProblems\n",
       "risk_group                    \n",
       "High                      0.32\n",
       "Low                       0.08\n",
       "Medium                    0.00"
      ]
     },
     "execution_count": 51,
     "metadata": {},
     "output_type": "execute_result"
    }
   ],
   "source": [
    "df_test.groupby('risk_group')[['BehavioralProblems']].mean().round(2)"
   ]
  },
  {
   "cell_type": "markdown",
   "id": "451ee065-8de0-4aef-8d5f-df2484802917",
   "metadata": {},
   "source": [
    "## Hidden High-Risk Patients"
   ]
  },
  {
   "cell_type": "code",
   "execution_count": 53,
   "id": "f4293daf-08d9-4154-9b0c-3b27640e806a",
   "metadata": {},
   "outputs": [
    {
     "data": {
      "text/plain": [
       "(4, 39)"
      ]
     },
     "execution_count": 53,
     "metadata": {},
     "output_type": "execute_result"
    }
   ],
   "source": [
    "# Find patients who were not diagnosed with Alzheimer’s, but have high predicted risk\n",
    "high_risk_undiagnosed = df_test[(df_test['Diagnosis'] == 0) & (df_test['alzheimers_risk'] > 0.66)]\n",
    "high_risk_undiagnosed.shape"
   ]
  },
  {
   "cell_type": "code",
   "execution_count": 55,
   "id": "7c10ffbf-44e9-4644-a968-33dbfac6465d",
   "metadata": {},
   "outputs": [
    {
     "data": {
      "text/plain": [
       "(273, 39)"
      ]
     },
     "execution_count": 55,
     "metadata": {},
     "output_type": "execute_result"
    }
   ],
   "source": [
    "df_test.shape"
   ]
  },
  {
   "cell_type": "markdown",
   "id": "6532f5c6-d541-43c6-a3e1-365cdcd8c423",
   "metadata": {},
   "source": [
    "**Note:** 4 individuals out of 273 in the test set have not been diagnosed with Alzheimer’s (Diagnosis = 0), but have high model-predicted risk (alzheimers_risk > 0.66).\n",
    "\n",
    "That’s only about 1.46% of our test set."
   ]
  }
 ],
 "metadata": {
  "kernelspec": {
   "display_name": "Python [conda env:base] *",
   "language": "python",
   "name": "conda-base-py"
  },
  "language_info": {
   "codemirror_mode": {
    "name": "ipython",
    "version": 3
   },
   "file_extension": ".py",
   "mimetype": "text/x-python",
   "name": "python",
   "nbconvert_exporter": "python",
   "pygments_lexer": "ipython3",
   "version": "3.12.7"
  }
 },
 "nbformat": 4,
 "nbformat_minor": 5
}
