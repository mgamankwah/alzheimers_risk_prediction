{
 "cells": [
  {
   "cell_type": "markdown",
   "id": "9e30b66e-569d-4ee0-a570-b142997c97f6",
   "metadata": {},
   "source": [
    "# Introduction\n",
    "\n",
    "In this series of notebooks, we explored a variety of classification models to predict Alzheimer's diagnosis using the Kaggle dataset. We split the provided training set into an 80/20 split for training and validation. Multiple classifiers were trained on the training set, tested on the validation set, and compared against a baseline classifier that always predicts the majority class (i.e., non-Alzheimer’s, which makes up 65% of the dataset).\n",
    "\n",
    "The models evaluated include:\n",
    "\n",
    "- Logistic Regression\n",
    "- K-Nearest Neighbors (KNN)\n",
    "- Decision Trees\n",
    "- Gaussian Naǐve Bayes\n",
    "- Linear Discriminant Analysis (LDA)\n",
    "- Quadratic Discriminant Analysis (QDA)\n",
    "- Support Vector Machines (SVM)\n",
    "- Stochastic Gradient Descent Classifier\n",
    "- Random Forest\n",
    "- Gradient Boosting\n",
    "- Adaptive Boosting (AdaBoost)\n",
    "- Extreme Gradient Boosting (XGBoost)\n",
    "\n",
    "Each model’s performance was assessed using **accuracy**, **precision**, **recall**, and **F1-score** across all features as well as specific feature subgroups (demographic, lifestyle, medical history, clinical scores, cognitive assessments, and symptoms). We also visualized confusion matrices for each model-feature combination to better interpret prediction outcomes.\n",
    "\n",
    "As an attempt toward early detection of Alzheimer’s, we also explored these models on a restricted subset of patients who reported no `MemoryComplaints`, to evaluate how well the models could detect early-stage or subtle cases of the disease. The same classification models and feature subsets were applied in this restricted analysis."
   ]
  }
 ],
 "metadata": {
  "kernelspec": {
   "display_name": "Python (erdos_spring_2025)",
   "language": "python",
   "name": "erdos_spring_2025"
  },
  "language_info": {
   "codemirror_mode": {
    "name": "ipython",
    "version": 3
   },
   "file_extension": ".py",
   "mimetype": "text/x-python",
   "name": "python",
   "nbconvert_exporter": "python",
   "pygments_lexer": "ipython3",
   "version": "3.12.8"
  }
 },
 "nbformat": 4,
 "nbformat_minor": 5
}
